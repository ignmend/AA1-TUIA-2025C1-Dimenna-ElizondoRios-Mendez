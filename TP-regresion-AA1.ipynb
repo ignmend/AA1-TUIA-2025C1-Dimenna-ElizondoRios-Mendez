{
 "cells": [
  {
   "metadata": {},
   "cell_type": "markdown",
   "source": "Importamos las librerias necesarias.",
   "id": "92a168f5e53c267e"
  },
  {
   "metadata": {
    "ExecuteTime": {
     "end_time": "2025-09-23T19:41:01.410904Z",
     "start_time": "2025-09-23T19:41:01.406372Z"
    }
   },
   "cell_type": "code",
   "source": [
    "#Librerias para Analisis exploratorio\n",
    "import pandas as pd\n",
    "import numpy as np\n",
    "\n",
    "#Libreria para ver los dias feriados\n",
    "import holidays\n",
    "\n",
    "#Libreria para calcular distancia entre dos puntos.\n",
    "from geopy.distance import geodesic\n",
    "\n",
    "import seaborn as sns\n",
    "import matplotlib.pyplot as plt\n",
    "\n",
    "from datetime import datetime as dt\n",
    "\n",
    "\n",
    "import plotly.express as px\n",
    "import plotly.graph_objects as go\n",
    "import plotly.figure_factory as ff\n",
    "\n",
    "from sklearn.model_selection import train_test_split\n",
    "from sklearn.preprocessing import StandardScaler, OneHotEncoder   # u otros scalers\n",
    "from sklearn.linear_model import LinearRegression, Lasso, Ridge, ElasticNet, LassoCV, RidgeCV, ElasticNetCV\n",
    "from sklearn.impute import KNNImputer\n",
    "\n",
    "from sklearn.metrics import mean_squared_error, r2_score"
   ],
   "id": "initial_id",
   "outputs": [],
   "execution_count": 73
  },
  {
   "metadata": {},
   "cell_type": "markdown",
   "source": "Se carga el Dataset de los viajes de uber y el Dataset generado por la función ObtenerClima y se mergean para obtener Temperatura, Humedad y Precipitaciones.",
   "id": "d7aca9d8ec84aa01"
  },
  {
   "metadata": {
    "ExecuteTime": {
     "end_time": "2025-09-23T19:41:04.680747Z",
     "start_time": "2025-09-23T19:41:01.433284Z"
    }
   },
   "cell_type": "code",
   "source": [
    "\n",
    "df_uber = pd.read_csv(\"uber_fares.csv\")\n",
    "df_clima = pd.read_csv(\"clima_nyc.csv\")\n",
    "\n",
    "# Convierto los dos al mismo formato ya que son diferentes tipos de fechas.\n",
    "df_uber[\"pickup_datetime\"] = pd.to_datetime(df_uber[\"pickup_datetime\"], utc=True)\n",
    "df_uber[\"datetime\"] = df_uber[\"pickup_datetime\"].dt.floor(\"h\").dt.tz_convert(None)\n",
    "\n",
    "df_clima[\"datetime\"] = pd.to_datetime(df_clima[\"datetime\"])\n",
    "df_clima[\"datetime\"] = df_clima[\"datetime\"].dt.floor(\"h\")\n",
    "\n",
    "df_uber = pd.merge(\n",
    "    df_uber,\n",
    "    df_clima,\n",
    "    how=\"left\"\n",
    ")\n",
    "\n",
    "\n",
    "print(df_uber.head())\n"
   ],
   "id": "9221a7ee5943b5e1",
   "outputs": [
    {
     "name": "stdout",
     "output_type": "stream",
     "text": [
      "        key                           date  fare_amount  \\\n",
      "0  24238194    2015-05-07 19:52:06.0000003          7.5   \n",
      "1  27835199    2009-07-17 20:04:56.0000002          7.7   \n",
      "2  44984355   2009-08-24 21:45:00.00000061         12.9   \n",
      "3  25894730    2009-06-26 08:22:21.0000001          5.3   \n",
      "4  17610152  2014-08-28 17:47:00.000000188         16.0   \n",
      "\n",
      "            pickup_datetime  pickup_longitude  pickup_latitude  \\\n",
      "0 2015-05-07 19:52:06+00:00        -73.999817        40.738354   \n",
      "1 2009-07-17 20:04:56+00:00        -73.994355        40.728225   \n",
      "2 2009-08-24 21:45:00+00:00        -74.005043        40.740770   \n",
      "3 2009-06-26 08:22:21+00:00        -73.976124        40.790844   \n",
      "4 2014-08-28 17:47:00+00:00        -73.925023        40.744085   \n",
      "\n",
      "   dropoff_longitude  dropoff_latitude  passenger_count            datetime  \\\n",
      "0         -73.999512         40.723217                1 2015-05-07 19:00:00   \n",
      "1         -73.994710         40.750325                1 2009-07-17 20:00:00   \n",
      "2         -73.962565         40.772647                1 2009-08-24 21:00:00   \n",
      "3         -73.965316         40.803349                3 2009-06-26 08:00:00   \n",
      "4         -73.973082         40.761247                5 2014-08-28 17:00:00   \n",
      "\n",
      "   temperature  humidity  rain_bool  year  \n",
      "0         19.0        52      False  2015  \n",
      "1         23.6        84      False  2009  \n",
      "2         24.6        71      False  2009  \n",
      "3         21.9        85      False  2009  \n",
      "4         26.2        35      False  2014  \n"
     ]
    }
   ],
   "execution_count": 74
  },
  {
   "metadata": {
    "ExecuteTime": {
     "end_time": "2025-09-23T19:41:04.853590Z",
     "start_time": "2025-09-23T19:41:04.689854Z"
    }
   },
   "cell_type": "code",
   "source": [
    "#Hacemos la diferencia entre las columnas fechas para verificar que no hay diferencias.\n",
    "# date: es un datetime64[ns] con precisión de nanosegundos .\n",
    "#pickup_datetime: está en formato datetime64[ns, UTC]\n",
    "\n",
    "df_uber[\"pickup_datetime\"] = pd.to_datetime(df_uber[\"pickup_datetime\"], utc=True)\n",
    "df_uber[\"date\"] = pd.to_datetime(df_uber[\"date\"], utc=True)\n",
    "\n",
    "df_uber[\"pickup_datetime\"] = df_uber[\"pickup_datetime\"].dt.tz_convert(None)\n",
    "df_uber[\"date\"] = df_uber[\"date\"].dt.tz_convert(None)\n",
    "\n",
    "df_uber[\"diff\"] =  df_uber[\"date\"]-df_uber[\"pickup_datetime\"]\n",
    "\n",
    "print(df_uber[\"diff\"].head())\n"
   ],
   "id": "2e2a55f4dc13f9c2",
   "outputs": [
    {
     "name": "stdout",
     "output_type": "stream",
     "text": [
      "0   0 days 00:00:00.000000300\n",
      "1   0 days 00:00:00.000000200\n",
      "2   0 days 00:00:00.000000610\n",
      "3   0 days 00:00:00.000000100\n",
      "4   0 days 00:00:00.000000188\n",
      "Name: diff, dtype: timedelta64[ns]\n"
     ]
    }
   ],
   "execution_count": 75
  },
  {
   "metadata": {},
   "cell_type": "markdown",
   "source": "",
   "id": "de140abed9f24fd7"
  },
  {
   "metadata": {
    "ExecuteTime": {
     "end_time": "2025-09-23T19:41:04.878966Z",
     "start_time": "2025-09-23T19:41:04.862750Z"
    }
   },
   "cell_type": "code",
   "source": [
    "#Visualizamos el tipo de datos de cada columna, el tamano del df\n",
    "df_uber.info()"
   ],
   "id": "166c5517f06c882",
   "outputs": [
    {
     "name": "stdout",
     "output_type": "stream",
     "text": [
      "<class 'pandas.core.frame.DataFrame'>\n",
      "RangeIndex: 200000 entries, 0 to 199999\n",
      "Data columns (total 15 columns):\n",
      " #   Column             Non-Null Count   Dtype          \n",
      "---  ------             --------------   -----          \n",
      " 0   key                200000 non-null  int64          \n",
      " 1   date               200000 non-null  datetime64[ns] \n",
      " 2   fare_amount        200000 non-null  float64        \n",
      " 3   pickup_datetime    200000 non-null  datetime64[ns] \n",
      " 4   pickup_longitude   200000 non-null  float64        \n",
      " 5   pickup_latitude    200000 non-null  float64        \n",
      " 6   dropoff_longitude  199999 non-null  float64        \n",
      " 7   dropoff_latitude   199999 non-null  float64        \n",
      " 8   passenger_count    200000 non-null  int64          \n",
      " 9   datetime           200000 non-null  datetime64[ns] \n",
      " 10  temperature        200000 non-null  float64        \n",
      " 11  humidity           200000 non-null  int64          \n",
      " 12  rain_bool          200000 non-null  bool           \n",
      " 13  year               200000 non-null  int64          \n",
      " 14  diff               200000 non-null  timedelta64[ns]\n",
      "dtypes: bool(1), datetime64[ns](3), float64(6), int64(4), timedelta64[ns](1)\n",
      "memory usage: 21.6 MB\n"
     ]
    }
   ],
   "execution_count": 76
  },
  {
   "metadata": {
    "ExecuteTime": {
     "end_time": "2025-09-23T19:41:04.936168Z",
     "start_time": "2025-09-23T19:41:04.914098Z"
    }
   },
   "cell_type": "code",
   "source": [
    "#Se eliminan los montos negativos.\n",
    "len1 = len(df_uber)\n",
    "\n",
    "df_uber = df_uber[df_uber['fare_amount'] > 0]\n",
    "print(f'Filas eliminadas: {len1 - len(df_uber)} ')"
   ],
   "id": "63f9421a89347162",
   "outputs": [
    {
     "name": "stdout",
     "output_type": "stream",
     "text": [
      "Filas eliminadas: 22 \n"
     ]
    }
   ],
   "execution_count": 77
  },
  {
   "metadata": {
    "ExecuteTime": {
     "end_time": "2025-09-23T19:41:04.968441Z",
     "start_time": "2025-09-23T19:41:04.952785Z"
    }
   },
   "cell_type": "code",
   "source": "df_uber.head()",
   "id": "bd1790e984ba0f14",
   "outputs": [
    {
     "data": {
      "text/plain": [
       "        key                          date  fare_amount     pickup_datetime  \\\n",
       "0  24238194 2015-05-07 19:52:06.000000300          7.5 2015-05-07 19:52:06   \n",
       "1  27835199 2009-07-17 20:04:56.000000200          7.7 2009-07-17 20:04:56   \n",
       "2  44984355 2009-08-24 21:45:00.000000610         12.9 2009-08-24 21:45:00   \n",
       "3  25894730 2009-06-26 08:22:21.000000100          5.3 2009-06-26 08:22:21   \n",
       "4  17610152 2014-08-28 17:47:00.000000188         16.0 2014-08-28 17:47:00   \n",
       "\n",
       "   pickup_longitude  pickup_latitude  dropoff_longitude  dropoff_latitude  \\\n",
       "0        -73.999817        40.738354         -73.999512         40.723217   \n",
       "1        -73.994355        40.728225         -73.994710         40.750325   \n",
       "2        -74.005043        40.740770         -73.962565         40.772647   \n",
       "3        -73.976124        40.790844         -73.965316         40.803349   \n",
       "4        -73.925023        40.744085         -73.973082         40.761247   \n",
       "\n",
       "   passenger_count            datetime  temperature  humidity  rain_bool  \\\n",
       "0                1 2015-05-07 19:00:00         19.0        52      False   \n",
       "1                1 2009-07-17 20:00:00         23.6        84      False   \n",
       "2                1 2009-08-24 21:00:00         24.6        71      False   \n",
       "3                3 2009-06-26 08:00:00         21.9        85      False   \n",
       "4                5 2014-08-28 17:00:00         26.2        35      False   \n",
       "\n",
       "   year                      diff  \n",
       "0  2015 0 days 00:00:00.000000300  \n",
       "1  2009 0 days 00:00:00.000000200  \n",
       "2  2009 0 days 00:00:00.000000610  \n",
       "3  2009 0 days 00:00:00.000000100  \n",
       "4  2014 0 days 00:00:00.000000188  "
      ],
      "text/html": [
       "<div>\n",
       "<style scoped>\n",
       "    .dataframe tbody tr th:only-of-type {\n",
       "        vertical-align: middle;\n",
       "    }\n",
       "\n",
       "    .dataframe tbody tr th {\n",
       "        vertical-align: top;\n",
       "    }\n",
       "\n",
       "    .dataframe thead th {\n",
       "        text-align: right;\n",
       "    }\n",
       "</style>\n",
       "<table border=\"1\" class=\"dataframe\">\n",
       "  <thead>\n",
       "    <tr style=\"text-align: right;\">\n",
       "      <th></th>\n",
       "      <th>key</th>\n",
       "      <th>date</th>\n",
       "      <th>fare_amount</th>\n",
       "      <th>pickup_datetime</th>\n",
       "      <th>pickup_longitude</th>\n",
       "      <th>pickup_latitude</th>\n",
       "      <th>dropoff_longitude</th>\n",
       "      <th>dropoff_latitude</th>\n",
       "      <th>passenger_count</th>\n",
       "      <th>datetime</th>\n",
       "      <th>temperature</th>\n",
       "      <th>humidity</th>\n",
       "      <th>rain_bool</th>\n",
       "      <th>year</th>\n",
       "      <th>diff</th>\n",
       "    </tr>\n",
       "  </thead>\n",
       "  <tbody>\n",
       "    <tr>\n",
       "      <th>0</th>\n",
       "      <td>24238194</td>\n",
       "      <td>2015-05-07 19:52:06.000000300</td>\n",
       "      <td>7.5</td>\n",
       "      <td>2015-05-07 19:52:06</td>\n",
       "      <td>-73.999817</td>\n",
       "      <td>40.738354</td>\n",
       "      <td>-73.999512</td>\n",
       "      <td>40.723217</td>\n",
       "      <td>1</td>\n",
       "      <td>2015-05-07 19:00:00</td>\n",
       "      <td>19.0</td>\n",
       "      <td>52</td>\n",
       "      <td>False</td>\n",
       "      <td>2015</td>\n",
       "      <td>0 days 00:00:00.000000300</td>\n",
       "    </tr>\n",
       "    <tr>\n",
       "      <th>1</th>\n",
       "      <td>27835199</td>\n",
       "      <td>2009-07-17 20:04:56.000000200</td>\n",
       "      <td>7.7</td>\n",
       "      <td>2009-07-17 20:04:56</td>\n",
       "      <td>-73.994355</td>\n",
       "      <td>40.728225</td>\n",
       "      <td>-73.994710</td>\n",
       "      <td>40.750325</td>\n",
       "      <td>1</td>\n",
       "      <td>2009-07-17 20:00:00</td>\n",
       "      <td>23.6</td>\n",
       "      <td>84</td>\n",
       "      <td>False</td>\n",
       "      <td>2009</td>\n",
       "      <td>0 days 00:00:00.000000200</td>\n",
       "    </tr>\n",
       "    <tr>\n",
       "      <th>2</th>\n",
       "      <td>44984355</td>\n",
       "      <td>2009-08-24 21:45:00.000000610</td>\n",
       "      <td>12.9</td>\n",
       "      <td>2009-08-24 21:45:00</td>\n",
       "      <td>-74.005043</td>\n",
       "      <td>40.740770</td>\n",
       "      <td>-73.962565</td>\n",
       "      <td>40.772647</td>\n",
       "      <td>1</td>\n",
       "      <td>2009-08-24 21:00:00</td>\n",
       "      <td>24.6</td>\n",
       "      <td>71</td>\n",
       "      <td>False</td>\n",
       "      <td>2009</td>\n",
       "      <td>0 days 00:00:00.000000610</td>\n",
       "    </tr>\n",
       "    <tr>\n",
       "      <th>3</th>\n",
       "      <td>25894730</td>\n",
       "      <td>2009-06-26 08:22:21.000000100</td>\n",
       "      <td>5.3</td>\n",
       "      <td>2009-06-26 08:22:21</td>\n",
       "      <td>-73.976124</td>\n",
       "      <td>40.790844</td>\n",
       "      <td>-73.965316</td>\n",
       "      <td>40.803349</td>\n",
       "      <td>3</td>\n",
       "      <td>2009-06-26 08:00:00</td>\n",
       "      <td>21.9</td>\n",
       "      <td>85</td>\n",
       "      <td>False</td>\n",
       "      <td>2009</td>\n",
       "      <td>0 days 00:00:00.000000100</td>\n",
       "    </tr>\n",
       "    <tr>\n",
       "      <th>4</th>\n",
       "      <td>17610152</td>\n",
       "      <td>2014-08-28 17:47:00.000000188</td>\n",
       "      <td>16.0</td>\n",
       "      <td>2014-08-28 17:47:00</td>\n",
       "      <td>-73.925023</td>\n",
       "      <td>40.744085</td>\n",
       "      <td>-73.973082</td>\n",
       "      <td>40.761247</td>\n",
       "      <td>5</td>\n",
       "      <td>2014-08-28 17:00:00</td>\n",
       "      <td>26.2</td>\n",
       "      <td>35</td>\n",
       "      <td>False</td>\n",
       "      <td>2014</td>\n",
       "      <td>0 days 00:00:00.000000188</td>\n",
       "    </tr>\n",
       "  </tbody>\n",
       "</table>\n",
       "</div>"
      ]
     },
     "execution_count": 78,
     "metadata": {},
     "output_type": "execute_result"
    }
   ],
   "execution_count": 78
  },
  {
   "metadata": {
    "ExecuteTime": {
     "end_time": "2025-09-23T19:41:05.022437Z",
     "start_time": "2025-09-23T19:41:05.006818Z"
    }
   },
   "cell_type": "code",
   "source": [
    "#Contamos los nulos para cada columna.\n",
    "nulos_por_columna = df_uber.isnull().sum()\n",
    "\n",
    "print(nulos_por_columna)\n"
   ],
   "id": "f0eee0c1fe0f90de",
   "outputs": [
    {
     "name": "stdout",
     "output_type": "stream",
     "text": [
      "key                  0\n",
      "date                 0\n",
      "fare_amount          0\n",
      "pickup_datetime      0\n",
      "pickup_longitude     0\n",
      "pickup_latitude      0\n",
      "dropoff_longitude    1\n",
      "dropoff_latitude     1\n",
      "passenger_count      0\n",
      "datetime             0\n",
      "temperature          0\n",
      "humidity             0\n",
      "rain_bool            0\n",
      "year                 0\n",
      "diff                 0\n",
      "dtype: int64\n"
     ]
    }
   ],
   "execution_count": 79
  },
  {
   "metadata": {
    "ExecuteTime": {
     "end_time": "2025-09-23T19:41:06.607707Z",
     "start_time": "2025-09-23T19:41:05.057221Z"
    }
   },
   "cell_type": "code",
   "source": [
    "#Ploteamos la latitud y longitud para ver que puntos estan fuera de rango.\n",
    "plt.figure(figsize=(8,8))\n",
    "plt.scatter(\n",
    "    df_uber[\"pickup_longitude\"], df_uber[\"pickup_latitude\"],\n",
    "    c=\"blue\", s=1, alpha=0.5, label=\"Pickups\"\n",
    ")\n",
    "plt.scatter(\n",
    "    df_uber[\"dropoff_longitude\"], df_uber[\"dropoff_latitude\"],\n",
    "    c=\"red\", s=1, alpha=0.5, label=\"Dropoffs\"\n",
    ")\n",
    "\n",
    "plt.xlabel(\"Longitud\")\n",
    "plt.ylabel(\"Latitud\")\n",
    "plt.legend()\n",
    "plt.title(\"Puntos geográficos de viajes en NYC\")\n",
    "#Se limitan los ejes para poder ver en escala.\n",
    "#plt.xlim(-70, -90)\n",
    "#plt.ylim(40.5, 41.0)\n",
    "plt.show()\n"
   ],
   "id": "ad8b0fff6fb88381",
   "outputs": [
    {
     "data": {
      "text/plain": [
       "<Figure size 800x800 with 1 Axes>"
      ],
      "image/png": "[encoded data removed]"
     },
     "metadata": {},
     "output_type": "display_data"
    }
   ],
   "execution_count": 80
  },
  {
   "metadata": {
    "ExecuteTime": {
     "end_time": "2025-09-23T19:41:11.685232Z",
     "start_time": "2025-09-23T19:41:06.616944Z"
    }
   },
   "cell_type": "code",
   "source": [
    "# Utilizamos una funcion auxiliar para validar que la latitud y la longitud sean coordenadas que pertenecientes a la ciudad de new york, si no es así, reemplazamos por nulos para luego rellenarlos con el metodo de knn\n",
    "\n",
    "def es_coord_ny(lat, lon):\n",
    "    \"\"\"\n",
    "    Valida si una coordenada está dentro de los límites de NYC mas\n",
    "    un radio de 50 km para viajes por fuera.\n",
    "    \"\"\"\n",
    "    return (40.5 <= lat <= 41.0) and (-74.3 <= lon <= -73.6)\n",
    "\n",
    "\n",
    "# Aplico es_coord True: Dentro NYC False:Fuera NYC (Valido Lat, Long)\n",
    "df_uber[\"pickup_en_ny\"] = df_uber.apply(lambda row: es_coord_ny(row[\"pickup_latitude\"], row[\"pickup_longitude\"]), axis=1)\n",
    "df_uber[\"dropoff_en_ny\"] = df_uber.apply(lambda row: es_coord_ny(row[\"dropoff_latitude\"], row[\"dropoff_longitude\"]), axis=1)\n",
    "\n",
    "#  Valido punto de partida y llegada dentro de la zona definida.\n",
    "df_uber[\"viaje_en_ny\"] = df_uber[\"pickup_en_ny\"] & df_uber[\"dropoff_en_ny\"]\n",
    "df_uber.describe()"
   ],
   "id": "fc529ed171a63b89",
   "outputs": [
    {
     "data": {
      "text/plain": [
       "                key                           date    fare_amount  \\\n",
       "count  1.999780e+05                         199978  199978.000000   \n",
       "mean   2.771229e+07  2012-03-22 14:08:03.544570368      11.362649   \n",
       "min    1.000000e+00  2009-01-01 01:15:22.000000600       0.010000   \n",
       "25%    1.382519e+07            2010-08-25 09:17:00       6.000000   \n",
       "50%    2.774518e+07  2012-03-21 20:28:03.500000512       8.500000   \n",
       "75%    4.155540e+07  2013-10-19 01:02:24.250000384      12.500000   \n",
       "max    5.542357e+07  2015-06-30 23:40:39.000000100     499.000000   \n",
       "std    1.601400e+07                            NaN       9.897079   \n",
       "\n",
       "                     pickup_datetime  pickup_longitude  pickup_latitude  \\\n",
       "count                         199978     199978.000000    199978.000000   \n",
       "mean   2012-03-22 14:08:03.544569600        -72.527851        39.935999   \n",
       "min              2009-01-01 01:15:22      -1340.648410       -74.015515   \n",
       "25%              2010-08-25 09:17:00        -73.992065        40.734795   \n",
       "50%       2012-03-21 20:28:03.500000        -73.981823        40.752592   \n",
       "75%    2013-10-19 01:02:24.249999872        -73.967155        40.767158   \n",
       "max              2015-06-30 23:40:39         57.418457      1644.421482   \n",
       "std                              NaN         11.437257         7.720443   \n",
       "\n",
       "       dropoff_longitude  dropoff_latitude  passenger_count  \\\n",
       "count      199977.000000     199977.000000    199978.000000   \n",
       "mean          -72.526243         39.924410         1.684480   \n",
       "min         -3356.666300       -881.985513         0.000000   \n",
       "25%           -73.991407         40.733825         1.000000   \n",
       "50%           -73.980093         40.753042         1.000000   \n",
       "75%           -73.963659         40.768001         2.000000   \n",
       "max          1153.572603        872.697628       208.000000   \n",
       "std            13.115114          6.793438         1.385974   \n",
       "\n",
       "                            datetime    temperature       humidity  \\\n",
       "count                         199978  199978.000000  199978.000000   \n",
       "mean   2012-03-22 13:38:15.702526976      12.006642      68.128394   \n",
       "min              2009-01-01 01:00:00     -20.200000      17.000000   \n",
       "25%              2010-08-25 09:00:00       3.900000      53.000000   \n",
       "50%              2012-03-21 20:00:00      12.500000      69.000000   \n",
       "75%              2013-10-19 01:00:00      20.500000      84.000000   \n",
       "max              2015-06-30 23:00:00      38.600000     100.000000   \n",
       "std                              NaN      10.391706      18.589683   \n",
       "\n",
       "                year                       diff  \n",
       "count  199978.000000                     199978  \n",
       "mean     2011.742307  0 days 00:00:00.000000308  \n",
       "min      2009.000000  0 days 00:00:00.000000100  \n",
       "25%      2010.000000  0 days 00:00:00.000000136  \n",
       "50%      2012.000000  0 days 00:00:00.000000200  \n",
       "75%      2013.000000  0 days 00:00:00.000000400  \n",
       "max      2015.000000  0 days 00:00:00.000000990  \n",
       "std         1.856277  0 days 00:00:00.000000222  "
      ],
      "text/html": [
       "<div>\n",
       "<style scoped>\n",
       "    .dataframe tbody tr th:only-of-type {\n",
       "        vertical-align: middle;\n",
       "    }\n",
       "\n",
       "    .dataframe tbody tr th {\n",
       "        vertical-align: top;\n",
       "    }\n",
       "\n",
       "    .dataframe thead th {\n",
       "        text-align: right;\n",
       "    }\n",
       "</style>\n",
       "<table border=\"1\" class=\"dataframe\">\n",
       "  <thead>\n",
       "    <tr style=\"text-align: right;\">\n",
       "      <th></th>\n",
       "      <th>key</th>\n",
       "      <th>date</th>\n",
       "      <th>fare_amount</th>\n",
       "      <th>pickup_datetime</th>\n",
       "      <th>pickup_longitude</th>\n",
       "      <th>pickup_latitude</th>\n",
       "      <th>dropoff_longitude</th>\n",
       "      <th>dropoff_latitude</th>\n",
       "      <th>passenger_count</th>\n",
       "      <th>datetime</th>\n",
       "      <th>temperature</th>\n",
       "      <th>humidity</th>\n",
       "      <th>year</th>\n",
       "      <th>diff</th>\n",
       "    </tr>\n",
       "  </thead>\n",
       "  <tbody>\n",
       "    <tr>\n",
       "      <th>count</th>\n",
       "      <td>1.999780e+05</td>\n",
       "      <td>199978</td>\n",
       "      <td>199978.000000</td>\n",
       "      <td>199978</td>\n",
       "      <td>199978.000000</td>\n",
       "      <td>199978.000000</td>\n",
       "      <td>199977.000000</td>\n",
       "      <td>199977.000000</td>\n",
       "      <td>199978.000000</td>\n",
       "      <td>199978</td>\n",
       "      <td>199978.000000</td>\n",
       "      <td>199978.000000</td>\n",
       "      <td>199978.000000</td>\n",
       "      <td>199978</td>\n",
       "    </tr>\n",
       "    <tr>\n",
       "      <th>mean</th>\n",
       "      <td>2.771229e+07</td>\n",
       "      <td>2012-03-22 14:08:03.544570368</td>\n",
       "      <td>11.362649</td>\n",
       "      <td>2012-03-22 14:08:03.544569600</td>\n",
       "      <td>-72.527851</td>\n",
       "      <td>39.935999</td>\n",
       "      <td>-72.526243</td>\n",
       "      <td>39.924410</td>\n",
       "      <td>1.684480</td>\n",
       "      <td>2012-03-22 13:38:15.702526976</td>\n",
       "      <td>12.006642</td>\n",
       "      <td>68.128394</td>\n",
       "      <td>2011.742307</td>\n",
       "      <td>0 days 00:00:00.000000308</td>\n",
       "    </tr>\n",
       "    <tr>\n",
       "      <th>min</th>\n",
       "      <td>1.000000e+00</td>\n",
       "      <td>2009-01-01 01:15:22.000000600</td>\n",
       "      <td>0.010000</td>\n",
       "      <td>2009-01-01 01:15:22</td>\n",
       "      <td>-1340.648410</td>\n",
       "      <td>-74.015515</td>\n",
       "      <td>-3356.666300</td>\n",
       "      <td>-881.985513</td>\n",
       "      <td>0.000000</td>\n",
       "      <td>2009-01-01 01:00:00</td>\n",
       "      <td>-20.200000</td>\n",
       "      <td>17.000000</td>\n",
       "      <td>2009.000000</td>\n",
       "      <td>0 days 00:00:00.000000100</td>\n",
       "    </tr>\n",
       "    <tr>\n",
       "      <th>25%</th>\n",
       "      <td>1.382519e+07</td>\n",
       "      <td>2010-08-25 09:17:00</td>\n",
       "      <td>6.000000</td>\n",
       "      <td>2010-08-25 09:17:00</td>\n",
       "      <td>-73.992065</td>\n",
       "      <td>40.734795</td>\n",
       "      <td>-73.991407</td>\n",
       "      <td>40.733825</td>\n",
       "      <td>1.000000</td>\n",
       "      <td>2010-08-25 09:00:00</td>\n",
       "      <td>3.900000</td>\n",
       "      <td>53.000000</td>\n",
       "      <td>2010.000000</td>\n",
       "      <td>0 days 00:00:00.000000136</td>\n",
       "    </tr>\n",
       "    <tr>\n",
       "      <th>50%</th>\n",
       "      <td>2.774518e+07</td>\n",
       "      <td>2012-03-21 20:28:03.500000512</td>\n",
       "      <td>8.500000</td>\n",
       "      <td>2012-03-21 20:28:03.500000</td>\n",
       "      <td>-73.981823</td>\n",
       "      <td>40.752592</td>\n",
       "      <td>-73.980093</td>\n",
       "      <td>40.753042</td>\n",
       "      <td>1.000000</td>\n",
       "      <td>2012-03-21 20:00:00</td>\n",
       "      <td>12.500000</td>\n",
       "      <td>69.000000</td>\n",
       "      <td>2012.000000</td>\n",
       "      <td>0 days 00:00:00.000000200</td>\n",
       "    </tr>\n",
       "    <tr>\n",
       "      <th>75%</th>\n",
       "      <td>4.155540e+07</td>\n",
       "      <td>2013-10-19 01:02:24.250000384</td>\n",
       "      <td>12.500000</td>\n",
       "      <td>2013-10-19 01:02:24.249999872</td>\n",
       "      <td>-73.967155</td>\n",
       "      <td>40.767158</td>\n",
       "      <td>-73.963659</td>\n",
       "      <td>40.768001</td>\n",
       "      <td>2.000000</td>\n",
       "      <td>2013-10-19 01:00:00</td>\n",
       "      <td>20.500000</td>\n",
       "      <td>84.000000</td>\n",
       "      <td>2013.000000</td>\n",
       "      <td>0 days 00:00:00.000000400</td>\n",
       "    </tr>\n",
       "    <tr>\n",
       "      <th>max</th>\n",
       "      <td>5.542357e+07</td>\n",
       "      <td>2015-06-30 23:40:39.000000100</td>\n",
       "      <td>499.000000</td>\n",
       "      <td>2015-06-30 23:40:39</td>\n",
       "      <td>57.418457</td>\n",
       "      <td>1644.421482</td>\n",
       "      <td>1153.572603</td>\n",
       "      <td>872.697628</td>\n",
       "      <td>208.000000</td>\n",
       "      <td>2015-06-30 23:00:00</td>\n",
       "      <td>38.600000</td>\n",
       "      <td>100.000000</td>\n",
       "      <td>2015.000000</td>\n",
       "      <td>0 days 00:00:00.000000990</td>\n",
       "    </tr>\n",
       "    <tr>\n",
       "      <th>std</th>\n",
       "      <td>1.601400e+07</td>\n",
       "      <td>NaN</td>\n",
       "      <td>9.897079</td>\n",
       "      <td>NaN</td>\n",
       "      <td>11.437257</td>\n",
       "      <td>7.720443</td>\n",
       "      <td>13.115114</td>\n",
       "      <td>6.793438</td>\n",
       "      <td>1.385974</td>\n",
       "      <td>NaN</td>\n",
       "      <td>10.391706</td>\n",
       "      <td>18.589683</td>\n",
       "      <td>1.856277</td>\n",
       "      <td>0 days 00:00:00.000000222</td>\n",
       "    </tr>\n",
       "  </tbody>\n",
       "</table>\n",
       "</div>"
      ]
     },
     "execution_count": 81,
     "metadata": {},
     "output_type": "execute_result"
    }
   ],
   "execution_count": 81
  },
  {
   "metadata": {
    "ExecuteTime": {
     "end_time": "2025-09-23T19:41:11.712627Z",
     "start_time": "2025-09-23T19:41:11.705729Z"
    }
   },
   "cell_type": "code",
   "source": [
    "#Vemos que 4121 coordenadas de pickup estan fuera de los limites de new york\n",
    "df_uber[\"pickup_en_ny\"].value_counts()\n"
   ],
   "id": "d9984ffedb8b1f8d",
   "outputs": [
    {
     "data": {
      "text/plain": [
       "pickup_en_ny\n",
       "True     195858\n",
       "False      4120\n",
       "Name: count, dtype: int64"
      ]
     },
     "execution_count": 82,
     "metadata": {},
     "output_type": "execute_result"
    }
   ],
   "execution_count": 82
  },
  {
   "metadata": {
    "ExecuteTime": {
     "end_time": "2025-09-23T19:41:11.746095Z",
     "start_time": "2025-09-23T19:41:11.738345Z"
    }
   },
   "cell_type": "code",
   "source": [
    "#Vemos que 4121 coordenadas de dropoff estan fuera de los limites de new york\n",
    "df_uber[\"dropoff_en_ny\"].value_counts()\n"
   ],
   "id": "891c7c2df0b6d9ff",
   "outputs": [
    {
     "data": {
      "text/plain": [
       "dropoff_en_ny\n",
       "True     195860\n",
       "False      4118\n",
       "Name: count, dtype: int64"
      ]
     },
     "execution_count": 83,
     "metadata": {},
     "output_type": "execute_result"
    }
   ],
   "execution_count": 83
  },
  {
   "metadata": {
    "ExecuteTime": {
     "end_time": "2025-09-23T19:41:11.769813Z",
     "start_time": "2025-09-23T19:41:11.759243Z"
    }
   },
   "cell_type": "code",
   "source": [
    "#Reemplamos las coordenadas fuera de zona por valores NULOS para luego rellenarlos con knn.\n",
    "\n",
    "\n",
    "df_uber.loc[~df_uber[\"pickup_en_ny\"], [\"pickup_latitude\", \"pickup_longitude\"]] = np.nan\n",
    "\n",
    "df_uber.loc[~df_uber[\"dropoff_en_ny\"], [\"dropoff_latitude\", \"dropoff_longitude\"]] = np.nan\n"
   ],
   "id": "cf9aabf227ac8ef0",
   "outputs": [],
   "execution_count": 84
  },
  {
   "metadata": {
    "ExecuteTime": {
     "end_time": "2025-09-23T19:41:11.793585Z",
     "start_time": "2025-09-23T19:41:11.781357Z"
    }
   },
   "cell_type": "code",
   "source": [
    "#Contamos los nulos nuevamente y verificamos que las coordenadas fuera de zona se encuentran nulas.\n",
    "nulos_por_columna = df_uber.isnull().sum()\n",
    "\n",
    "print(nulos_por_columna)"
   ],
   "id": "607732f7cc3fc624",
   "outputs": [
    {
     "name": "stdout",
     "output_type": "stream",
     "text": [
      "key                     0\n",
      "date                    0\n",
      "fare_amount             0\n",
      "pickup_datetime         0\n",
      "pickup_longitude     4120\n",
      "pickup_latitude      4120\n",
      "dropoff_longitude    4118\n",
      "dropoff_latitude     4118\n",
      "passenger_count         0\n",
      "datetime                0\n",
      "temperature             0\n",
      "humidity                0\n",
      "rain_bool               0\n",
      "year                    0\n",
      "diff                    0\n",
      "pickup_en_ny            0\n",
      "dropoff_en_ny           0\n",
      "viaje_en_ny             0\n",
      "dtype: int64\n"
     ]
    }
   ],
   "execution_count": 85
  },
  {
   "metadata": {
    "ExecuteTime": {
     "end_time": "2025-09-23T19:41:11.815882Z",
     "start_time": "2025-09-23T19:41:11.810759Z"
    }
   },
   "cell_type": "code",
   "source": [
    "#Verificamos nuevamente el tamanio\n",
    "df_uber.shape"
   ],
   "id": "ab8bbde3ccda0cbe",
   "outputs": [
    {
     "data": {
      "text/plain": [
       "(199978, 18)"
      ]
     },
     "execution_count": 86,
     "metadata": {},
     "output_type": "execute_result"
    }
   ],
   "execution_count": 86
  },
  {
   "metadata": {
    "ExecuteTime": {
     "end_time": "2025-09-23T19:41:11.912207Z",
     "start_time": "2025-09-23T19:41:11.873151Z"
    }
   },
   "cell_type": "code",
   "source": [
    "#Se crea df1 copia del df con las coordenadas validadas.\n",
    "df1 = df_uber.copy()\n",
    "df1.info()"
   ],
   "id": "bd332a2f798b30c6",
   "outputs": [
    {
     "name": "stdout",
     "output_type": "stream",
     "text": [
      "<class 'pandas.core.frame.DataFrame'>\n",
      "Index: 199978 entries, 0 to 199999\n",
      "Data columns (total 18 columns):\n",
      " #   Column             Non-Null Count   Dtype          \n",
      "---  ------             --------------   -----          \n",
      " 0   key                199978 non-null  int64          \n",
      " 1   date               199978 non-null  datetime64[ns] \n",
      " 2   fare_amount        199978 non-null  float64        \n",
      " 3   pickup_datetime    199978 non-null  datetime64[ns] \n",
      " 4   pickup_longitude   195858 non-null  float64        \n",
      " 5   pickup_latitude    195858 non-null  float64        \n",
      " 6   dropoff_longitude  195860 non-null  float64        \n",
      " 7   dropoff_latitude   195860 non-null  float64        \n",
      " 8   passenger_count    199978 non-null  int64          \n",
      " 9   datetime           199978 non-null  datetime64[ns] \n",
      " 10  temperature        199978 non-null  float64        \n",
      " 11  humidity           199978 non-null  int64          \n",
      " 12  rain_bool          199978 non-null  bool           \n",
      " 13  year               199978 non-null  int64          \n",
      " 14  diff               199978 non-null  timedelta64[ns]\n",
      " 15  pickup_en_ny       199978 non-null  bool           \n",
      " 16  dropoff_en_ny      199978 non-null  bool           \n",
      " 17  viaje_en_ny        199978 non-null  bool           \n",
      "dtypes: bool(4), datetime64[ns](3), float64(6), int64(4), timedelta64[ns](1)\n",
      "memory usage: 23.6 MB\n"
     ]
    }
   ],
   "execution_count": 87
  },
  {
   "metadata": {
    "ExecuteTime": {
     "end_time": "2025-09-23T19:41:11.962762Z",
     "start_time": "2025-09-23T19:41:11.951797Z"
    }
   },
   "cell_type": "code",
   "source": [
    "#Contamos los valores de los pasajeros\n",
    "df1[\"passenger_count\"].value_counts()\n"
   ],
   "id": "701c23ab1d36d35e",
   "outputs": [
    {
     "data": {
      "text/plain": [
       "passenger_count\n",
       "1      138414\n",
       "2       29424\n",
       "5       14005\n",
       "3        8878\n",
       "4        4276\n",
       "6        4271\n",
       "0         709\n",
       "208         1\n",
       "Name: count, dtype: int64"
      ]
     },
     "execution_count": 88,
     "metadata": {},
     "output_type": "execute_result"
    }
   ],
   "execution_count": 88
  },
  {
   "metadata": {
    "ExecuteTime": {
     "end_time": "2025-09-23T19:41:12.028075Z",
     "start_time": "2025-09-23T19:41:12.012817Z"
    }
   },
   "cell_type": "code",
   "source": [
    "# UberFlash (para envio de paqueteria) y UberXL para viajes de grupos de hasta 6 personas.\n",
    "#Por lo que el valor atipico en cantidad de pasajeros seria el de 208, que lo vamos a eliminar ya que solo aparece una vez\n",
    "\n",
    "\n",
    "df1.loc[(df1['passenger_count'] > 6) , 'passenger_count'] = 6\n",
    "df1[\"passenger_count\"].value_counts()\n"
   ],
   "id": "c7f2697ce954e0e5",
   "outputs": [
    {
     "data": {
      "text/plain": [
       "passenger_count\n",
       "1    138414\n",
       "2     29424\n",
       "5     14005\n",
       "3      8878\n",
       "4      4276\n",
       "6      4272\n",
       "0       709\n",
       "Name: count, dtype: int64"
      ]
     },
     "execution_count": 89,
     "metadata": {},
     "output_type": "execute_result"
    }
   ],
   "execution_count": 89
  },
  {
   "metadata": {
    "ExecuteTime": {
     "end_time": "2025-09-23T19:41:12.133422Z",
     "start_time": "2025-09-23T19:41:12.060294Z"
    }
   },
   "cell_type": "code",
   "source": [
    "#La variable pasajeros la tomaremos como category debido a que el modelo de negocio de uber se base en 3 categorias que determinan la tarifa: Uber Flash, Uber X y Uber XL.\n",
    "\n",
    "\n",
    "def categoria_uber(df):\n",
    "    \"\"\"\n",
    "    Recibe un DataFrame con la columna 'passenger_count'\n",
    "    y agrega una nueva columna 'categoria_uber' según la cantidad de pasajeros.\n",
    "    \"\"\"\n",
    "\n",
    "    def asignar_categoria(pasajeros):\n",
    "        if pasajeros == 0:\n",
    "            return \"Uber Flash\"\n",
    "        elif 1 <= pasajeros <= 4:\n",
    "            return \"Uber X\"\n",
    "        elif pasajeros > 4:\n",
    "            return \"Uber XL\"\n",
    "        else:\n",
    "            return \"Desconocido\"\n",
    "\n",
    "    df[\"categoria_uber\"] = df[\"passenger_count\"].apply(asignar_categoria)\n",
    "    return df\n",
    "df1 = categoria_uber(df1)\n",
    "print(df1)"
   ],
   "id": "5f3991c42a82301c",
   "outputs": [
    {
     "name": "stdout",
     "output_type": "stream",
     "text": [
      "             key                          date  fare_amount  \\\n",
      "0       24238194 2015-05-07 19:52:06.000000300          7.5   \n",
      "1       27835199 2009-07-17 20:04:56.000000200          7.7   \n",
      "2       44984355 2009-08-24 21:45:00.000000610         12.9   \n",
      "3       25894730 2009-06-26 08:22:21.000000100          5.3   \n",
      "4       17610152 2014-08-28 17:47:00.000000188         16.0   \n",
      "...          ...                           ...          ...   \n",
      "199995  42598914 2012-10-28 10:49:00.000000530          3.0   \n",
      "199996  16382965 2014-03-14 01:09:00.000000800          7.5   \n",
      "199997  27804658 2009-06-29 00:42:00.000000780         30.9   \n",
      "199998  20259894 2015-05-20 14:56:25.000000400         14.5   \n",
      "199999  11951496 2010-05-15 04:08:00.000000760         14.1   \n",
      "\n",
      "           pickup_datetime  pickup_longitude  pickup_latitude  \\\n",
      "0      2015-05-07 19:52:06        -73.999817        40.738354   \n",
      "1      2009-07-17 20:04:56        -73.994355        40.728225   \n",
      "2      2009-08-24 21:45:00        -74.005043        40.740770   \n",
      "3      2009-06-26 08:22:21        -73.976124        40.790844   \n",
      "4      2014-08-28 17:47:00        -73.925023        40.744085   \n",
      "...                    ...               ...              ...   \n",
      "199995 2012-10-28 10:49:00        -73.987042        40.739367   \n",
      "199996 2014-03-14 01:09:00        -73.984722        40.736837   \n",
      "199997 2009-06-29 00:42:00        -73.986017        40.756487   \n",
      "199998 2015-05-20 14:56:25        -73.997124        40.725452   \n",
      "199999 2010-05-15 04:08:00        -73.984395        40.720077   \n",
      "\n",
      "        dropoff_longitude  dropoff_latitude  passenger_count  \\\n",
      "0              -73.999512         40.723217                1   \n",
      "1              -73.994710         40.750325                1   \n",
      "2              -73.962565         40.772647                1   \n",
      "3              -73.965316         40.803349                3   \n",
      "4              -73.973082         40.761247                5   \n",
      "...                   ...               ...              ...   \n",
      "199995         -73.986525         40.740297                1   \n",
      "199996         -74.006672         40.739620                1   \n",
      "199997         -73.858957         40.692588                2   \n",
      "199998         -73.983215         40.695415                1   \n",
      "199999         -73.985508         40.768793                1   \n",
      "\n",
      "                  datetime  temperature  humidity  rain_bool  year  \\\n",
      "0      2015-05-07 19:00:00         19.0        52      False  2015   \n",
      "1      2009-07-17 20:00:00         23.6        84      False  2009   \n",
      "2      2009-08-24 21:00:00         24.6        71      False  2009   \n",
      "3      2009-06-26 08:00:00         21.9        85      False  2009   \n",
      "4      2014-08-28 17:00:00         26.2        35      False  2014   \n",
      "...                    ...          ...       ...        ...   ...   \n",
      "199995 2012-10-28 10:00:00         13.1        77      False  2012   \n",
      "199996 2014-03-14 01:00:00         -7.6        43      False  2014   \n",
      "199997 2009-06-29 00:00:00         20.8        88      False  2009   \n",
      "199998 2015-05-20 14:00:00         18.3        39      False  2015   \n",
      "199999 2010-05-15 04:00:00         17.2        74      False  2010   \n",
      "\n",
      "                            diff  pickup_en_ny  dropoff_en_ny  viaje_en_ny  \\\n",
      "0      0 days 00:00:00.000000300          True           True         True   \n",
      "1      0 days 00:00:00.000000200          True           True         True   \n",
      "2      0 days 00:00:00.000000610          True           True         True   \n",
      "3      0 days 00:00:00.000000100          True           True         True   \n",
      "4      0 days 00:00:00.000000188          True           True         True   \n",
      "...                          ...           ...            ...          ...   \n",
      "199995 0 days 00:00:00.000000530          True           True         True   \n",
      "199996 0 days 00:00:00.000000800          True           True         True   \n",
      "199997 0 days 00:00:00.000000780          True           True         True   \n",
      "199998 0 days 00:00:00.000000400          True           True         True   \n",
      "199999 0 days 00:00:00.000000760          True           True         True   \n",
      "\n",
      "       categoria_uber  \n",
      "0              Uber X  \n",
      "1              Uber X  \n",
      "2              Uber X  \n",
      "3              Uber X  \n",
      "4             Uber XL  \n",
      "...               ...  \n",
      "199995         Uber X  \n",
      "199996         Uber X  \n",
      "199997         Uber X  \n",
      "199998         Uber X  \n",
      "199999         Uber X  \n",
      "\n",
      "[199978 rows x 19 columns]\n"
     ]
    }
   ],
   "execution_count": 90
  },
  {
   "metadata": {
    "ExecuteTime": {
     "end_time": "2025-09-23T19:41:12.173657Z",
     "start_time": "2025-09-23T19:41:12.158597Z"
    }
   },
   "cell_type": "code",
   "source": "df1[\"categoria_uber\"].value_counts()\n",
   "id": "6ec1ac0114a0c97b",
   "outputs": [
    {
     "data": {
      "text/plain": [
       "categoria_uber\n",
       "Uber X        180992\n",
       "Uber XL        18277\n",
       "Uber Flash       709\n",
       "Name: count, dtype: int64"
      ]
     },
     "execution_count": 91,
     "metadata": {},
     "output_type": "execute_result"
    }
   ],
   "execution_count": 91
  },
  {
   "metadata": {
    "ExecuteTime": {
     "end_time": "2025-09-23T19:41:12.239191Z",
     "start_time": "2025-09-23T19:41:12.187600Z"
    }
   },
   "cell_type": "code",
   "source": [
    "#Se agrega una columna para extraer el dia de la semana en el que se hizo el viaje.Lunes= 0 y Domingo = 6\n",
    "df1['date'] = pd.to_datetime(df1['date'])\n",
    "\n",
    "df1['dia_de_la_semana'] = df1['date'].dt.weekday\n",
    "df1['dia_de_la_semana'].value_counts()"
   ],
   "id": "25ae9c56c43327f1",
   "outputs": [
    {
     "data": {
      "text/plain": [
       "dia_de_la_semana\n",
       "4    30874\n",
       "5    30250\n",
       "3    30018\n",
       "2    29034\n",
       "1    28121\n",
       "6    26439\n",
       "0    25242\n",
       "Name: count, dtype: int64"
      ]
     },
     "execution_count": 92,
     "metadata": {},
     "output_type": "execute_result"
    }
   ],
   "execution_count": 92
  },
  {
   "metadata": {
    "ExecuteTime": {
     "end_time": "2025-09-23T19:41:12.674702Z",
     "start_time": "2025-09-23T19:41:12.272189Z"
    }
   },
   "cell_type": "code",
   "source": [
    "#Graficamos la tabla de frecuencia por hora y dia de la semana para con el objetivo de conocer la distribucion\n",
    "\n",
    "# Extraer la hora de pickup_datetime\n",
    "df1[\"hour\"] = pd.to_datetime(df1[\"pickup_datetime\"]).dt.hour\n",
    "\n",
    "conteo = df1.groupby([\"dia_de_la_semana\", \"hour\"]).size().reset_index(name=\"viajes\")\n",
    "\n",
    "\n",
    "plt.figure(figsize=(12,6))\n",
    "for dia in conteo[\"dia_de_la_semana\"].unique():\n",
    "    subset = conteo[conteo[\"dia_de_la_semana\"] == dia]\n",
    "    plt.plot(subset[\"hour\"], subset[\"viajes\"], marker=\"o\", label=dia)\n",
    "\n",
    "plt.xlabel(\"Hora del día\")\n",
    "plt.ylabel(\"Cantidad de viajes\")\n",
    "plt.title(\"Frecuencia de viajes Uber por hora, segmentado por día de la semana\")\n",
    "plt.xticks(range(24))\n",
    "plt.legend(title=\"Día de la semana\")\n",
    "plt.show()\n",
    "\n",
    "\n"
   ],
   "id": "96013c6438210333",
   "outputs": [
    {
     "data": {
      "text/plain": [
       "<Figure size 1200x600 with 1 Axes>"
      ],
      "image/png": "[encoded data removed]"
     },
     "metadata": {},
     "output_type": "display_data"
    }
   ],
   "execution_count": 93
  },
  {
   "metadata": {
    "ExecuteTime": {
     "end_time": "2025-09-23T19:41:12.690106Z",
     "start_time": "2025-09-23T19:41:12.686749Z"
    }
   },
   "cell_type": "code",
   "source": "#Se puede observar como los Lunes, Martes, Miercoles y Jueves presentan casi la misma distribucion y como esto cambia para el viernes, sabado y domingo aunque siembre manteniendo la tendencia.\n",
   "id": "7b8f84f1789c68db",
   "outputs": [],
   "execution_count": 94
  },
  {
   "metadata": {
    "ExecuteTime": {
     "end_time": "2025-09-23T19:41:12.813964Z",
     "start_time": "2025-09-23T19:41:12.709727Z"
    }
   },
   "cell_type": "code",
   "source": [
    "#Se crea una columna para indicar la franja horaria donde ocurrio el viaje.\n",
    "\n",
    "df1['pickup_datetime'] = df1['date'].dt.hour\n",
    "df1\n",
    "def franja(hora):\n",
    "  if(0 <= hora <6):\n",
    "    return 'Madrugada'\n",
    "  elif(6<= hora <12):\n",
    "    return 'Mañana'\n",
    "  elif(12<= hora <18):\n",
    "    return 'Tarde'\n",
    "  elif(18<= hora <= 23):\n",
    "    return 'Noche'\n",
    "\n",
    "df1['franja_horaria'] = df1['pickup_datetime'].apply(franja)\n",
    "df1['franja_horaria'].value_counts()"
   ],
   "id": "508070d0921daf77",
   "outputs": [
    {
     "data": {
      "text/plain": [
       "franja_horaria\n",
       "Noche        68697\n",
       "Tarde        57380\n",
       "Mañana       48144\n",
       "Madrugada    25757\n",
       "Name: count, dtype: int64"
      ]
     },
     "execution_count": 95,
     "metadata": {},
     "output_type": "execute_result"
    }
   ],
   "execution_count": 95
  },
  {
   "metadata": {
    "ExecuteTime": {
     "end_time": "2025-09-23T19:41:12.954866Z",
     "start_time": "2025-09-23T19:41:12.823727Z"
    }
   },
   "cell_type": "code",
   "source": [
    "#Se utiliza la libreria Holidays para crear una columna que indique si el dia es feriado.\n",
    "\n",
    "us_holidays = holidays.US(years=df1[\"date\"].dt.year.unique())\n",
    "\n",
    "df1[\"Feriado\"] = df1[\"date\"].dt.date.isin(us_holidays)\n",
    "df1[\"Feriado\"].value_counts()\n"
   ],
   "id": "dc42c9e81af3e023",
   "outputs": [
    {
     "data": {
      "text/plain": [
       "Feriado\n",
       "False    195454\n",
       "True       4524\n",
       "Name: count, dtype: int64"
      ]
     },
     "execution_count": 96,
     "metadata": {},
     "output_type": "execute_result"
    }
   ],
   "execution_count": 96
  },
  {
   "metadata": {
    "ExecuteTime": {
     "end_time": "2025-09-23T19:41:13.291832Z",
     "start_time": "2025-09-23T19:41:12.981903Z"
    }
   },
   "cell_type": "code",
   "source": [
    "#Creamos una columna que determina en que semana del mes se produjo ese cambio.\n",
    "def semana_del_mes(dt):\n",
    "    dia = dt.day\n",
    "    if 1 <= dia <= 7:\n",
    "        return 1\n",
    "    elif 8 <= dia <= 15:\n",
    "        return 2\n",
    "    elif 16 <= dia <= 23:\n",
    "        return 3\n",
    "    else:\n",
    "        return 4\n",
    "\n",
    "df1[\"week_of_month\"] = df1[\"date\"].apply(semana_del_mes)\n",
    "df1[\"week_of_month\"] .value_counts()\n"
   ],
   "id": "66e1622759c2ede0",
   "outputs": [
    {
     "data": {
      "text/plain": [
       "week_of_month\n",
       "3    54162\n",
       "2    53895\n",
       "4    47156\n",
       "1    44765\n",
       "Name: count, dtype: int64"
      ]
     },
     "execution_count": 97,
     "metadata": {},
     "output_type": "execute_result"
    }
   ],
   "execution_count": 97
  },
  {
   "metadata": {
    "ExecuteTime": {
     "end_time": "2025-09-23T19:41:13.309385Z",
     "start_time": "2025-09-23T19:41:13.303793Z"
    }
   },
   "cell_type": "code",
   "source": "df1['temp_extrema']= ~df1[\"temperature\"].between(0, 40)",
   "id": "7823aff083ef2d2d",
   "outputs": [],
   "execution_count": 98
  },
  {
   "metadata": {
    "ExecuteTime": {
     "end_time": "2025-09-23T19:41:13.365371Z",
     "start_time": "2025-09-23T19:41:13.325141Z"
    }
   },
   "cell_type": "code",
   "source": "df1.info()",
   "id": "be05e87dba82b5cd",
   "outputs": [
    {
     "name": "stdout",
     "output_type": "stream",
     "text": [
      "<class 'pandas.core.frame.DataFrame'>\n",
      "Index: 199978 entries, 0 to 199999\n",
      "Data columns (total 25 columns):\n",
      " #   Column             Non-Null Count   Dtype          \n",
      "---  ------             --------------   -----          \n",
      " 0   key                199978 non-null  int64          \n",
      " 1   date               199978 non-null  datetime64[ns] \n",
      " 2   fare_amount        199978 non-null  float64        \n",
      " 3   pickup_datetime    199978 non-null  int32          \n",
      " 4   pickup_longitude   195858 non-null  float64        \n",
      " 5   pickup_latitude    195858 non-null  float64        \n",
      " 6   dropoff_longitude  195860 non-null  float64        \n",
      " 7   dropoff_latitude   195860 non-null  float64        \n",
      " 8   passenger_count    199978 non-null  int64          \n",
      " 9   datetime           199978 non-null  datetime64[ns] \n",
      " 10  temperature        199978 non-null  float64        \n",
      " 11  humidity           199978 non-null  int64          \n",
      " 12  rain_bool          199978 non-null  bool           \n",
      " 13  year               199978 non-null  int64          \n",
      " 14  diff               199978 non-null  timedelta64[ns]\n",
      " 15  pickup_en_ny       199978 non-null  bool           \n",
      " 16  dropoff_en_ny      199978 non-null  bool           \n",
      " 17  viaje_en_ny        199978 non-null  bool           \n",
      " 18  categoria_uber     199978 non-null  object         \n",
      " 19  dia_de_la_semana   199978 non-null  int32          \n",
      " 20  hour               199978 non-null  int32          \n",
      " 21  franja_horaria     199978 non-null  object         \n",
      " 22  Feriado            199978 non-null  bool           \n",
      " 23  week_of_month      199978 non-null  int64          \n",
      " 24  temp_extrema       199978 non-null  bool           \n",
      "dtypes: bool(6), datetime64[ns](2), float64(6), int32(3), int64(5), object(2), timedelta64[ns](1)\n",
      "memory usage: 29.4+ MB\n"
     ]
    }
   ],
   "execution_count": 99
  },
  {
   "metadata": {
    "ExecuteTime": {
     "end_time": "2025-09-23T19:41:13.407701Z",
     "start_time": "2025-09-23T19:41:13.390078Z"
    }
   },
   "cell_type": "code",
   "source": [
    "\n",
    "#Borro las columnas que no necesito para entrenar mi modelo\n",
    "\n",
    "df1 = df1.drop(\n",
    "    [\n",
    "        'key', 'date', 'pickup_datetime',\n",
    "        'passenger_count', 'pickup_en_ny', 'dropoff_en_ny', 'viaje_en_ny','diff','year','humidity','temperature','hour','datetime'\n",
    "    ],\n",
    "    axis=1\n",
    ")\n",
    "\n",
    "df1.columns\n"
   ],
   "id": "81849989aac2db74",
   "outputs": [
    {
     "data": {
      "text/plain": [
       "Index(['fare_amount', 'pickup_longitude', 'pickup_latitude',\n",
       "       'dropoff_longitude', 'dropoff_latitude', 'rain_bool', 'categoria_uber',\n",
       "       'dia_de_la_semana', 'franja_horaria', 'Feriado', 'week_of_month',\n",
       "       'temp_extrema'],\n",
       "      dtype='object')"
      ]
     },
     "execution_count": 100,
     "metadata": {},
     "output_type": "execute_result"
    }
   ],
   "execution_count": 100
  },
  {
   "metadata": {
    "ExecuteTime": {
     "end_time": "2025-09-23T19:41:15.454676Z",
     "start_time": "2025-09-23T19:41:13.450593Z"
    }
   },
   "cell_type": "code",
   "source": [
    "def barrio_nyc(lat, lon):\n",
    "    # Diccionario con rangos aproximados (lat_min, lat_max, lon_min, lon_max)\n",
    "    barrios = {\n",
    "        \"Manhattan\":   (40.7000, 40.8800, -74.0200, -73.9300),\n",
    "        \"Brooklyn\":    (40.5700, 40.7400, -74.0500, -73.8500),\n",
    "        \"Queens\":      (40.5400, 40.8000, -73.9600, -73.7000),\n",
    "        \"Bronx\":       (40.7900, 40.9200, -73.9300, -73.7600),\n",
    "        \"Staten Island\": (40.4800, 40.6500, -74.2500, -74.0500),\n",
    "    }\n",
    "\n",
    "    for barrio, (lat_min, lat_max, lon_min, lon_max) in barrios.items():\n",
    "        if lat_min <= lat <= lat_max and lon_min <= lon <= lon_max:\n",
    "            return barrio\n",
    "    return \"Fuera de NYC\"\n",
    "df1[\"barrio\"] = df1.apply(\n",
    "    lambda row: barrio_nyc(row[\"pickup_latitude\"], row[\"pickup_longitude\"]),\n",
    "    axis=1\n",
    ")\n",
    "# Verificar resultado\n",
    "print(df1[[\"pickup_latitude\", \"pickup_longitude\", \"barrio\"]].head(30))\n",
    "df1['barrio'].value_counts()"
   ],
   "id": "cc0591c6a9556a2a",
   "outputs": [
    {
     "name": "stdout",
     "output_type": "stream",
     "text": [
      "    pickup_latitude  pickup_longitude        barrio\n",
      "0         40.738354        -73.999817     Manhattan\n",
      "1         40.728225        -73.994355     Manhattan\n",
      "2         40.740770        -74.005043     Manhattan\n",
      "3         40.790844        -73.976124     Manhattan\n",
      "4         40.744085        -73.925023        Queens\n",
      "5         40.755910        -73.969019     Manhattan\n",
      "6         40.693965        -73.961447      Brooklyn\n",
      "7               NaN               NaN  Fuera de NYC\n",
      "8         40.745767        -73.975187     Manhattan\n",
      "9         40.741787        -74.001065     Manhattan\n",
      "10        40.746952        -73.974388     Manhattan\n",
      "11              NaN               NaN  Fuera de NYC\n",
      "12        40.804440        -73.966378     Manhattan\n",
      "13        40.767382        -73.953352     Manhattan\n",
      "14        40.755193        -73.973370     Manhattan\n",
      "15        40.751920        -73.990718     Manhattan\n",
      "16        40.756982        -73.988908     Manhattan\n",
      "17        40.741138        -74.005665     Manhattan\n",
      "18        40.767189        -73.962532     Manhattan\n",
      "19        40.719633        -73.992075     Manhattan\n",
      "20        40.745990        -73.980022     Manhattan\n",
      "21        40.729141        -73.989189     Manhattan\n",
      "22        40.726085        -74.010798     Manhattan\n",
      "23        40.739512        -73.994300     Manhattan\n",
      "24        40.764040        -73.972987     Manhattan\n",
      "25        40.757159        -73.986059     Manhattan\n",
      "26        40.776372        -73.957802     Manhattan\n",
      "27        40.741551        -73.993909     Manhattan\n",
      "28        40.763656        -73.977780     Manhattan\n",
      "29        40.787833        -73.971075     Manhattan\n"
     ]
    },
    {
     "data": {
      "text/plain": [
       "barrio\n",
       "Manhattan        183810\n",
       "Queens             8743\n",
       "Fuera de NYC       4315\n",
       "Brooklyn           2879\n",
       "Bronx               217\n",
       "Staten Island        14\n",
       "Name: count, dtype: int64"
      ]
     },
     "execution_count": 101,
     "metadata": {},
     "output_type": "execute_result"
    }
   ],
   "execution_count": 101
  },
  {
   "metadata": {
    "ExecuteTime": {
     "end_time": "2025-09-23T19:41:15.526090Z",
     "start_time": "2025-09-23T19:41:15.460879Z"
    }
   },
   "cell_type": "code",
   "source": [
    "#Convertimos las columnas numéricas a categóricas\n",
    "df1['franja_horaria'] = df1['franja_horaria'].astype('category')\n",
    "df1['Feriado'] = df1['Feriado'].astype('category')\n",
    "df1['dia_de_la_semana'] = df1['dia_de_la_semana'].astype('category')\n",
    "df1['week_of_month'] = df1['week_of_month'].astype('category')\n",
    "df1['temp_extrema'] = df1['temp_extrema'].astype('category')\n",
    "df1['barrio'] = df1['barrio'].astype('category')\n",
    "\n",
    "df1.isna().sum()\n"
   ],
   "id": "abc10a4107efbab0",
   "outputs": [
    {
     "data": {
      "text/plain": [
       "fare_amount             0\n",
       "pickup_longitude     4120\n",
       "pickup_latitude      4120\n",
       "dropoff_longitude    4118\n",
       "dropoff_latitude     4118\n",
       "rain_bool               0\n",
       "categoria_uber          0\n",
       "dia_de_la_semana        0\n",
       "franja_horaria          0\n",
       "Feriado                 0\n",
       "week_of_month           0\n",
       "temp_extrema            0\n",
       "barrio                  0\n",
       "dtype: int64"
      ]
     },
     "execution_count": 102,
     "metadata": {},
     "output_type": "execute_result"
    }
   ],
   "execution_count": 102
  },
  {
   "metadata": {
    "ExecuteTime": {
     "end_time": "2025-09-23T19:41:16.077932Z",
     "start_time": "2025-09-23T19:41:15.533168Z"
    }
   },
   "cell_type": "code",
   "source": [
    "#One Hot Encoding\n",
    "\n",
    "categorical_cols = ['franja_horaria', 'Feriado', 'dia_de_la_semana', 'week_of_month','categoria_uber','franja_horaria','temp_extrema','rain_bool','barrio']\n",
    "\n",
    "encoder = OneHotEncoder(sparse_output=False, drop='first')\n",
    "\n",
    "\n",
    "encoded_array = encoder.fit_transform(df1[categorical_cols])\n",
    "\n",
    "\n",
    "encoded_df = pd.DataFrame(\n",
    "    encoded_array,\n",
    "    columns=encoder.get_feature_names_out(categorical_cols),\n",
    "    index=df1.index\n",
    ")\n",
    "df_encoded = pd.concat([df1.drop(columns=categorical_cols), encoded_df], axis=1)\n",
    "df_encoded = df_encoded.drop(columns=['distance_km'], errors='ignore')\n"
   ],
   "id": "8bd20ec8dbb86a66",
   "outputs": [],
   "execution_count": 103
  },
  {
   "metadata": {
    "ExecuteTime": {
     "end_time": "2025-09-23T19:41:16.131641Z",
     "start_time": "2025-09-23T19:41:16.089872Z"
    }
   },
   "cell_type": "code",
   "source": "df_encoded.head()",
   "id": "b1d9bf6bd83a7e70",
   "outputs": [
    {
     "data": {
      "text/plain": [
       "   fare_amount  pickup_longitude  pickup_latitude  dropoff_longitude  \\\n",
       "0          7.5        -73.999817        40.738354         -73.999512   \n",
       "1          7.7        -73.994355        40.728225         -73.994710   \n",
       "2         12.9        -74.005043        40.740770         -73.962565   \n",
       "3          5.3        -73.976124        40.790844         -73.965316   \n",
       "4         16.0        -73.925023        40.744085         -73.973082   \n",
       "\n",
       "   dropoff_latitude  franja_horaria_Mañana  franja_horaria_Noche  \\\n",
       "0         40.723217                    0.0                   1.0   \n",
       "1         40.750325                    0.0                   1.0   \n",
       "2         40.772647                    0.0                   1.0   \n",
       "3         40.803349                    1.0                   0.0   \n",
       "4         40.761247                    0.0                   0.0   \n",
       "\n",
       "   franja_horaria_Tarde  Feriado_1.0  dia_de_la_semana_1  ...  \\\n",
       "0                   0.0          0.0                 0.0  ...   \n",
       "1                   0.0          0.0                 0.0  ...   \n",
       "2                   0.0          0.0                 0.0  ...   \n",
       "3                   0.0          0.0                 0.0  ...   \n",
       "4                   1.0          0.0                 0.0  ...   \n",
       "\n",
       "   franja_horaria_Mañana  franja_horaria_Noche  franja_horaria_Tarde  \\\n",
       "0                    0.0                   1.0                   0.0   \n",
       "1                    0.0                   1.0                   0.0   \n",
       "2                    0.0                   1.0                   0.0   \n",
       "3                    1.0                   0.0                   0.0   \n",
       "4                    0.0                   0.0                   1.0   \n",
       "\n",
       "   temp_extrema_1.0  rain_bool_True  barrio_Brooklyn  barrio_Fuera de NYC  \\\n",
       "0               0.0             0.0              0.0                  0.0   \n",
       "1               0.0             0.0              0.0                  0.0   \n",
       "2               0.0             0.0              0.0                  0.0   \n",
       "3               0.0             0.0              0.0                  0.0   \n",
       "4               0.0             0.0              0.0                  0.0   \n",
       "\n",
       "   barrio_Manhattan  barrio_Queens  barrio_Staten Island  \n",
       "0               1.0            0.0                   0.0  \n",
       "1               1.0            0.0                   0.0  \n",
       "2               1.0            0.0                   0.0  \n",
       "3               1.0            0.0                   0.0  \n",
       "4               0.0            1.0                   0.0  \n",
       "\n",
       "[5 rows x 30 columns]"
      ],
      "text/html": [
       "<div>\n",
       "<style scoped>\n",
       "    .dataframe tbody tr th:only-of-type {\n",
       "        vertical-align: middle;\n",
       "    }\n",
       "\n",
       "    .dataframe tbody tr th {\n",
       "        vertical-align: top;\n",
       "    }\n",
       "\n",
       "    .dataframe thead th {\n",
       "        text-align: right;\n",
       "    }\n",
       "</style>\n",
       "<table border=\"1\" class=\"dataframe\">\n",
       "  <thead>\n",
       "    <tr style=\"text-align: right;\">\n",
       "      <th></th>\n",
       "      <th>fare_amount</th>\n",
       "      <th>pickup_longitude</th>\n",
       "      <th>pickup_latitude</th>\n",
       "      <th>dropoff_longitude</th>\n",
       "      <th>dropoff_latitude</th>\n",
       "      <th>franja_horaria_Mañana</th>\n",
       "      <th>franja_horaria_Noche</th>\n",
       "      <th>franja_horaria_Tarde</th>\n",
       "      <th>Feriado_1.0</th>\n",
       "      <th>dia_de_la_semana_1</th>\n",
       "      <th>...</th>\n",
       "      <th>franja_horaria_Mañana</th>\n",
       "      <th>franja_horaria_Noche</th>\n",
       "      <th>franja_horaria_Tarde</th>\n",
       "      <th>temp_extrema_1.0</th>\n",
       "      <th>rain_bool_True</th>\n",
       "      <th>barrio_Brooklyn</th>\n",
       "      <th>barrio_Fuera de NYC</th>\n",
       "      <th>barrio_Manhattan</th>\n",
       "      <th>barrio_Queens</th>\n",
       "      <th>barrio_Staten Island</th>\n",
       "    </tr>\n",
       "  </thead>\n",
       "  <tbody>\n",
       "    <tr>\n",
       "      <th>0</th>\n",
       "      <td>7.5</td>\n",
       "      <td>-73.999817</td>\n",
       "      <td>40.738354</td>\n",
       "      <td>-73.999512</td>\n",
       "      <td>40.723217</td>\n",
       "      <td>0.0</td>\n",
       "      <td>1.0</td>\n",
       "      <td>0.0</td>\n",
       "      <td>0.0</td>\n",
       "      <td>0.0</td>\n",
       "      <td>...</td>\n",
       "      <td>0.0</td>\n",
       "      <td>1.0</td>\n",
       "      <td>0.0</td>\n",
       "      <td>0.0</td>\n",
       "      <td>0.0</td>\n",
       "      <td>0.0</td>\n",
       "      <td>0.0</td>\n",
       "      <td>1.0</td>\n",
       "      <td>0.0</td>\n",
       "      <td>0.0</td>\n",
       "    </tr>\n",
       "    <tr>\n",
       "      <th>1</th>\n",
       "      <td>7.7</td>\n",
       "      <td>-73.994355</td>\n",
       "      <td>40.728225</td>\n",
       "      <td>-73.994710</td>\n",
       "      <td>40.750325</td>\n",
       "      <td>0.0</td>\n",
       "      <td>1.0</td>\n",
       "      <td>0.0</td>\n",
       "      <td>0.0</td>\n",
       "      <td>0.0</td>\n",
       "      <td>...</td>\n",
       "      <td>0.0</td>\n",
       "      <td>1.0</td>\n",
       "      <td>0.0</td>\n",
       "      <td>0.0</td>\n",
       "      <td>0.0</td>\n",
       "      <td>0.0</td>\n",
       "      <td>0.0</td>\n",
       "      <td>1.0</td>\n",
       "      <td>0.0</td>\n",
       "      <td>0.0</td>\n",
       "    </tr>\n",
       "    <tr>\n",
       "      <th>2</th>\n",
       "      <td>12.9</td>\n",
       "      <td>-74.005043</td>\n",
       "      <td>40.740770</td>\n",
       "      <td>-73.962565</td>\n",
       "      <td>40.772647</td>\n",
       "      <td>0.0</td>\n",
       "      <td>1.0</td>\n",
       "      <td>0.0</td>\n",
       "      <td>0.0</td>\n",
       "      <td>0.0</td>\n",
       "      <td>...</td>\n",
       "      <td>0.0</td>\n",
       "      <td>1.0</td>\n",
       "      <td>0.0</td>\n",
       "      <td>0.0</td>\n",
       "      <td>0.0</td>\n",
       "      <td>0.0</td>\n",
       "      <td>0.0</td>\n",
       "      <td>1.0</td>\n",
       "      <td>0.0</td>\n",
       "      <td>0.0</td>\n",
       "    </tr>\n",
       "    <tr>\n",
       "      <th>3</th>\n",
       "      <td>5.3</td>\n",
       "      <td>-73.976124</td>\n",
       "      <td>40.790844</td>\n",
       "      <td>-73.965316</td>\n",
       "      <td>40.803349</td>\n",
       "      <td>1.0</td>\n",
       "      <td>0.0</td>\n",
       "      <td>0.0</td>\n",
       "      <td>0.0</td>\n",
       "      <td>0.0</td>\n",
       "      <td>...</td>\n",
       "      <td>1.0</td>\n",
       "      <td>0.0</td>\n",
       "      <td>0.0</td>\n",
       "      <td>0.0</td>\n",
       "      <td>0.0</td>\n",
       "      <td>0.0</td>\n",
       "      <td>0.0</td>\n",
       "      <td>1.0</td>\n",
       "      <td>0.0</td>\n",
       "      <td>0.0</td>\n",
       "    </tr>\n",
       "    <tr>\n",
       "      <th>4</th>\n",
       "      <td>16.0</td>\n",
       "      <td>-73.925023</td>\n",
       "      <td>40.744085</td>\n",
       "      <td>-73.973082</td>\n",
       "      <td>40.761247</td>\n",
       "      <td>0.0</td>\n",
       "      <td>0.0</td>\n",
       "      <td>1.0</td>\n",
       "      <td>0.0</td>\n",
       "      <td>0.0</td>\n",
       "      <td>...</td>\n",
       "      <td>0.0</td>\n",
       "      <td>0.0</td>\n",
       "      <td>1.0</td>\n",
       "      <td>0.0</td>\n",
       "      <td>0.0</td>\n",
       "      <td>0.0</td>\n",
       "      <td>0.0</td>\n",
       "      <td>0.0</td>\n",
       "      <td>1.0</td>\n",
       "      <td>0.0</td>\n",
       "    </tr>\n",
       "  </tbody>\n",
       "</table>\n",
       "<p>5 rows × 30 columns</p>\n",
       "</div>"
      ]
     },
     "execution_count": 104,
     "metadata": {},
     "output_type": "execute_result"
    }
   ],
   "execution_count": 104
  },
  {
   "metadata": {
    "ExecuteTime": {
     "end_time": "2025-09-23T19:41:16.320646Z",
     "start_time": "2025-09-23T19:41:16.175107Z"
    }
   },
   "cell_type": "code",
   "source": [
    "x_train, x_test, y_train, y_test = train_test_split(\n",
    "    df_encoded.drop(columns='fare_amount'), df_encoded['fare_amount'], test_size=0.2, random_state=42)\n",
    "x_train.isna().sum()"
   ],
   "id": "9f5d27be7dfd484e",
   "outputs": [
    {
     "data": {
      "text/plain": [
       "pickup_longitude          3311\n",
       "pickup_latitude           3311\n",
       "dropoff_longitude         3308\n",
       "dropoff_latitude          3308\n",
       "franja_horaria_Mañana        0\n",
       "franja_horaria_Noche         0\n",
       "franja_horaria_Tarde         0\n",
       "Feriado_1.0                  0\n",
       "dia_de_la_semana_1           0\n",
       "dia_de_la_semana_2           0\n",
       "dia_de_la_semana_3           0\n",
       "dia_de_la_semana_4           0\n",
       "dia_de_la_semana_5           0\n",
       "dia_de_la_semana_6           0\n",
       "week_of_month_2              0\n",
       "week_of_month_3              0\n",
       "week_of_month_4              0\n",
       "categoria_uber_Uber X        0\n",
       "categoria_uber_Uber XL       0\n",
       "franja_horaria_Mañana        0\n",
       "franja_horaria_Noche         0\n",
       "franja_horaria_Tarde         0\n",
       "temp_extrema_1.0             0\n",
       "rain_bool_True               0\n",
       "barrio_Brooklyn              0\n",
       "barrio_Fuera de NYC          0\n",
       "barrio_Manhattan             0\n",
       "barrio_Queens                0\n",
       "barrio_Staten Island         0\n",
       "dtype: int64"
      ]
     },
     "execution_count": 105,
     "metadata": {},
     "output_type": "execute_result"
    }
   ],
   "execution_count": 105
  },
  {
   "metadata": {
    "ExecuteTime": {
     "end_time": "2025-09-23T19:42:11.104516Z",
     "start_time": "2025-09-23T19:41:16.346051Z"
    }
   },
   "cell_type": "code",
   "source": [
    "cols_knn = [\n",
    "    'pickup_longitude','pickup_latitude',\n",
    "    'dropoff_longitude','dropoff_latitude'\n",
    "]\n",
    "cols_knn = [c for c in cols_knn if c in x_train.columns]\n",
    "\n",
    "imputer = KNNImputer(n_neighbors=5, weights='distance')\n",
    "x_train.loc[:, cols_knn] = imputer.fit_transform(x_train[cols_knn])\n",
    "x_test.loc[:,  cols_knn] = imputer.transform(x_test[cols_knn])"
   ],
   "id": "3ebf9ce180135c89",
   "outputs": [],
   "execution_count": 106
  },
  {
   "metadata": {
    "ExecuteTime": {
     "end_time": "2025-09-23T19:42:11.177886Z",
     "start_time": "2025-09-23T19:42:11.115895Z"
    }
   },
   "cell_type": "code",
   "source": [
    "x_train1 = x_train.copy(deep=True)\n",
    "x_test1  = x_test.copy(deep=True)\n"
   ],
   "id": "236f8dbc2fc33964",
   "outputs": [],
   "execution_count": 107
  },
  {
   "metadata": {
    "ExecuteTime": {
     "end_time": "2025-09-23T19:42:49.378689Z",
     "start_time": "2025-09-23T19:42:11.188590Z"
    }
   },
   "cell_type": "code",
   "source": [
    "#Ahora calculamos la distancia utilizando GEOPY\n",
    "\n",
    "def calculate_distance(row):\n",
    "    start = (row['pickup_latitude'], row['pickup_longitude'])\n",
    "    end = (row['dropoff_latitude'], row['dropoff_longitude'])\n",
    "    return geodesic(start, end).kilometers\n",
    "\n",
    "# Aplica la función\n",
    "x_train1['distance_km'] = x_train1.apply(calculate_distance, axis=1)\n",
    "x_test1['distance_km'] = x_test1.apply(calculate_distance, axis=1)\n"
   ],
   "id": "36cd5ef72f31f0bc",
   "outputs": [],
   "execution_count": 108
  },
  {
   "metadata": {
    "ExecuteTime": {
     "end_time": "2025-09-23T19:42:49.394329Z",
     "start_time": "2025-09-23T19:42:49.387821Z"
    }
   },
   "cell_type": "code",
   "source": "x_train1['distance_km'].head(-1)",
   "id": "9c4f97c790b61c29",
   "outputs": [
    {
     "data": {
      "text/plain": [
       "183960    4.398992\n",
       "15044     5.758228\n",
       "11425     3.792179\n",
       "138866    1.425716\n",
       "74154     0.664306\n",
       "            ...   \n",
       "110278    1.525132\n",
       "119890    0.232549\n",
       "103703    1.923067\n",
       "131943    0.672561\n",
       "146879    1.434613\n",
       "Name: distance_km, Length: 159981, dtype: float64"
      ]
     },
     "execution_count": 109,
     "metadata": {},
     "output_type": "execute_result"
    }
   ],
   "execution_count": 109
  },
  {
   "metadata": {
    "ExecuteTime": {
     "end_time": "2025-09-23T19:42:49.426650Z",
     "start_time": "2025-09-23T19:42:49.412102Z"
    }
   },
   "cell_type": "code",
   "source": [
    "#Los valores con distancias menores a 100 metros los reemplazaremos por la mediana debido al supuesto de que son viajes que empiezan y terminan en la misma coordenada.\n",
    "\n",
    "\n",
    "mediana_distancia_train = x_train1.loc[x_train1['distance_km'] >= 0.1, 'distance_km'].median()\n",
    "\n",
    "x_train1.loc[x_train1['distance_km'] < 0.1, 'distance_km'] = mediana_distancia_train\n",
    "\n",
    "# Reemplazar distancias == 0 en X_test usando la misma mediana\n",
    "x_test1.loc[x_test1['distance_km'] < 0.1, 'distance_km'] = mediana_distancia_train\n",
    "#x_train1.describe()\n",
    "x_train1[x_train1['distance_km'] < 0.1].count()\n"
   ],
   "id": "1854595a4e5b4657",
   "outputs": [
    {
     "data": {
      "text/plain": [
       "pickup_longitude          0\n",
       "pickup_latitude           0\n",
       "dropoff_longitude         0\n",
       "dropoff_latitude          0\n",
       "franja_horaria_Mañana     0\n",
       "franja_horaria_Noche      0\n",
       "franja_horaria_Tarde      0\n",
       "Feriado_1.0               0\n",
       "dia_de_la_semana_1        0\n",
       "dia_de_la_semana_2        0\n",
       "dia_de_la_semana_3        0\n",
       "dia_de_la_semana_4        0\n",
       "dia_de_la_semana_5        0\n",
       "dia_de_la_semana_6        0\n",
       "week_of_month_2           0\n",
       "week_of_month_3           0\n",
       "week_of_month_4           0\n",
       "categoria_uber_Uber X     0\n",
       "categoria_uber_Uber XL    0\n",
       "franja_horaria_Mañana     0\n",
       "franja_horaria_Noche      0\n",
       "franja_horaria_Tarde      0\n",
       "temp_extrema_1.0          0\n",
       "rain_bool_True            0\n",
       "barrio_Brooklyn           0\n",
       "barrio_Fuera de NYC       0\n",
       "barrio_Manhattan          0\n",
       "barrio_Queens             0\n",
       "barrio_Staten Island      0\n",
       "distance_km               0\n",
       "dtype: int64"
      ]
     },
     "execution_count": 110,
     "metadata": {},
     "output_type": "execute_result"
    }
   ],
   "execution_count": 110
  },
  {
   "metadata": {
    "ExecuteTime": {
     "end_time": "2025-09-23T19:42:49.503030Z",
     "start_time": "2025-09-23T19:42:49.473562Z"
    }
   },
   "cell_type": "code",
   "source": [
    "#Elimino coordenadas\n",
    "cols_drop = ['pickup_longitude','pickup_latitude',\n",
    "             'dropoff_longitude','dropoff_latitude']\n",
    "\n",
    "for X in (x_train1, x_test1):\n",
    "    X.drop(columns=[c for c in cols_drop if c in X.columns], inplace=True)\n",
    "#x_train.isna().sum()\n",
    "x_test.isna().sum()"
   ],
   "id": "cd62b2c211cbdb59",
   "outputs": [
    {
     "data": {
      "text/plain": [
       "pickup_longitude          0\n",
       "pickup_latitude           0\n",
       "dropoff_longitude         0\n",
       "dropoff_latitude          0\n",
       "franja_horaria_Mañana     0\n",
       "franja_horaria_Noche      0\n",
       "franja_horaria_Tarde      0\n",
       "Feriado_1.0               0\n",
       "dia_de_la_semana_1        0\n",
       "dia_de_la_semana_2        0\n",
       "dia_de_la_semana_3        0\n",
       "dia_de_la_semana_4        0\n",
       "dia_de_la_semana_5        0\n",
       "dia_de_la_semana_6        0\n",
       "week_of_month_2           0\n",
       "week_of_month_3           0\n",
       "week_of_month_4           0\n",
       "categoria_uber_Uber X     0\n",
       "categoria_uber_Uber XL    0\n",
       "franja_horaria_Mañana     0\n",
       "franja_horaria_Noche      0\n",
       "franja_horaria_Tarde      0\n",
       "temp_extrema_1.0          0\n",
       "rain_bool_True            0\n",
       "barrio_Brooklyn           0\n",
       "barrio_Fuera de NYC       0\n",
       "barrio_Manhattan          0\n",
       "barrio_Queens             0\n",
       "barrio_Staten Island      0\n",
       "dtype: int64"
      ]
     },
     "execution_count": 111,
     "metadata": {},
     "output_type": "execute_result"
    }
   ],
   "execution_count": 111
  },
  {
   "metadata": {
    "ExecuteTime": {
     "end_time": "2025-09-23T19:42:49.547786Z",
     "start_time": "2025-09-23T19:42:49.525576Z"
    }
   },
   "cell_type": "code",
   "source": [
    "#Escalo la distancia\n",
    "scaler_dist = StandardScaler()\n",
    "x_train1['distance_km'] = scaler_dist.fit_transform(x_train1[['distance_km']])\n",
    "x_test1['distance_km'] = scaler_dist.transform(x_test1[['distance_km']])\n",
    "\n",
    "x_test1.isna().sum()\n"
   ],
   "id": "6f6da6d1982be4da",
   "outputs": [
    {
     "data": {
      "text/plain": [
       "franja_horaria_Mañana     0\n",
       "franja_horaria_Noche      0\n",
       "franja_horaria_Tarde      0\n",
       "Feriado_1.0               0\n",
       "dia_de_la_semana_1        0\n",
       "dia_de_la_semana_2        0\n",
       "dia_de_la_semana_3        0\n",
       "dia_de_la_semana_4        0\n",
       "dia_de_la_semana_5        0\n",
       "dia_de_la_semana_6        0\n",
       "week_of_month_2           0\n",
       "week_of_month_3           0\n",
       "week_of_month_4           0\n",
       "categoria_uber_Uber X     0\n",
       "categoria_uber_Uber XL    0\n",
       "franja_horaria_Mañana     0\n",
       "franja_horaria_Noche      0\n",
       "franja_horaria_Tarde      0\n",
       "temp_extrema_1.0          0\n",
       "rain_bool_True            0\n",
       "barrio_Brooklyn           0\n",
       "barrio_Fuera de NYC       0\n",
       "barrio_Manhattan          0\n",
       "barrio_Queens             0\n",
       "barrio_Staten Island      0\n",
       "distance_km               0\n",
       "dtype: int64"
      ]
     },
     "execution_count": 112,
     "metadata": {},
     "output_type": "execute_result"
    }
   ],
   "execution_count": 112
  },
  {
   "metadata": {
    "ExecuteTime": {
     "end_time": "2025-09-23T19:42:49.752139Z",
     "start_time": "2025-09-23T19:42:49.572493Z"
    }
   },
   "cell_type": "code",
   "source": [
    "lr = LinearRegression()\n",
    "lr.fit(x_train1, y_train)"
   ],
   "id": "30f29664c706af0b",
   "outputs": [
    {
     "data": {
      "text/plain": [
       "LinearRegression()"
      ],
      "text/html": [
       "<style>#sk-container-id-1 {\n",
       "  /* Definition of color scheme common for light and dark mode */\n",
       "  --sklearn-color-text: #000;\n",
       "  --sklearn-color-text-muted: #666;\n",
       "  --sklearn-color-line: gray;\n",
       "  /* Definition of color scheme for unfitted estimators */\n",
       "  --sklearn-color-unfitted-level-0: #fff5e6;\n",
       "  --sklearn-color-unfitted-level-1: #f6e4d2;\n",
       "  --sklearn-color-unfitted-level-2: #ffe0b3;\n",
       "  --sklearn-color-unfitted-level-3: chocolate;\n",
       "  /* Definition of color scheme for fitted estimators */\n",
       "  --sklearn-color-fitted-level-0: #f0f8ff;\n",
       "  --sklearn-color-fitted-level-1: #d4ebff;\n",
       "  --sklearn-color-fitted-level-2: #b3dbfd;\n",
       "  --sklearn-color-fitted-level-3: cornflowerblue;\n",
       "\n",
       "  /* Specific color for light theme */\n",
       "  --sklearn-color-text-on-default-background: var(--sg-text-color, var(--theme-code-foreground, var(--jp-content-font-color1, black)));\n",
       "  --sklearn-color-background: var(--sg-background-color, var(--theme-background, var(--jp-layout-color0, white)));\n",
       "  --sklearn-color-border-box: var(--sg-text-color, var(--theme-code-foreground, var(--jp-content-font-color1, black)));\n",
       "  --sklearn-color-icon: #696969;\n",
       "\n",
       "  @media (prefers-color-scheme: dark) {\n",
       "    /* Redefinition of color scheme for dark theme */\n",
       "    --sklearn-color-text-on-default-background: var(--sg-text-color, var(--theme-code-foreground, var(--jp-content-font-color1, white)));\n",
       "    --sklearn-color-background: var(--sg-background-color, var(--theme-background, var(--jp-layout-color0, #111)));\n",
       "    --sklearn-color-border-box: var(--sg-text-color, var(--theme-code-foreground, var(--jp-content-font-color1, white)));\n",
       "    --sklearn-color-icon: #878787;\n",
       "  }\n",
       "}\n",
       "\n",
       "#sk-container-id-1 {\n",
       "  color: var(--sklearn-color-text);\n",
       "}\n",
       "\n",
       "#sk-container-id-1 pre {\n",
       "  padding: 0;\n",
       "}\n",
       "\n",
       "#sk-container-id-1 input.sk-hidden--visually {\n",
       "  border: 0;\n",
       "  clip: rect(1px 1px 1px 1px);\n",
       "  clip: rect(1px, 1px, 1px, 1px);\n",
       "  height: 1px;\n",
       "  margin: -1px;\n",
       "  overflow: hidden;\n",
       "  padding: 0;\n",
       "  position: absolute;\n",
       "  width: 1px;\n",
       "}\n",
       "\n",
       "#sk-container-id-1 div.sk-dashed-wrapped {\n",
       "  border: 1px dashed var(--sklearn-color-line);\n",
       "  margin: 0 0.4em 0.5em 0.4em;\n",
       "  box-sizing: border-box;\n",
       "  padding-bottom: 0.4em;\n",
       "  background-color: var(--sklearn-color-background);\n",
       "}\n",
       "\n",
       "#sk-container-id-1 div.sk-container {\n",
       "  /* jupyter's `normalize.less` sets `[hidden] { display: none; }`\n",
       "     but bootstrap.min.css set `[hidden] { display: none !important; }`\n",
       "     so we also need the `!important` here to be able to override the\n",
       "     default hidden behavior on the sphinx rendered scikit-learn.org.\n",
       "     See: https://github.com/scikit-learn/scikit-learn/issues/21755 */\n",
       "  display: inline-block !important;\n",
       "  position: relative;\n",
       "}\n",
       "\n",
       "#sk-container-id-1 div.sk-text-repr-fallback {\n",
       "  display: none;\n",
       "}\n",
       "\n",
       "div.sk-parallel-item,\n",
       "div.sk-serial,\n",
       "div.sk-item {\n",
       "  /* draw centered vertical line to link estimators */\n",
       "  background-image: linear-gradient(var(--sklearn-color-text-on-default-background), var(--sklearn-color-text-on-default-background));\n",
       "  background-size: 2px 100%;\n",
       "  background-repeat: no-repeat;\n",
       "  background-position: center center;\n",
       "}\n",
       "\n",
       "/* Parallel-specific style estimator block */\n",
       "\n",
       "#sk-container-id-1 div.sk-parallel-item::after {\n",
       "  content: \"\";\n",
       "  width: 100%;\n",
       "  border-bottom: 2px solid var(--sklearn-color-text-on-default-background);\n",
       "  flex-grow: 1;\n",
       "}\n",
       "\n",
       "#sk-container-id-1 div.sk-parallel {\n",
       "  display: flex;\n",
       "  align-items: stretch;\n",
       "  justify-content: center;\n",
       "  background-color: var(--sklearn-color-background);\n",
       "  position: relative;\n",
       "}\n",
       "\n",
       "#sk-container-id-1 div.sk-parallel-item {\n",
       "  display: flex;\n",
       "  flex-direction: column;\n",
       "}\n",
       "\n",
       "#sk-container-id-1 div.sk-parallel-item:first-child::after {\n",
       "  align-self: flex-end;\n",
       "  width: 50%;\n",
       "}\n",
       "\n",
       "#sk-container-id-1 div.sk-parallel-item:last-child::after {\n",
       "  align-self: flex-start;\n",
       "  width: 50%;\n",
       "}\n",
       "\n",
       "#sk-container-id-1 div.sk-parallel-item:only-child::after {\n",
       "  width: 0;\n",
       "}\n",
       "\n",
       "/* Serial-specific style estimator block */\n",
       "\n",
       "#sk-container-id-1 div.sk-serial {\n",
       "  display: flex;\n",
       "  flex-direction: column;\n",
       "  align-items: center;\n",
       "  background-color: var(--sklearn-color-background);\n",
       "  padding-right: 1em;\n",
       "  padding-left: 1em;\n",
       "}\n",
       "\n",
       "\n",
       "/* Toggleable style: style used for estimator/Pipeline/ColumnTransformer box that is\n",
       "clickable and can be expanded/collapsed.\n",
       "- Pipeline and ColumnTransformer use this feature and define the default style\n",
       "- Estimators will overwrite some part of the style using the `sk-estimator` class\n",
       "*/\n",
       "\n",
       "/* Pipeline and ColumnTransformer style (default) */\n",
       "\n",
       "#sk-container-id-1 div.sk-toggleable {\n",
       "  /* Default theme specific background. It is overwritten whether we have a\n",
       "  specific estimator or a Pipeline/ColumnTransformer */\n",
       "  background-color: var(--sklearn-color-background);\n",
       "}\n",
       "\n",
       "/* Toggleable label */\n",
       "#sk-container-id-1 label.sk-toggleable__label {\n",
       "  cursor: pointer;\n",
       "  display: flex;\n",
       "  width: 100%;\n",
       "  margin-bottom: 0;\n",
       "  padding: 0.5em;\n",
       "  box-sizing: border-box;\n",
       "  text-align: center;\n",
       "  align-items: start;\n",
       "  justify-content: space-between;\n",
       "  gap: 0.5em;\n",
       "}\n",
       "\n",
       "#sk-container-id-1 label.sk-toggleable__label .caption {\n",
       "  font-size: 0.6rem;\n",
       "  font-weight: lighter;\n",
       "  color: var(--sklearn-color-text-muted);\n",
       "}\n",
       "\n",
       "#sk-container-id-1 label.sk-toggleable__label-arrow:before {\n",
       "  /* Arrow on the left of the label */\n",
       "  content: \"▸\";\n",
       "  float: left;\n",
       "  margin-right: 0.25em;\n",
       "  color: var(--sklearn-color-icon);\n",
       "}\n",
       "\n",
       "#sk-container-id-1 label.sk-toggleable__label-arrow:hover:before {\n",
       "  color: var(--sklearn-color-text);\n",
       "}\n",
       "\n",
       "/* Toggleable content - dropdown */\n",
       "\n",
       "#sk-container-id-1 div.sk-toggleable__content {\n",
       "  display: none;\n",
       "  text-align: left;\n",
       "  /* unfitted */\n",
       "  background-color: var(--sklearn-color-unfitted-level-0);\n",
       "}\n",
       "\n",
       "#sk-container-id-1 div.sk-toggleable__content.fitted {\n",
       "  /* fitted */\n",
       "  background-color: var(--sklearn-color-fitted-level-0);\n",
       "}\n",
       "\n",
       "#sk-container-id-1 div.sk-toggleable__content pre {\n",
       "  margin: 0.2em;\n",
       "  border-radius: 0.25em;\n",
       "  color: var(--sklearn-color-text);\n",
       "  /* unfitted */\n",
       "  background-color: var(--sklearn-color-unfitted-level-0);\n",
       "}\n",
       "\n",
       "#sk-container-id-1 div.sk-toggleable__content.fitted pre {\n",
       "  /* unfitted */\n",
       "  background-color: var(--sklearn-color-fitted-level-0);\n",
       "}\n",
       "\n",
       "#sk-container-id-1 input.sk-toggleable__control:checked~div.sk-toggleable__content {\n",
       "  /* Expand drop-down */\n",
       "  display: block;\n",
       "  width: 100%;\n",
       "  overflow: visible;\n",
       "}\n",
       "\n",
       "#sk-container-id-1 input.sk-toggleable__control:checked~label.sk-toggleable__label-arrow:before {\n",
       "  content: \"▾\";\n",
       "}\n",
       "\n",
       "/* Pipeline/ColumnTransformer-specific style */\n",
       "\n",
       "#sk-container-id-1 div.sk-label input.sk-toggleable__control:checked~label.sk-toggleable__label {\n",
       "  color: var(--sklearn-color-text);\n",
       "  background-color: var(--sklearn-color-unfitted-level-2);\n",
       "}\n",
       "\n",
       "#sk-container-id-1 div.sk-label.fitted input.sk-toggleable__control:checked~label.sk-toggleable__label {\n",
       "  background-color: var(--sklearn-color-fitted-level-2);\n",
       "}\n",
       "\n",
       "/* Estimator-specific style */\n",
       "\n",
       "/* Colorize estimator box */\n",
       "#sk-container-id-1 div.sk-estimator input.sk-toggleable__control:checked~label.sk-toggleable__label {\n",
       "  /* unfitted */\n",
       "  background-color: var(--sklearn-color-unfitted-level-2);\n",
       "}\n",
       "\n",
       "#sk-container-id-1 div.sk-estimator.fitted input.sk-toggleable__control:checked~label.sk-toggleable__label {\n",
       "  /* fitted */\n",
       "  background-color: var(--sklearn-color-fitted-level-2);\n",
       "}\n",
       "\n",
       "#sk-container-id-1 div.sk-label label.sk-toggleable__label,\n",
       "#sk-container-id-1 div.sk-label label {\n",
       "  /* The background is the default theme color */\n",
       "  color: var(--sklearn-color-text-on-default-background);\n",
       "}\n",
       "\n",
       "/* On hover, darken the color of the background */\n",
       "#sk-container-id-1 div.sk-label:hover label.sk-toggleable__label {\n",
       "  color: var(--sklearn-color-text);\n",
       "  background-color: var(--sklearn-color-unfitted-level-2);\n",
       "}\n",
       "\n",
       "/* Label box, darken color on hover, fitted */\n",
       "#sk-container-id-1 div.sk-label.fitted:hover label.sk-toggleable__label.fitted {\n",
       "  color: var(--sklearn-color-text);\n",
       "  background-color: var(--sklearn-color-fitted-level-2);\n",
       "}\n",
       "\n",
       "/* Estimator label */\n",
       "\n",
       "#sk-container-id-1 div.sk-label label {\n",
       "  font-family: monospace;\n",
       "  font-weight: bold;\n",
       "  display: inline-block;\n",
       "  line-height: 1.2em;\n",
       "}\n",
       "\n",
       "#sk-container-id-1 div.sk-label-container {\n",
       "  text-align: center;\n",
       "}\n",
       "\n",
       "/* Estimator-specific */\n",
       "#sk-container-id-1 div.sk-estimator {\n",
       "  font-family: monospace;\n",
       "  border: 1px dotted var(--sklearn-color-border-box);\n",
       "  border-radius: 0.25em;\n",
       "  box-sizing: border-box;\n",
       "  margin-bottom: 0.5em;\n",
       "  /* unfitted */\n",
       "  background-color: var(--sklearn-color-unfitted-level-0);\n",
       "}\n",
       "\n",
       "#sk-container-id-1 div.sk-estimator.fitted {\n",
       "  /* fitted */\n",
       "  background-color: var(--sklearn-color-fitted-level-0);\n",
       "}\n",
       "\n",
       "/* on hover */\n",
       "#sk-container-id-1 div.sk-estimator:hover {\n",
       "  /* unfitted */\n",
       "  background-color: var(--sklearn-color-unfitted-level-2);\n",
       "}\n",
       "\n",
       "#sk-container-id-1 div.sk-estimator.fitted:hover {\n",
       "  /* fitted */\n",
       "  background-color: var(--sklearn-color-fitted-level-2);\n",
       "}\n",
       "\n",
       "/* Specification for estimator info (e.g. \"i\" and \"?\") */\n",
       "\n",
       "/* Common style for \"i\" and \"?\" */\n",
       "\n",
       ".sk-estimator-doc-link,\n",
       "a:link.sk-estimator-doc-link,\n",
       "a:visited.sk-estimator-doc-link {\n",
       "  float: right;\n",
       "  font-size: smaller;\n",
       "  line-height: 1em;\n",
       "  font-family: monospace;\n",
       "  background-color: var(--sklearn-color-background);\n",
       "  border-radius: 1em;\n",
       "  height: 1em;\n",
       "  width: 1em;\n",
       "  text-decoration: none !important;\n",
       "  margin-left: 0.5em;\n",
       "  text-align: center;\n",
       "  /* unfitted */\n",
       "  border: var(--sklearn-color-unfitted-level-1) 1pt solid;\n",
       "  color: var(--sklearn-color-unfitted-level-1);\n",
       "}\n",
       "\n",
       ".sk-estimator-doc-link.fitted,\n",
       "a:link.sk-estimator-doc-link.fitted,\n",
       "a:visited.sk-estimator-doc-link.fitted {\n",
       "  /* fitted */\n",
       "  border: var(--sklearn-color-fitted-level-1) 1pt solid;\n",
       "  color: var(--sklearn-color-fitted-level-1);\n",
       "}\n",
       "\n",
       "/* On hover */\n",
       "div.sk-estimator:hover .sk-estimator-doc-link:hover,\n",
       ".sk-estimator-doc-link:hover,\n",
       "div.sk-label-container:hover .sk-estimator-doc-link:hover,\n",
       ".sk-estimator-doc-link:hover {\n",
       "  /* unfitted */\n",
       "  background-color: var(--sklearn-color-unfitted-level-3);\n",
       "  color: var(--sklearn-color-background);\n",
       "  text-decoration: none;\n",
       "}\n",
       "\n",
       "div.sk-estimator.fitted:hover .sk-estimator-doc-link.fitted:hover,\n",
       ".sk-estimator-doc-link.fitted:hover,\n",
       "div.sk-label-container:hover .sk-estimator-doc-link.fitted:hover,\n",
       ".sk-estimator-doc-link.fitted:hover {\n",
       "  /* fitted */\n",
       "  background-color: var(--sklearn-color-fitted-level-3);\n",
       "  color: var(--sklearn-color-background);\n",
       "  text-decoration: none;\n",
       "}\n",
       "\n",
       "/* Span, style for the box shown on hovering the info icon */\n",
       ".sk-estimator-doc-link span {\n",
       "  display: none;\n",
       "  z-index: 9999;\n",
       "  position: relative;\n",
       "  font-weight: normal;\n",
       "  right: .2ex;\n",
       "  padding: .5ex;\n",
       "  margin: .5ex;\n",
       "  width: min-content;\n",
       "  min-width: 20ex;\n",
       "  max-width: 50ex;\n",
       "  color: var(--sklearn-color-text);\n",
       "  box-shadow: 2pt 2pt 4pt #999;\n",
       "  /* unfitted */\n",
       "  background: var(--sklearn-color-unfitted-level-0);\n",
       "  border: .5pt solid var(--sklearn-color-unfitted-level-3);\n",
       "}\n",
       "\n",
       ".sk-estimator-doc-link.fitted span {\n",
       "  /* fitted */\n",
       "  background: var(--sklearn-color-fitted-level-0);\n",
       "  border: var(--sklearn-color-fitted-level-3);\n",
       "}\n",
       "\n",
       ".sk-estimator-doc-link:hover span {\n",
       "  display: block;\n",
       "}\n",
       "\n",
       "/* \"?\"-specific style due to the `<a>` HTML tag */\n",
       "\n",
       "#sk-container-id-1 a.estimator_doc_link {\n",
       "  float: right;\n",
       "  font-size: 1rem;\n",
       "  line-height: 1em;\n",
       "  font-family: monospace;\n",
       "  background-color: var(--sklearn-color-background);\n",
       "  border-radius: 1rem;\n",
       "  height: 1rem;\n",
       "  width: 1rem;\n",
       "  text-decoration: none;\n",
       "  /* unfitted */\n",
       "  color: var(--sklearn-color-unfitted-level-1);\n",
       "  border: var(--sklearn-color-unfitted-level-1) 1pt solid;\n",
       "}\n",
       "\n",
       "#sk-container-id-1 a.estimator_doc_link.fitted {\n",
       "  /* fitted */\n",
       "  border: var(--sklearn-color-fitted-level-1) 1pt solid;\n",
       "  color: var(--sklearn-color-fitted-level-1);\n",
       "}\n",
       "\n",
       "/* On hover */\n",
       "#sk-container-id-1 a.estimator_doc_link:hover {\n",
       "  /* unfitted */\n",
       "  background-color: var(--sklearn-color-unfitted-level-3);\n",
       "  color: var(--sklearn-color-background);\n",
       "  text-decoration: none;\n",
       "}\n",
       "\n",
       "#sk-container-id-1 a.estimator_doc_link.fitted:hover {\n",
       "  /* fitted */\n",
       "  background-color: var(--sklearn-color-fitted-level-3);\n",
       "}\n",
       "\n",
       ".estimator-table summary {\n",
       "    padding: .5rem;\n",
       "    font-family: monospace;\n",
       "    cursor: pointer;\n",
       "}\n",
       "\n",
       ".estimator-table details[open] {\n",
       "    padding-left: 0.1rem;\n",
       "    padding-right: 0.1rem;\n",
       "    padding-bottom: 0.3rem;\n",
       "}\n",
       "\n",
       ".estimator-table .parameters-table {\n",
       "    margin-left: auto !important;\n",
       "    margin-right: auto !important;\n",
       "}\n",
       "\n",
       ".estimator-table .parameters-table tr:nth-child(odd) {\n",
       "    background-color: #fff;\n",
       "}\n",
       "\n",
       ".estimator-table .parameters-table tr:nth-child(even) {\n",
       "    background-color: #f6f6f6;\n",
       "}\n",
       "\n",
       ".estimator-table .parameters-table tr:hover {\n",
       "    background-color: #e0e0e0;\n",
       "}\n",
       "\n",
       ".estimator-table table td {\n",
       "    border: 1px solid rgba(106, 105, 104, 0.232);\n",
       "}\n",
       "\n",
       ".user-set td {\n",
       "    color:rgb(255, 94, 0);\n",
       "    text-align: left;\n",
       "}\n",
       "\n",
       ".user-set td.value pre {\n",
       "    color:rgb(255, 94, 0) !important;\n",
       "    background-color: transparent !important;\n",
       "}\n",
       "\n",
       ".default td {\n",
       "    color: black;\n",
       "    text-align: left;\n",
       "}\n",
       "\n",
       ".user-set td i,\n",
       ".default td i {\n",
       "    color: black;\n",
       "}\n",
       "\n",
       ".copy-paste-icon {\n",
       "    background-image: url(data:image/svg+xml;base64,PHN2ZyB4bWxucz0iaHR0cDovL3d3dy53My5vcmcvMjAwMC9zdmciIHZpZXdCb3g9IjAgMCA0NDggNTEyIj48IS0tIUZvbnQgQXdlc29tZSBGcmVlIDYuNy4yIGJ5IEBmb250YXdlc29tZSAtIGh0dHBzOi8vZm9udGF3ZXNvbWUuY29tIExpY2Vuc2UgLSBodHRwczovL2ZvbnRhd2Vzb21lLmNvbS9saWNlbnNlL2ZyZWUgQ29weXJpZ2h0IDIwMjUgRm9udGljb25zLCBJbmMuLS0+PHBhdGggZD0iTTIwOCAwTDMzMi4xIDBjMTIuNyAwIDI0LjkgNS4xIDMzLjkgMTQuMWw2Ny45IDY3LjljOSA5IDE0LjEgMjEuMiAxNC4xIDMzLjlMNDQ4IDMzNmMwIDI2LjUtMjEuNSA0OC00OCA0OGwtMTkyIDBjLTI2LjUgMC00OC0yMS41LTQ4LTQ4bDAtMjg4YzAtMjYuNSAyMS41LTQ4IDQ4LTQ4ek00OCAxMjhsODAgMCAwIDY0LTY0IDAgMCAyNTYgMTkyIDAgMC0zMiA2NCAwIDAgNDhjMCAyNi41LTIxLjUgNDgtNDggNDhMNDggNTEyYy0yNi41IDAtNDgtMjEuNS00OC00OEwwIDE3NmMwLTI2LjUgMjEuNS00OCA0OC00OHoiLz48L3N2Zz4=);\n",
       "    background-repeat: no-repeat;\n",
       "    background-size: 14px 14px;\n",
       "    background-position: 0;\n",
       "    display: inline-block;\n",
       "    width: 14px;\n",
       "    height: 14px;\n",
       "    cursor: pointer;\n",
       "}\n",
       "</style><body><div id=\"sk-container-id-1\" class=\"sk-top-container\"><div class=\"sk-text-repr-fallback\"><pre>LinearRegression()</pre><b>In a Jupyter environment, please rerun this cell to show the HTML representation or trust the notebook. <br />On GitHub, the HTML representation is unable to render, please try loading this page with nbviewer.org.</b></div><div class=\"sk-container\" hidden><div class=\"sk-item\"><div class=\"sk-estimator fitted sk-toggleable\"><input class=\"sk-toggleable__control sk-hidden--visually\" id=\"sk-estimator-id-1\" type=\"checkbox\" checked><label for=\"sk-estimator-id-1\" class=\"sk-toggleable__label fitted sk-toggleable__label-arrow\"><div><div>LinearRegression</div></div><div><a class=\"sk-estimator-doc-link fitted\" rel=\"noreferrer\" target=\"_blank\" href=\"https://scikit-learn.org/1.7/modules/generated/sklearn.linear_model.LinearRegression.html\">?<span>Documentation for LinearRegression</span></a><span class=\"sk-estimator-doc-link fitted\">i<span>Fitted</span></span></div></label><div class=\"sk-toggleable__content fitted\" data-param-prefix=\"\">\n",
       "        <div class=\"estimator-table\">\n",
       "            <details>\n",
       "                <summary>Parameters</summary>\n",
       "                <table class=\"parameters-table\">\n",
       "                  <tbody>\n",
       "                    \n",
       "        <tr class=\"default\">\n",
       "            <td><i class=\"copy-paste-icon\"\n",
       "                 onclick=\"copyToClipboard('fit_intercept',\n",
       "                          this.parentElement.nextElementSibling)\"\n",
       "            ></i></td>\n",
       "            <td class=\"param\">fit_intercept&nbsp;</td>\n",
       "            <td class=\"value\">True</td>\n",
       "        </tr>\n",
       "    \n",
       "\n",
       "        <tr class=\"default\">\n",
       "            <td><i class=\"copy-paste-icon\"\n",
       "                 onclick=\"copyToClipboard('copy_X',\n",
       "                          this.parentElement.nextElementSibling)\"\n",
       "            ></i></td>\n",
       "            <td class=\"param\">copy_X&nbsp;</td>\n",
       "            <td class=\"value\">True</td>\n",
       "        </tr>\n",
       "    \n",
       "\n",
       "        <tr class=\"default\">\n",
       "            <td><i class=\"copy-paste-icon\"\n",
       "                 onclick=\"copyToClipboard('tol',\n",
       "                          this.parentElement.nextElementSibling)\"\n",
       "            ></i></td>\n",
       "            <td class=\"param\">tol&nbsp;</td>\n",
       "            <td class=\"value\">1e-06</td>\n",
       "        </tr>\n",
       "    \n",
       "\n",
       "        <tr class=\"default\">\n",
       "            <td><i class=\"copy-paste-icon\"\n",
       "                 onclick=\"copyToClipboard('n_jobs',\n",
       "                          this.parentElement.nextElementSibling)\"\n",
       "            ></i></td>\n",
       "            <td class=\"param\">n_jobs&nbsp;</td>\n",
       "            <td class=\"value\">None</td>\n",
       "        </tr>\n",
       "    \n",
       "\n",
       "        <tr class=\"default\">\n",
       "            <td><i class=\"copy-paste-icon\"\n",
       "                 onclick=\"copyToClipboard('positive',\n",
       "                          this.parentElement.nextElementSibling)\"\n",
       "            ></i></td>\n",
       "            <td class=\"param\">positive&nbsp;</td>\n",
       "            <td class=\"value\">False</td>\n",
       "        </tr>\n",
       "    \n",
       "                  </tbody>\n",
       "                </table>\n",
       "            </details>\n",
       "        </div>\n",
       "    </div></div></div></div></div><script>function copyToClipboard(text, element) {\n",
       "    // Get the parameter prefix from the closest toggleable content\n",
       "    const toggleableContent = element.closest('.sk-toggleable__content');\n",
       "    const paramPrefix = toggleableContent ? toggleableContent.dataset.paramPrefix : '';\n",
       "    const fullParamName = paramPrefix ? `${paramPrefix}${text}` : text;\n",
       "\n",
       "    const originalStyle = element.style;\n",
       "    const computedStyle = window.getComputedStyle(element);\n",
       "    const originalWidth = computedStyle.width;\n",
       "    const originalHTML = element.innerHTML.replace('Copied!', '');\n",
       "\n",
       "    navigator.clipboard.writeText(fullParamName)\n",
       "        .then(() => {\n",
       "            element.style.width = originalWidth;\n",
       "            element.style.color = 'green';\n",
       "            element.innerHTML = \"Copied!\";\n",
       "\n",
       "            setTimeout(() => {\n",
       "                element.innerHTML = originalHTML;\n",
       "                element.style = originalStyle;\n",
       "            }, 2000);\n",
       "        })\n",
       "        .catch(err => {\n",
       "            console.error('Failed to copy:', err);\n",
       "            element.style.color = 'red';\n",
       "            element.innerHTML = \"Failed!\";\n",
       "            setTimeout(() => {\n",
       "                element.innerHTML = originalHTML;\n",
       "                element.style = originalStyle;\n",
       "            }, 2000);\n",
       "        });\n",
       "    return false;\n",
       "}\n",
       "\n",
       "document.querySelectorAll('.fa-regular.fa-copy').forEach(function(element) {\n",
       "    const toggleableContent = element.closest('.sk-toggleable__content');\n",
       "    const paramPrefix = toggleableContent ? toggleableContent.dataset.paramPrefix : '';\n",
       "    const paramName = element.parentElement.nextElementSibling.textContent.trim();\n",
       "    const fullParamName = paramPrefix ? `${paramPrefix}${paramName}` : paramName;\n",
       "\n",
       "    element.setAttribute('title', fullParamName);\n",
       "});\n",
       "</script></body>"
      ]
     },
     "execution_count": 113,
     "metadata": {},
     "output_type": "execute_result"
    }
   ],
   "execution_count": 113
  },
  {
   "metadata": {
    "ExecuteTime": {
     "end_time": "2025-09-23T19:42:49.769652Z",
     "start_time": "2025-09-23T19:42:49.759945Z"
    }
   },
   "cell_type": "code",
   "source": "y_pred = lr.predict(x_test1)",
   "id": "b2812fc0158378cd",
   "outputs": [],
   "execution_count": 114
  },
  {
   "metadata": {
    "ExecuteTime": {
     "end_time": "2025-09-23T19:42:49.787254Z",
     "start_time": "2025-09-23T19:42:49.780413Z"
    }
   },
   "cell_type": "code",
   "source": "lr.coef_, lr.intercept_",
   "id": "c59bd9532242140f",
   "outputs": [
    {
     "data": {
      "text/plain": [
       "(array([ 3.91927169e-01,  1.61317376e-01,  6.04379642e-01, -4.97429162e-01,\n",
       "         1.58422057e-01,  3.56601252e-01,  4.65956351e-01,  4.76260706e-01,\n",
       "         2.00331873e-02, -1.85037412e-02, -1.26287400e-02,  9.82740807e-03,\n",
       "        -3.22476040e-02,  1.03560570e+00,  1.08253942e+00,  3.91927169e-01,\n",
       "         1.61317376e-01,  6.04379642e-01,  1.02319655e-01,  1.47194264e-01,\n",
       "        -1.37228683e+00,  2.54890398e+00, -1.92864445e+00,  1.42930015e+00,\n",
       "         1.08488812e+01,  7.98465474e+00]),\n",
       " np.float64(11.110844535091063))"
      ]
     },
     "execution_count": 115,
     "metadata": {},
     "output_type": "execute_result"
    }
   ],
   "execution_count": 115
  },
  {
   "metadata": {
    "ExecuteTime": {
     "end_time": "2025-09-23T19:42:49.859324Z",
     "start_time": "2025-09-23T19:42:49.812762Z"
    }
   },
   "cell_type": "code",
   "source": "lr.score(x_train1,y_train), lr.score(x_test1,y_test)",
   "id": "9402b3d72e4cd264",
   "outputs": [
    {
     "data": {
      "text/plain": [
       "(0.7025010133633156, 0.7215301728275014)"
      ]
     },
     "execution_count": 116,
     "metadata": {},
     "output_type": "execute_result"
    }
   ],
   "execution_count": 116
  }
 ],
 "metadata": {
  "kernelspec": {
   "display_name": "Python 3",
   "language": "python",
   "name": "python3"
  },
  "language_info": {
   "codemirror_mode": {
    "name": "ipython",
    "version": 2
   },
   "file_extension": ".py",
   "mimetype": "text/x-python",
   "name": "python",
   "nbconvert_exporter": "python",
   "pygments_lexer": "ipython2",
   "version": "2.7.6"
  }
 },
 "nbformat": 4,
 "nbformat_minor": 5
}
