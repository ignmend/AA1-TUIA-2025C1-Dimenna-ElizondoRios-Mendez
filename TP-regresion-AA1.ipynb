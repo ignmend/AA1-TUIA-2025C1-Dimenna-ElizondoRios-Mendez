{
 "cells": [
  {
   "metadata": {},
   "cell_type": "markdown",
   "source": "Importamos las librerias necesarias.",
   "id": "92a168f5e53c267e"
  },
  {
   "metadata": {
    "ExecuteTime": {
     "end_time": "2025-09-19T00:15:43.514617Z",
     "start_time": "2025-09-19T00:15:43.510174Z"
    }
   },
   "cell_type": "code",
   "source": [
    "#Librerias para Analisis exploratorio\n",
    "import pandas as pd\n",
    "import numpy as np\n",
    "\n",
    "#Libreria para ver los dias feriados\n",
    "import holidays\n",
    "\n",
    "#Libreria para calcular distancia entre dos puntos.\n",
    "from geopy.distance import geodesic\n",
    "\n",
    "import seaborn as sns\n",
    "import matplotlib.pyplot as plt\n",
    "\n",
    "from datetime import datetime as dt\n",
    "\n",
    "\n",
    "import plotly.express as px\n",
    "import plotly.graph_objects as go\n",
    "import plotly.figure_factory as ff\n",
    "\n",
    "from sklearn.model_selection import train_test_split\n",
    "from sklearn.preprocessing import StandardScaler, OneHotEncoder   # u otros scalers\n",
    "from sklearn.linear_model import LinearRegression, Lasso, Ridge, ElasticNet, LassoCV, RidgeCV, ElasticNetCV\n",
    "from sklearn.impute import KNNImputer\n",
    "\n",
    "from sklearn.metrics import mean_squared_error, r2_score"
   ],
   "id": "initial_id",
   "outputs": [],
   "execution_count": 241
  },
  {
   "metadata": {},
   "cell_type": "markdown",
   "source": "Se carga el Dataset de los viajes de uber.",
   "id": "d7aca9d8ec84aa01"
  },
  {
   "metadata": {
    "ExecuteTime": {
     "end_time": "2025-09-19T00:15:44.005120Z",
     "start_time": "2025-09-19T00:15:43.537985Z"
    }
   },
   "cell_type": "code",
   "source": [
    "file_path= 'uber_fares.csv'\n",
    "df = pd.read_csv(file_path)\n",
    "df.head()"
   ],
   "id": "818b32b495248938",
   "outputs": [
    {
     "data": {
      "text/plain": [
       "        key                           date  fare_amount  \\\n",
       "0  24238194    2015-05-07 19:52:06.0000003          7.5   \n",
       "1  27835199    2009-07-17 20:04:56.0000002          7.7   \n",
       "2  44984355   2009-08-24 21:45:00.00000061         12.9   \n",
       "3  25894730    2009-06-26 08:22:21.0000001          5.3   \n",
       "4  17610152  2014-08-28 17:47:00.000000188         16.0   \n",
       "\n",
       "           pickup_datetime  pickup_longitude  pickup_latitude  \\\n",
       "0  2015-05-07 19:52:06 UTC        -73.999817        40.738354   \n",
       "1  2009-07-17 20:04:56 UTC        -73.994355        40.728225   \n",
       "2  2009-08-24 21:45:00 UTC        -74.005043        40.740770   \n",
       "3  2009-06-26 08:22:21 UTC        -73.976124        40.790844   \n",
       "4  2014-08-28 17:47:00 UTC        -73.925023        40.744085   \n",
       "\n",
       "   dropoff_longitude  dropoff_latitude  passenger_count  \n",
       "0         -73.999512         40.723217                1  \n",
       "1         -73.994710         40.750325                1  \n",
       "2         -73.962565         40.772647                1  \n",
       "3         -73.965316         40.803349                3  \n",
       "4         -73.973082         40.761247                5  "
      ],
      "text/html": [
       "<div>\n",
       "<style scoped>\n",
       "    .dataframe tbody tr th:only-of-type {\n",
       "        vertical-align: middle;\n",
       "    }\n",
       "\n",
       "    .dataframe tbody tr th {\n",
       "        vertical-align: top;\n",
       "    }\n",
       "\n",
       "    .dataframe thead th {\n",
       "        text-align: right;\n",
       "    }\n",
       "</style>\n",
       "<table border=\"1\" class=\"dataframe\">\n",
       "  <thead>\n",
       "    <tr style=\"text-align: right;\">\n",
       "      <th></th>\n",
       "      <th>key</th>\n",
       "      <th>date</th>\n",
       "      <th>fare_amount</th>\n",
       "      <th>pickup_datetime</th>\n",
       "      <th>pickup_longitude</th>\n",
       "      <th>pickup_latitude</th>\n",
       "      <th>dropoff_longitude</th>\n",
       "      <th>dropoff_latitude</th>\n",
       "      <th>passenger_count</th>\n",
       "    </tr>\n",
       "  </thead>\n",
       "  <tbody>\n",
       "    <tr>\n",
       "      <th>0</th>\n",
       "      <td>24238194</td>\n",
       "      <td>2015-05-07 19:52:06.0000003</td>\n",
       "      <td>7.5</td>\n",
       "      <td>2015-05-07 19:52:06 UTC</td>\n",
       "      <td>-73.999817</td>\n",
       "      <td>40.738354</td>\n",
       "      <td>-73.999512</td>\n",
       "      <td>40.723217</td>\n",
       "      <td>1</td>\n",
       "    </tr>\n",
       "    <tr>\n",
       "      <th>1</th>\n",
       "      <td>27835199</td>\n",
       "      <td>2009-07-17 20:04:56.0000002</td>\n",
       "      <td>7.7</td>\n",
       "      <td>2009-07-17 20:04:56 UTC</td>\n",
       "      <td>-73.994355</td>\n",
       "      <td>40.728225</td>\n",
       "      <td>-73.994710</td>\n",
       "      <td>40.750325</td>\n",
       "      <td>1</td>\n",
       "    </tr>\n",
       "    <tr>\n",
       "      <th>2</th>\n",
       "      <td>44984355</td>\n",
       "      <td>2009-08-24 21:45:00.00000061</td>\n",
       "      <td>12.9</td>\n",
       "      <td>2009-08-24 21:45:00 UTC</td>\n",
       "      <td>-74.005043</td>\n",
       "      <td>40.740770</td>\n",
       "      <td>-73.962565</td>\n",
       "      <td>40.772647</td>\n",
       "      <td>1</td>\n",
       "    </tr>\n",
       "    <tr>\n",
       "      <th>3</th>\n",
       "      <td>25894730</td>\n",
       "      <td>2009-06-26 08:22:21.0000001</td>\n",
       "      <td>5.3</td>\n",
       "      <td>2009-06-26 08:22:21 UTC</td>\n",
       "      <td>-73.976124</td>\n",
       "      <td>40.790844</td>\n",
       "      <td>-73.965316</td>\n",
       "      <td>40.803349</td>\n",
       "      <td>3</td>\n",
       "    </tr>\n",
       "    <tr>\n",
       "      <th>4</th>\n",
       "      <td>17610152</td>\n",
       "      <td>2014-08-28 17:47:00.000000188</td>\n",
       "      <td>16.0</td>\n",
       "      <td>2014-08-28 17:47:00 UTC</td>\n",
       "      <td>-73.925023</td>\n",
       "      <td>40.744085</td>\n",
       "      <td>-73.973082</td>\n",
       "      <td>40.761247</td>\n",
       "      <td>5</td>\n",
       "    </tr>\n",
       "  </tbody>\n",
       "</table>\n",
       "</div>"
      ]
     },
     "execution_count": 242,
     "metadata": {},
     "output_type": "execute_result"
    }
   ],
   "execution_count": 242
  },
  {
   "metadata": {
    "ExecuteTime": {
     "end_time": "2025-09-19T00:15:44.065200Z",
     "start_time": "2025-09-19T00:15:44.034547Z"
    }
   },
   "cell_type": "code",
   "source": [
    "#Visualizamos el tipo de datos de cada columna y el tamano del df\n",
    "\n",
    "df.isna().sum()"
   ],
   "id": "570e8ffb8fa3bb66",
   "outputs": [
    {
     "data": {
      "text/plain": [
       "key                  0\n",
       "date                 0\n",
       "fare_amount          0\n",
       "pickup_datetime      0\n",
       "pickup_longitude     0\n",
       "pickup_latitude      0\n",
       "dropoff_longitude    1\n",
       "dropoff_latitude     1\n",
       "passenger_count      0\n",
       "dtype: int64"
      ]
     },
     "execution_count": 243,
     "metadata": {},
     "output_type": "execute_result"
    }
   ],
   "execution_count": 243
  },
  {
   "metadata": {
    "ExecuteTime": {
     "end_time": "2025-09-19T00:15:46.746808Z",
     "start_time": "2025-09-19T00:15:44.110454Z"
    }
   },
   "cell_type": "code",
   "source": [
    "#Convertimos las columnas object a un formato adecuado.\n",
    "df['date'] = pd.to_datetime(df['date'], errors='coerce')\n",
    "df['pickup_datetime'] = pd.to_datetime(df['pickup_datetime'], errors='coerce')"
   ],
   "id": "f4548b4546c4749b",
   "outputs": [],
   "execution_count": 244
  },
  {
   "metadata": {
    "ExecuteTime": {
     "end_time": "2025-09-19T00:15:46.765246Z",
     "start_time": "2025-09-19T00:15:46.755983Z"
    }
   },
   "cell_type": "code",
   "source": "df.info()",
   "id": "bd1790e984ba0f14",
   "outputs": [
    {
     "name": "stdout",
     "output_type": "stream",
     "text": [
      "<class 'pandas.core.frame.DataFrame'>\n",
      "RangeIndex: 200000 entries, 0 to 199999\n",
      "Data columns (total 9 columns):\n",
      " #   Column             Non-Null Count   Dtype              \n",
      "---  ------             --------------   -----              \n",
      " 0   key                200000 non-null  int64              \n",
      " 1   date               200000 non-null  datetime64[ns]     \n",
      " 2   fare_amount        200000 non-null  float64            \n",
      " 3   pickup_datetime    200000 non-null  datetime64[ns, UTC]\n",
      " 4   pickup_longitude   200000 non-null  float64            \n",
      " 5   pickup_latitude    200000 non-null  float64            \n",
      " 6   dropoff_longitude  199999 non-null  float64            \n",
      " 7   dropoff_latitude   199999 non-null  float64            \n",
      " 8   passenger_count    200000 non-null  int64              \n",
      "dtypes: datetime64[ns, UTC](1), datetime64[ns](1), float64(5), int64(2)\n",
      "memory usage: 13.7 MB\n"
     ]
    }
   ],
   "execution_count": 245
  },
  {
   "metadata": {
    "ExecuteTime": {
     "end_time": "2025-09-19T00:15:46.783941Z",
     "start_time": "2025-09-19T00:15:46.776488Z"
    }
   },
   "cell_type": "code",
   "source": [
    "#Contamos los nulos para cada columna\n",
    "nulos_por_columna = df.isnull().sum()\n",
    "\n",
    "print(nulos_por_columna)\n"
   ],
   "id": "f0eee0c1fe0f90de",
   "outputs": [
    {
     "name": "stdout",
     "output_type": "stream",
     "text": [
      "key                  0\n",
      "date                 0\n",
      "fare_amount          0\n",
      "pickup_datetime      0\n",
      "pickup_longitude     0\n",
      "pickup_latitude      0\n",
      "dropoff_longitude    1\n",
      "dropoff_latitude     1\n",
      "passenger_count      0\n",
      "dtype: int64\n"
     ]
    }
   ],
   "execution_count": 246
  },
  {
   "metadata": {
    "ExecuteTime": {
     "end_time": "2025-09-19T00:15:46.818484Z",
     "start_time": "2025-09-19T00:15:46.803111Z"
    }
   },
   "cell_type": "code",
   "source": [
    "#Eliminamos los nulos porque no son representativos\n",
    "df = df.dropna()"
   ],
   "id": "31fd4fc464af3d9f",
   "outputs": [],
   "execution_count": 247
  },
  {
   "metadata": {
    "ExecuteTime": {
     "end_time": "2025-09-19T00:15:46.843780Z",
     "start_time": "2025-09-19T00:15:46.835651Z"
    }
   },
   "cell_type": "code",
   "source": [
    "#Verificamos que no haya nulos.\n",
    "\n",
    "nulos_por_columna = df.isnull().sum()\n",
    "\n",
    "print(nulos_por_columna)"
   ],
   "id": "e8bfa7fe61f47e6f",
   "outputs": [
    {
     "name": "stdout",
     "output_type": "stream",
     "text": [
      "key                  0\n",
      "date                 0\n",
      "fare_amount          0\n",
      "pickup_datetime      0\n",
      "pickup_longitude     0\n",
      "pickup_latitude      0\n",
      "dropoff_longitude    0\n",
      "dropoff_latitude     0\n",
      "passenger_count      0\n",
      "dtype: int64\n"
     ]
    }
   ],
   "execution_count": 248
  },
  {
   "metadata": {
    "ExecuteTime": {
     "end_time": "2025-09-19T00:15:48.258632Z",
     "start_time": "2025-09-19T00:15:46.858218Z"
    }
   },
   "cell_type": "code",
   "source": [
    "#Ploteamos la latitud y longitud para ver que puntos estan fuera de rango.\n",
    "plt.figure(figsize=(8,8))\n",
    "plt.scatter(\n",
    "    df[\"pickup_longitude\"], df[\"pickup_latitude\"],\n",
    "    c=\"blue\", s=1, alpha=0.5, label=\"Pickups\"\n",
    ")\n",
    "plt.scatter(\n",
    "    df[\"dropoff_longitude\"], df[\"dropoff_latitude\"],\n",
    "    c=\"red\", s=1, alpha=0.5, label=\"Dropoffs\"\n",
    ")\n",
    "\n",
    "plt.xlabel(\"Longitud\")\n",
    "plt.ylabel(\"Latitud\")\n",
    "plt.legend()\n",
    "plt.title(\"Puntos geográficos de viajes en NYC\")\n",
    "#Se limitan los ejes para poder ver en escala.\n",
    "#plt.xlim(-70, -90)\n",
    "#plt.ylim(40.5, 41.0)\n",
    "plt.show()\n"
   ],
   "id": "ad8b0fff6fb88381",
   "outputs": [
    {
     "data": {
      "text/plain": [
       "<Figure size 800x800 with 1 Axes>"
      ],
      "image/png": "[encoded data removed]"
     },
     "metadata": {},
     "output_type": "display_data"
    }
   ],
   "execution_count": 249
  },
  {
   "metadata": {
    "ExecuteTime": {
     "end_time": "2025-09-19T00:15:52.757015Z",
     "start_time": "2025-09-19T00:15:48.278371Z"
    }
   },
   "cell_type": "code",
   "source": [
    "# Utilizamos una funcion auxiliar para validad que la latitud y la longitud sean coordenadas que pertenecientes a la ciudad de new york, si no es así, reemplazamos por nulos para luego rellenarlos con el metodo de knn\n",
    "\n",
    "def es_coord_ny(lat, lon):\n",
    "    \"\"\"\n",
    "    Valida si una coordenada (lat, lon) está dentro de los límites de NYC mas\n",
    "    un radio de 50 km para viajes por fuera de new york\n",
    "\n",
    "\n",
    "    \"\"\"\n",
    "    return (40.5 <= lat <= 41.0) and (-74.3 <= lon <= -73.6)\n",
    "\n",
    "df[\"pickup_en_ny\"] = df.apply(lambda row: es_coord_ny(row[\"pickup_latitude\"], row[\"pickup_longitude\"]), axis=1)\n",
    "\n",
    "\n",
    "df[\"dropoff_en_ny\"] = df.apply(lambda row: es_coord_ny(row[\"dropoff_latitude\"], row[\"dropoff_longitude\"]), axis=1)\n",
    "\n",
    "\n",
    "df[\"viaje_en_ny\"] = df[\"pickup_en_ny\"] & df[\"dropoff_en_ny\"]\n",
    "df.describe()"
   ],
   "id": "fc529ed171a63b89",
   "outputs": [
    {
     "data": {
      "text/plain": [
       "                key                           date    fare_amount  \\\n",
       "count  1.999990e+05                         199999  199999.000000   \n",
       "mean   2.771248e+07  2012-03-22 14:58:56.889214720      11.359892   \n",
       "min    1.000000e+00  2009-01-01 01:15:22.000000600     -52.000000   \n",
       "25%    1.382534e+07            2010-08-25 08:19:54       6.000000   \n",
       "50%    2.774524e+07            2012-03-21 20:44:25       8.500000   \n",
       "75%    4.155535e+07  2013-10-19 02:21:09.000000512      12.500000   \n",
       "max    5.542357e+07  2015-06-30 23:40:39.000000100     499.000000   \n",
       "std    1.601386e+07                            NaN       9.901760   \n",
       "\n",
       "       pickup_longitude  pickup_latitude  dropoff_longitude  dropoff_latitude  \\\n",
       "count     199999.000000    199999.000000      199999.000000     199999.000000   \n",
       "mean         -72.527631        39.935881         -72.525292         39.923890   \n",
       "min        -1340.648410       -74.015515       -3356.666300       -881.985513   \n",
       "25%          -73.992065        40.734796         -73.991407         40.733823   \n",
       "50%          -73.981823        40.752592         -73.980093         40.753042   \n",
       "75%          -73.967154        40.767158         -73.963658         40.768001   \n",
       "max           57.418457      1644.421482        1153.572603        872.697628   \n",
       "std           11.437815         7.720558          13.117408          6.794829   \n",
       "\n",
       "       passenger_count  \n",
       "count    199999.000000  \n",
       "mean          1.684543  \n",
       "min           0.000000  \n",
       "25%           1.000000  \n",
       "50%           1.000000  \n",
       "75%           2.000000  \n",
       "max         208.000000  \n",
       "std           1.385995  "
      ],
      "text/html": [
       "<div>\n",
       "<style scoped>\n",
       "    .dataframe tbody tr th:only-of-type {\n",
       "        vertical-align: middle;\n",
       "    }\n",
       "\n",
       "    .dataframe tbody tr th {\n",
       "        vertical-align: top;\n",
       "    }\n",
       "\n",
       "    .dataframe thead th {\n",
       "        text-align: right;\n",
       "    }\n",
       "</style>\n",
       "<table border=\"1\" class=\"dataframe\">\n",
       "  <thead>\n",
       "    <tr style=\"text-align: right;\">\n",
       "      <th></th>\n",
       "      <th>key</th>\n",
       "      <th>date</th>\n",
       "      <th>fare_amount</th>\n",
       "      <th>pickup_longitude</th>\n",
       "      <th>pickup_latitude</th>\n",
       "      <th>dropoff_longitude</th>\n",
       "      <th>dropoff_latitude</th>\n",
       "      <th>passenger_count</th>\n",
       "    </tr>\n",
       "  </thead>\n",
       "  <tbody>\n",
       "    <tr>\n",
       "      <th>count</th>\n",
       "      <td>1.999990e+05</td>\n",
       "      <td>199999</td>\n",
       "      <td>199999.000000</td>\n",
       "      <td>199999.000000</td>\n",
       "      <td>199999.000000</td>\n",
       "      <td>199999.000000</td>\n",
       "      <td>199999.000000</td>\n",
       "      <td>199999.000000</td>\n",
       "    </tr>\n",
       "    <tr>\n",
       "      <th>mean</th>\n",
       "      <td>2.771248e+07</td>\n",
       "      <td>2012-03-22 14:58:56.889214720</td>\n",
       "      <td>11.359892</td>\n",
       "      <td>-72.527631</td>\n",
       "      <td>39.935881</td>\n",
       "      <td>-72.525292</td>\n",
       "      <td>39.923890</td>\n",
       "      <td>1.684543</td>\n",
       "    </tr>\n",
       "    <tr>\n",
       "      <th>min</th>\n",
       "      <td>1.000000e+00</td>\n",
       "      <td>2009-01-01 01:15:22.000000600</td>\n",
       "      <td>-52.000000</td>\n",
       "      <td>-1340.648410</td>\n",
       "      <td>-74.015515</td>\n",
       "      <td>-3356.666300</td>\n",
       "      <td>-881.985513</td>\n",
       "      <td>0.000000</td>\n",
       "    </tr>\n",
       "    <tr>\n",
       "      <th>25%</th>\n",
       "      <td>1.382534e+07</td>\n",
       "      <td>2010-08-25 08:19:54</td>\n",
       "      <td>6.000000</td>\n",
       "      <td>-73.992065</td>\n",
       "      <td>40.734796</td>\n",
       "      <td>-73.991407</td>\n",
       "      <td>40.733823</td>\n",
       "      <td>1.000000</td>\n",
       "    </tr>\n",
       "    <tr>\n",
       "      <th>50%</th>\n",
       "      <td>2.774524e+07</td>\n",
       "      <td>2012-03-21 20:44:25</td>\n",
       "      <td>8.500000</td>\n",
       "      <td>-73.981823</td>\n",
       "      <td>40.752592</td>\n",
       "      <td>-73.980093</td>\n",
       "      <td>40.753042</td>\n",
       "      <td>1.000000</td>\n",
       "    </tr>\n",
       "    <tr>\n",
       "      <th>75%</th>\n",
       "      <td>4.155535e+07</td>\n",
       "      <td>2013-10-19 02:21:09.000000512</td>\n",
       "      <td>12.500000</td>\n",
       "      <td>-73.967154</td>\n",
       "      <td>40.767158</td>\n",
       "      <td>-73.963658</td>\n",
       "      <td>40.768001</td>\n",
       "      <td>2.000000</td>\n",
       "    </tr>\n",
       "    <tr>\n",
       "      <th>max</th>\n",
       "      <td>5.542357e+07</td>\n",
       "      <td>2015-06-30 23:40:39.000000100</td>\n",
       "      <td>499.000000</td>\n",
       "      <td>57.418457</td>\n",
       "      <td>1644.421482</td>\n",
       "      <td>1153.572603</td>\n",
       "      <td>872.697628</td>\n",
       "      <td>208.000000</td>\n",
       "    </tr>\n",
       "    <tr>\n",
       "      <th>std</th>\n",
       "      <td>1.601386e+07</td>\n",
       "      <td>NaN</td>\n",
       "      <td>9.901760</td>\n",
       "      <td>11.437815</td>\n",
       "      <td>7.720558</td>\n",
       "      <td>13.117408</td>\n",
       "      <td>6.794829</td>\n",
       "      <td>1.385995</td>\n",
       "    </tr>\n",
       "  </tbody>\n",
       "</table>\n",
       "</div>"
      ]
     },
     "execution_count": 250,
     "metadata": {},
     "output_type": "execute_result"
    }
   ],
   "execution_count": 250
  },
  {
   "metadata": {
    "ExecuteTime": {
     "end_time": "2025-09-19T00:15:52.787051Z",
     "start_time": "2025-09-19T00:15:52.778861Z"
    }
   },
   "cell_type": "code",
   "source": [
    "#Vemos que 4121 coordenadas de pickup estan fuera de los limites de new york\n",
    "df[\"pickup_en_ny\"].value_counts()\n"
   ],
   "id": "d9984ffedb8b1f8d",
   "outputs": [
    {
     "data": {
      "text/plain": [
       "pickup_en_ny\n",
       "True     195878\n",
       "False      4121\n",
       "Name: count, dtype: int64"
      ]
     },
     "execution_count": 251,
     "metadata": {},
     "output_type": "execute_result"
    }
   ],
   "execution_count": 251
  },
  {
   "metadata": {
    "ExecuteTime": {
     "end_time": "2025-09-19T00:15:52.814070Z",
     "start_time": "2025-09-19T00:15:52.806990Z"
    }
   },
   "cell_type": "code",
   "source": [
    "#Vemos que 4121 coordenadas de dropoff estan fuera de los limites de new york\n",
    "df[\"dropoff_en_ny\"].value_counts()\n"
   ],
   "id": "891c7c2df0b6d9ff",
   "outputs": [
    {
     "data": {
      "text/plain": [
       "dropoff_en_ny\n",
       "True     195879\n",
       "False      4120\n",
       "Name: count, dtype: int64"
      ]
     },
     "execution_count": 252,
     "metadata": {},
     "output_type": "execute_result"
    }
   ],
   "execution_count": 252
  },
  {
   "metadata": {
    "ExecuteTime": {
     "end_time": "2025-09-19T00:15:52.858634Z",
     "start_time": "2025-09-19T00:15:52.846289Z"
    }
   },
   "cell_type": "code",
   "source": [
    "#Reemplamos las coordenadas fuera de zona por valores nulos con el objetivo de luego utilizar el metodo de knn para rellenarlos.\n",
    "# Si pickup_en_ny es False → NaN en pickup_latitude y pickup_longitude\n",
    "df.loc[~df[\"pickup_en_ny\"], [\"pickup_latitude\", \"pickup_longitude\"]] = np.nan\n",
    "\n",
    "# Si dropoff_en_ny es False → NaN en dropoff_latitude y dropoff_longitude\n",
    "df.loc[~df[\"dropoff_en_ny\"], [\"dropoff_latitude\", \"dropoff_longitude\"]] = np.nan\n"
   ],
   "id": "cf9aabf227ac8ef0",
   "outputs": [],
   "execution_count": 253
  },
  {
   "metadata": {
    "ExecuteTime": {
     "end_time": "2025-09-19T00:15:52.880628Z",
     "start_time": "2025-09-19T00:15:52.870120Z"
    }
   },
   "cell_type": "code",
   "source": [
    "#Contamos los nulos nuevamente y verificamos que las coordenadas fuera de zona se encuentran nulas.\n",
    "nulos_por_columna = df.isnull().sum()\n",
    "\n",
    "print(nulos_por_columna)"
   ],
   "id": "607732f7cc3fc624",
   "outputs": [
    {
     "name": "stdout",
     "output_type": "stream",
     "text": [
      "key                     0\n",
      "date                    0\n",
      "fare_amount             0\n",
      "pickup_datetime         0\n",
      "pickup_longitude     4121\n",
      "pickup_latitude      4121\n",
      "dropoff_longitude    4120\n",
      "dropoff_latitude     4120\n",
      "passenger_count         0\n",
      "pickup_en_ny            0\n",
      "dropoff_en_ny           0\n",
      "viaje_en_ny             0\n",
      "dtype: int64\n"
     ]
    }
   ],
   "execution_count": 254
  },
  {
   "metadata": {
    "ExecuteTime": {
     "end_time": "2025-09-19T00:15:53.032395Z",
     "start_time": "2025-09-19T00:15:52.914536Z"
    }
   },
   "cell_type": "code",
   "source": "df.describe()",
   "id": "18934e0dfa18d333",
   "outputs": [
    {
     "data": {
      "text/plain": [
       "                key                           date    fare_amount  \\\n",
       "count  1.999990e+05                         199999  199999.000000   \n",
       "mean   2.771248e+07  2012-03-22 14:58:56.889214720      11.359892   \n",
       "min    1.000000e+00  2009-01-01 01:15:22.000000600     -52.000000   \n",
       "25%    1.382534e+07            2010-08-25 08:19:54       6.000000   \n",
       "50%    2.774524e+07            2012-03-21 20:44:25       8.500000   \n",
       "75%    4.155535e+07  2013-10-19 02:21:09.000000512      12.500000   \n",
       "max    5.542357e+07  2015-06-30 23:40:39.000000100     499.000000   \n",
       "std    1.601386e+07                            NaN       9.901760   \n",
       "\n",
       "       pickup_longitude  pickup_latitude  dropoff_longitude  dropoff_latitude  \\\n",
       "count     195878.000000    195878.000000      195879.000000     195879.000000   \n",
       "mean         -73.975454        40.750782         -73.974514         40.751084   \n",
       "min          -74.299012        40.508697         -74.299833         40.510800   \n",
       "25%          -73.992277        40.736457         -73.991597         40.735335   \n",
       "50%          -73.982114        40.753298         -73.980545         40.753738   \n",
       "75%          -73.968385        40.767521         -73.965426         40.768316   \n",
       "max          -73.622390        40.991651         -73.600327         40.996788   \n",
       "std            0.034758         0.027063           0.034521          0.030858   \n",
       "\n",
       "       passenger_count  \n",
       "count    199999.000000  \n",
       "mean          1.684543  \n",
       "min           0.000000  \n",
       "25%           1.000000  \n",
       "50%           1.000000  \n",
       "75%           2.000000  \n",
       "max         208.000000  \n",
       "std           1.385995  "
      ],
      "text/html": [
       "<div>\n",
       "<style scoped>\n",
       "    .dataframe tbody tr th:only-of-type {\n",
       "        vertical-align: middle;\n",
       "    }\n",
       "\n",
       "    .dataframe tbody tr th {\n",
       "        vertical-align: top;\n",
       "    }\n",
       "\n",
       "    .dataframe thead th {\n",
       "        text-align: right;\n",
       "    }\n",
       "</style>\n",
       "<table border=\"1\" class=\"dataframe\">\n",
       "  <thead>\n",
       "    <tr style=\"text-align: right;\">\n",
       "      <th></th>\n",
       "      <th>key</th>\n",
       "      <th>date</th>\n",
       "      <th>fare_amount</th>\n",
       "      <th>pickup_longitude</th>\n",
       "      <th>pickup_latitude</th>\n",
       "      <th>dropoff_longitude</th>\n",
       "      <th>dropoff_latitude</th>\n",
       "      <th>passenger_count</th>\n",
       "    </tr>\n",
       "  </thead>\n",
       "  <tbody>\n",
       "    <tr>\n",
       "      <th>count</th>\n",
       "      <td>1.999990e+05</td>\n",
       "      <td>199999</td>\n",
       "      <td>199999.000000</td>\n",
       "      <td>195878.000000</td>\n",
       "      <td>195878.000000</td>\n",
       "      <td>195879.000000</td>\n",
       "      <td>195879.000000</td>\n",
       "      <td>199999.000000</td>\n",
       "    </tr>\n",
       "    <tr>\n",
       "      <th>mean</th>\n",
       "      <td>2.771248e+07</td>\n",
       "      <td>2012-03-22 14:58:56.889214720</td>\n",
       "      <td>11.359892</td>\n",
       "      <td>-73.975454</td>\n",
       "      <td>40.750782</td>\n",
       "      <td>-73.974514</td>\n",
       "      <td>40.751084</td>\n",
       "      <td>1.684543</td>\n",
       "    </tr>\n",
       "    <tr>\n",
       "      <th>min</th>\n",
       "      <td>1.000000e+00</td>\n",
       "      <td>2009-01-01 01:15:22.000000600</td>\n",
       "      <td>-52.000000</td>\n",
       "      <td>-74.299012</td>\n",
       "      <td>40.508697</td>\n",
       "      <td>-74.299833</td>\n",
       "      <td>40.510800</td>\n",
       "      <td>0.000000</td>\n",
       "    </tr>\n",
       "    <tr>\n",
       "      <th>25%</th>\n",
       "      <td>1.382534e+07</td>\n",
       "      <td>2010-08-25 08:19:54</td>\n",
       "      <td>6.000000</td>\n",
       "      <td>-73.992277</td>\n",
       "      <td>40.736457</td>\n",
       "      <td>-73.991597</td>\n",
       "      <td>40.735335</td>\n",
       "      <td>1.000000</td>\n",
       "    </tr>\n",
       "    <tr>\n",
       "      <th>50%</th>\n",
       "      <td>2.774524e+07</td>\n",
       "      <td>2012-03-21 20:44:25</td>\n",
       "      <td>8.500000</td>\n",
       "      <td>-73.982114</td>\n",
       "      <td>40.753298</td>\n",
       "      <td>-73.980545</td>\n",
       "      <td>40.753738</td>\n",
       "      <td>1.000000</td>\n",
       "    </tr>\n",
       "    <tr>\n",
       "      <th>75%</th>\n",
       "      <td>4.155535e+07</td>\n",
       "      <td>2013-10-19 02:21:09.000000512</td>\n",
       "      <td>12.500000</td>\n",
       "      <td>-73.968385</td>\n",
       "      <td>40.767521</td>\n",
       "      <td>-73.965426</td>\n",
       "      <td>40.768316</td>\n",
       "      <td>2.000000</td>\n",
       "    </tr>\n",
       "    <tr>\n",
       "      <th>max</th>\n",
       "      <td>5.542357e+07</td>\n",
       "      <td>2015-06-30 23:40:39.000000100</td>\n",
       "      <td>499.000000</td>\n",
       "      <td>-73.622390</td>\n",
       "      <td>40.991651</td>\n",
       "      <td>-73.600327</td>\n",
       "      <td>40.996788</td>\n",
       "      <td>208.000000</td>\n",
       "    </tr>\n",
       "    <tr>\n",
       "      <th>std</th>\n",
       "      <td>1.601386e+07</td>\n",
       "      <td>NaN</td>\n",
       "      <td>9.901760</td>\n",
       "      <td>0.034758</td>\n",
       "      <td>0.027063</td>\n",
       "      <td>0.034521</td>\n",
       "      <td>0.030858</td>\n",
       "      <td>1.385995</td>\n",
       "    </tr>\n",
       "  </tbody>\n",
       "</table>\n",
       "</div>"
      ]
     },
     "execution_count": 255,
     "metadata": {},
     "output_type": "execute_result"
    }
   ],
   "execution_count": 255
  },
  {
   "metadata": {
    "ExecuteTime": {
     "end_time": "2025-09-19T00:15:53.065339Z",
     "start_time": "2025-09-19T00:15:53.060233Z"
    }
   },
   "cell_type": "code",
   "source": [
    "#Verificamos nuevamente el tamanio\n",
    "df.shape"
   ],
   "id": "ab8bbde3ccda0cbe",
   "outputs": [
    {
     "data": {
      "text/plain": [
       "(199999, 12)"
      ]
     },
     "execution_count": 256,
     "metadata": {},
     "output_type": "execute_result"
    }
   ],
   "execution_count": 256
  },
  {
   "metadata": {
    "ExecuteTime": {
     "end_time": "2025-09-19T00:15:53.111455Z",
     "start_time": "2025-09-19T00:15:53.090662Z"
    }
   },
   "cell_type": "code",
   "source": [
    "#Se crea df1 copia del df con las coordenadas validadas.\n",
    "df1 = df.copy()\n",
    "df1.info()"
   ],
   "id": "bd332a2f798b30c6",
   "outputs": [
    {
     "name": "stdout",
     "output_type": "stream",
     "text": [
      "<class 'pandas.core.frame.DataFrame'>\n",
      "Index: 199999 entries, 0 to 199999\n",
      "Data columns (total 12 columns):\n",
      " #   Column             Non-Null Count   Dtype              \n",
      "---  ------             --------------   -----              \n",
      " 0   key                199999 non-null  int64              \n",
      " 1   date               199999 non-null  datetime64[ns]     \n",
      " 2   fare_amount        199999 non-null  float64            \n",
      " 3   pickup_datetime    199999 non-null  datetime64[ns, UTC]\n",
      " 4   pickup_longitude   195878 non-null  float64            \n",
      " 5   pickup_latitude    195878 non-null  float64            \n",
      " 6   dropoff_longitude  195879 non-null  float64            \n",
      " 7   dropoff_latitude   195879 non-null  float64            \n",
      " 8   passenger_count    199999 non-null  int64              \n",
      " 9   pickup_en_ny       199999 non-null  bool               \n",
      " 10  dropoff_en_ny      199999 non-null  bool               \n",
      " 11  viaje_en_ny        199999 non-null  bool               \n",
      "dtypes: bool(3), datetime64[ns, UTC](1), datetime64[ns](1), float64(5), int64(2)\n",
      "memory usage: 15.8 MB\n"
     ]
    }
   ],
   "execution_count": 257
  },
  {
   "metadata": {
    "ExecuteTime": {
     "end_time": "2025-09-19T00:15:53.153031Z",
     "start_time": "2025-09-19T00:15:53.144677Z"
    }
   },
   "cell_type": "code",
   "source": [
    "#Contamos los valores de los pasajeros\n",
    "df1[\"passenger_count\"].value_counts()\n"
   ],
   "id": "701c23ab1d36d35e",
   "outputs": [
    {
     "data": {
      "text/plain": [
       "passenger_count\n",
       "1      138425\n",
       "2       29428\n",
       "5       14009\n",
       "3        8881\n",
       "4        4276\n",
       "6        4271\n",
       "0         708\n",
       "208         1\n",
       "Name: count, dtype: int64"
      ]
     },
     "execution_count": 258,
     "metadata": {},
     "output_type": "execute_result"
    }
   ],
   "execution_count": 258
  },
  {
   "metadata": {
    "ExecuteTime": {
     "end_time": "2025-09-19T00:15:53.241196Z",
     "start_time": "2025-09-19T00:15:53.226290Z"
    }
   },
   "cell_type": "code",
   "source": [
    "#Investigando en internet averiguamos que existe UberFlash (para envio de paqueteria) y UberXL para viajes de grupos de hasta 6 personas.\n",
    "#Por lo que el valor atipico en cantidad de pasajeros seria el de 208, que lo vamos a eliminar ya que solo aparece una vez\n",
    "\n",
    "\n",
    "df1.loc[(df1['passenger_count'] > 6) , 'passenger_count'] = 6\n",
    "df1[\"passenger_count\"].value_counts()\n"
   ],
   "id": "c7f2697ce954e0e5",
   "outputs": [
    {
     "data": {
      "text/plain": [
       "passenger_count\n",
       "1    138425\n",
       "2     29428\n",
       "5     14009\n",
       "3      8881\n",
       "4      4276\n",
       "6      4272\n",
       "0       708\n",
       "Name: count, dtype: int64"
      ]
     },
     "execution_count": 259,
     "metadata": {},
     "output_type": "execute_result"
    }
   ],
   "execution_count": 259
  },
  {
   "metadata": {
    "ExecuteTime": {
     "end_time": "2025-09-19T00:15:53.326402Z",
     "start_time": "2025-09-19T00:15:53.283022Z"
    }
   },
   "cell_type": "code",
   "source": [
    "#Se agrega una columna para extraer el dia de la semana en el que se hizo el viaje.Lunes= 0 y Domingo = 6\n",
    "df1['date'] = pd.to_datetime(df1['date'])\n",
    "\n",
    "df1['dia_de_la_semana'] = df1['date'].dt.weekday\n",
    "df1['dia_de_la_semana'].value_counts()"
   ],
   "id": "25ae9c56c43327f1",
   "outputs": [
    {
     "data": {
      "text/plain": [
       "dia_de_la_semana\n",
       "4    30880\n",
       "5    30251\n",
       "3    30021\n",
       "2    29037\n",
       "1    28126\n",
       "6    26441\n",
       "0    25243\n",
       "Name: count, dtype: int64"
      ]
     },
     "execution_count": 260,
     "metadata": {},
     "output_type": "execute_result"
    }
   ],
   "execution_count": 260
  },
  {
   "metadata": {
    "ExecuteTime": {
     "end_time": "2025-09-19T00:15:53.350389Z",
     "start_time": "2025-09-19T00:15:53.346859Z"
    }
   },
   "cell_type": "code",
   "source": "print(df1.columns)\n",
   "id": "7b8f84f1789c68db",
   "outputs": [
    {
     "name": "stdout",
     "output_type": "stream",
     "text": [
      "Index(['key', 'date', 'fare_amount', 'pickup_datetime', 'pickup_longitude',\n",
      "       'pickup_latitude', 'dropoff_longitude', 'dropoff_latitude',\n",
      "       'passenger_count', 'pickup_en_ny', 'dropoff_en_ny', 'viaje_en_ny',\n",
      "       'dia_de_la_semana'],\n",
      "      dtype='object')\n"
     ]
    }
   ],
   "execution_count": 261
  },
  {
   "metadata": {
    "ExecuteTime": {
     "end_time": "2025-09-19T00:15:53.489272Z",
     "start_time": "2025-09-19T00:15:53.377237Z"
    }
   },
   "cell_type": "code",
   "source": [
    "#Se crea una columna para indicar la franja horaria donde ocurrio el viaje.\n",
    "\n",
    "df1['pickup_datetime'] = df1['date'].dt.hour\n",
    "df1\n",
    "def franja(hora):\n",
    "  if(0 <= hora <6):\n",
    "    return 'Madrugada'\n",
    "  elif(6<= hora <12):\n",
    "    return 'Mañana'\n",
    "  elif(12<= hora <18):\n",
    "    return 'Tarde'\n",
    "  elif(18<= hora <= 23):\n",
    "    return 'Noche'\n",
    "\n",
    "df1['franja_horaria'] = df1['pickup_datetime'].apply(franja)\n",
    "df1['franja_horaria'].value_counts()"
   ],
   "id": "508070d0921daf77",
   "outputs": [
    {
     "data": {
      "text/plain": [
       "franja_horaria\n",
       "Noche        68706\n",
       "Tarde        57382\n",
       "Mañana       48150\n",
       "Madrugada    25761\n",
       "Name: count, dtype: int64"
      ]
     },
     "execution_count": 262,
     "metadata": {},
     "output_type": "execute_result"
    }
   ],
   "execution_count": 262
  },
  {
   "metadata": {
    "ExecuteTime": {
     "end_time": "2025-09-19T00:15:53.535009Z",
     "start_time": "2025-09-19T00:15:53.508997Z"
    }
   },
   "cell_type": "code",
   "source": "df['date'].dt.year.unique()",
   "id": "6f1ef3b17131760f",
   "outputs": [
    {
     "data": {
      "text/plain": [
       "array([2015, 2009, 2014, 2011, 2012, 2010, 2013], dtype=int32)"
      ]
     },
     "execution_count": 263,
     "metadata": {},
     "output_type": "execute_result"
    }
   ],
   "execution_count": 263
  },
  {
   "metadata": {
    "ExecuteTime": {
     "end_time": "2025-09-19T00:15:53.681434Z",
     "start_time": "2025-09-19T00:15:53.551378Z"
    }
   },
   "cell_type": "code",
   "source": [
    "#Se utiliza la libreria Holidays para crear una columna que indique si el dia es feriado.\n",
    "\n",
    "us_holidays = holidays.US(years=df1[\"date\"].dt.year.unique())\n",
    "\n",
    "df1[\"Feriado\"] = df1[\"date\"].dt.date.isin(us_holidays)\n",
    "df1[\"Feriado\"].value_counts()\n"
   ],
   "id": "dc42c9e81af3e023",
   "outputs": [
    {
     "data": {
      "text/plain": [
       "Feriado\n",
       "False    195475\n",
       "True       4524\n",
       "Name: count, dtype: int64"
      ]
     },
     "execution_count": 264,
     "metadata": {},
     "output_type": "execute_result"
    }
   ],
   "execution_count": 264
  },
  {
   "metadata": {
    "ExecuteTime": {
     "end_time": "2025-09-19T00:15:53.984767Z",
     "start_time": "2025-09-19T00:15:53.700748Z"
    }
   },
   "cell_type": "code",
   "source": [
    "#Creamos una columna que determina en que semana del mes se produjo ese cambio.\n",
    "def semana_del_mes(dt):\n",
    "    dia = dt.day\n",
    "    if 1 <= dia <= 7:\n",
    "        return 1\n",
    "    elif 8 <= dia <= 15:\n",
    "        return 2\n",
    "    elif 16 <= dia <= 23:\n",
    "        return 3\n",
    "    else:\n",
    "        return 4\n",
    "\n",
    "df1[\"week_of_month\"] = df1[\"date\"].apply(semana_del_mes)\n",
    "df1[\"week_of_month\"] .value_counts()\n"
   ],
   "id": "66e1622759c2ede0",
   "outputs": [
    {
     "data": {
      "text/plain": [
       "week_of_month\n",
       "3    54171\n",
       "2    53903\n",
       "4    47156\n",
       "1    44769\n",
       "Name: count, dtype: int64"
      ]
     },
     "execution_count": 265,
     "metadata": {},
     "output_type": "execute_result"
    }
   ],
   "execution_count": 265
  },
  {
   "metadata": {
    "ExecuteTime": {
     "end_time": "2025-09-19T00:15:54.006418Z",
     "start_time": "2025-09-19T00:15:53.993303Z"
    }
   },
   "cell_type": "code",
   "source": [
    "\n",
    "#Borro las columnas que no necesito para entrenar mi modelo\n",
    "\n",
    "df1 = df1.drop(\n",
    "    [\n",
    "        'key', 'date', 'pickup_datetime',\n",
    "        'passenger_count', 'pickup_en_ny', 'dropoff_en_ny', 'viaje_en_ny'\n",
    "    ],\n",
    "    axis=1\n",
    ")\n",
    "\n",
    "df1.columns\n"
   ],
   "id": "81849989aac2db74",
   "outputs": [
    {
     "data": {
      "text/plain": [
       "Index(['fare_amount', 'pickup_longitude', 'pickup_latitude',\n",
       "       'dropoff_longitude', 'dropoff_latitude', 'dia_de_la_semana',\n",
       "       'franja_horaria', 'Feriado', 'week_of_month'],\n",
       "      dtype='object')"
      ]
     },
     "execution_count": 266,
     "metadata": {},
     "output_type": "execute_result"
    }
   ],
   "execution_count": 266
  },
  {
   "metadata": {
    "ExecuteTime": {
     "end_time": "2025-09-19T00:15:54.056682Z",
     "start_time": "2025-09-19T00:15:54.022904Z"
    }
   },
   "cell_type": "code",
   "source": [
    "#Convertimos las columnas numéricas a categóricas\n",
    "df1['franja_horaria'] = df1['franja_horaria'].astype('category')\n",
    "df1['Feriado'] = df1['Feriado'].astype('category')\n",
    "df1['dia_de_la_semana'] = df1['dia_de_la_semana'].astype('category')\n",
    "df1['week_of_month'] = df1['week_of_month'].astype('category')\n",
    "\n",
    "df1.isna().sum()\n"
   ],
   "id": "abc10a4107efbab0",
   "outputs": [
    {
     "data": {
      "text/plain": [
       "fare_amount             0\n",
       "pickup_longitude     4121\n",
       "pickup_latitude      4121\n",
       "dropoff_longitude    4120\n",
       "dropoff_latitude     4120\n",
       "dia_de_la_semana        0\n",
       "franja_horaria          0\n",
       "Feriado                 0\n",
       "week_of_month           0\n",
       "dtype: int64"
      ]
     },
     "execution_count": 267,
     "metadata": {},
     "output_type": "execute_result"
    }
   ],
   "execution_count": 267
  },
  {
   "metadata": {
    "ExecuteTime": {
     "end_time": "2025-09-19T00:17:54.490664Z",
     "start_time": "2025-09-19T00:17:54.357429Z"
    }
   },
   "cell_type": "code",
   "source": [
    "#One Hot Encoding\n",
    "\n",
    "categorical_cols = ['franja_horaria', 'Feriado', 'dia_de_la_semana', 'week_of_month']\n",
    "\n",
    "encoder = OneHotEncoder(sparse_output=False, drop=None)\n",
    "\n",
    "\n",
    "encoded_array = encoder.fit_transform(df1[categorical_cols])\n",
    "\n",
    "\n",
    "encoded_df = pd.DataFrame(\n",
    "    encoded_array,\n",
    "    columns=encoder.get_feature_names_out(categorical_cols),\n",
    "    index=df1.index\n",
    ")\n",
    "df_encoded = pd.concat([df1.drop(columns=categorical_cols), encoded_df], axis=1)\n",
    "df_encoded = df_encoded.drop(columns=['distance_km'], errors='ignore')\n"
   ],
   "id": "8bd20ec8dbb86a66",
   "outputs": [],
   "execution_count": 281
  },
  {
   "metadata": {},
   "cell_type": "markdown",
   "source": [
    "DIVIDO EN TRAIN Y TEST>\n",
    " Utilizo knn para rellenar valores faltantes.\n",
    " Escalo la distancia.\n",
    " Elimino las columnas de los puntos geograficos (debatir)\n",
    "\n",
    "\n",
    "comentario: Primero reemplazo los valores faltantes en las coordenadas (las defini Nan por estar fuera de zona) y luego calculo la Distancia."
   ],
   "id": "844f16ce5bd064b5"
  },
  {
   "metadata": {
    "ExecuteTime": {
     "end_time": "2025-09-19T00:22:35.263114Z",
     "start_time": "2025-09-19T00:22:35.191859Z"
    }
   },
   "cell_type": "code",
   "source": [
    "x_train, x_test, y_train, y_test = train_test_split(\n",
    "    df_encoded.drop(columns='fare_amount'), df_encoded['fare_amount'], test_size=0.2, random_state=42)\n",
    "x_train.isna().sum()"
   ],
   "id": "9f5d27be7dfd484e",
   "outputs": [
    {
     "data": {
      "text/plain": [
       "pickup_longitude            3303\n",
       "pickup_latitude             3303\n",
       "dropoff_longitude           3305\n",
       "dropoff_latitude            3305\n",
       "franja_horaria_Madrugada       0\n",
       "franja_horaria_Mañana          0\n",
       "franja_horaria_Noche           0\n",
       "franja_horaria_Tarde           0\n",
       "Feriado_0.0                    0\n",
       "Feriado_1.0                    0\n",
       "dia_de_la_semana_0             0\n",
       "dia_de_la_semana_1             0\n",
       "dia_de_la_semana_2             0\n",
       "dia_de_la_semana_3             0\n",
       "dia_de_la_semana_4             0\n",
       "dia_de_la_semana_5             0\n",
       "dia_de_la_semana_6             0\n",
       "week_of_month_1                0\n",
       "week_of_month_2                0\n",
       "week_of_month_3                0\n",
       "week_of_month_4                0\n",
       "dtype: int64"
      ]
     },
     "execution_count": 291,
     "metadata": {},
     "output_type": "execute_result"
    }
   ],
   "execution_count": 291
  },
  {
   "metadata": {
    "ExecuteTime": {
     "end_time": "2025-09-19T00:23:28.332083Z",
     "start_time": "2025-09-19T00:22:42.795077Z"
    }
   },
   "cell_type": "code",
   "source": [
    "cols_knn = [\n",
    "    'pickup_longitude','pickup_latitude',\n",
    "    'dropoff_longitude','dropoff_latitude'\n",
    "]\n",
    "cols_knn = [c for c in cols_knn if c in x_train.columns]  # solo las que existan\n",
    "\n",
    "imputer = KNNImputer(n_neighbors=5, weights='distance')\n",
    "x_train.loc[:, cols_knn] = imputer.fit_transform(x_train[cols_knn])\n",
    "x_test.loc[:,  cols_knn] = imputer.transform(x_test[cols_knn])"
   ],
   "id": "3ebf9ce180135c89",
   "outputs": [],
   "execution_count": 292
  },
  {
   "metadata": {
    "ExecuteTime": {
     "end_time": "2025-09-19T00:24:21.159348Z",
     "start_time": "2025-09-19T00:24:21.132703Z"
    }
   },
   "cell_type": "code",
   "source": [
    "x_train1 = x_train.copy(deep=True)\n",
    "x_test1  = x_test.copy(deep=True)\n"
   ],
   "id": "236f8dbc2fc33964",
   "outputs": [],
   "execution_count": 293
  },
  {
   "metadata": {},
   "cell_type": "code",
   "outputs": [],
   "execution_count": 294,
   "source": [
    "#Ahora calculamos la distancia utilizando GEOPY\n",
    "def calculate_distance(row):\n",
    "    # Si falta alguna coordenada → devuelve NaN\n",
    "    if (pd.isnull(row['pickup_latitude']) or\n",
    "        pd.isnull(row['pickup_longitude']) or\n",
    "        pd.isnull(row['dropoff_latitude']) or\n",
    "        pd.isnull(row['dropoff_longitude'])):\n",
    "        return np.nan\n",
    "\n",
    "    start = (row['pickup_latitude'], row['pickup_longitude'])\n",
    "    end = (row['dropoff_latitude'], row['dropoff_longitude'])\n",
    "\n",
    "    return geodesic(start, end).kilometers\n",
    "\n",
    "# Aplica la función\n",
    "x_train1['distance_km'] = x_train1.apply(calculate_distance, axis=1)\n",
    "x_test1['distance_km'] = x_test1.apply(calculate_distance, axis=1)\n"
   ],
   "id": "36cd5ef72f31f0bc"
  },
  {
   "metadata": {},
   "cell_type": "code",
   "outputs": [
    {
     "data": {
      "text/plain": [
       "pickup_longitude            0\n",
       "pickup_latitude             0\n",
       "dropoff_longitude           0\n",
       "dropoff_latitude            0\n",
       "franja_horaria_Madrugada    0\n",
       "franja_horaria_Mañana       0\n",
       "franja_horaria_Noche        0\n",
       "franja_horaria_Tarde        0\n",
       "Feriado_0.0                 0\n",
       "Feriado_1.0                 0\n",
       "dia_de_la_semana_0          0\n",
       "dia_de_la_semana_1          0\n",
       "dia_de_la_semana_2          0\n",
       "dia_de_la_semana_3          0\n",
       "dia_de_la_semana_4          0\n",
       "dia_de_la_semana_5          0\n",
       "dia_de_la_semana_6          0\n",
       "week_of_month_1             0\n",
       "week_of_month_2             0\n",
       "week_of_month_3             0\n",
       "week_of_month_4             0\n",
       "dtype: int64"
      ]
     },
     "execution_count": 295,
     "metadata": {},
     "output_type": "execute_result"
    }
   ],
   "execution_count": 295,
   "source": [
    "# 1) Drop de columnas geográficas\n",
    "cols_drop = ['pickup_longitude','pickup_latitude',\n",
    "             'dropoff_longitude','dropoff_latitude']\n",
    "\n",
    "for X in (x_train1, x_test1):\n",
    "    X.drop(columns=[c for c in cols_drop if c in X.columns], inplace=True)\n",
    "#x_train.isna().sum()\n",
    "x_test.isna().sum()"
   ],
   "id": "cd62b2c211cbdb59"
  },
  {
   "metadata": {
    "ExecuteTime": {
     "end_time": "2025-09-19T00:37:34.217510Z",
     "start_time": "2025-09-19T00:37:34.201672Z"
    }
   },
   "cell_type": "code",
   "source": [
    "#Escalo la distancia\n",
    "scaler_dist = StandardScaler()\n",
    "x_train1['distance_km'] = scaler_dist.fit_transform(x_train1[['distance_km']])\n",
    "x_test1['distance_km'] = scaler_dist.transform(x_test1[['distance_km']])\n",
    "\n",
    "x_test1.isna().sum()\n"
   ],
   "id": "6f6da6d1982be4da",
   "outputs": [
    {
     "data": {
      "text/plain": [
       "franja_horaria_Madrugada    0\n",
       "franja_horaria_Mañana       0\n",
       "franja_horaria_Noche        0\n",
       "franja_horaria_Tarde        0\n",
       "Feriado_0.0                 0\n",
       "Feriado_1.0                 0\n",
       "dia_de_la_semana_0          0\n",
       "dia_de_la_semana_1          0\n",
       "dia_de_la_semana_2          0\n",
       "dia_de_la_semana_3          0\n",
       "dia_de_la_semana_4          0\n",
       "dia_de_la_semana_5          0\n",
       "dia_de_la_semana_6          0\n",
       "week_of_month_1             0\n",
       "week_of_month_2             0\n",
       "week_of_month_3             0\n",
       "week_of_month_4             0\n",
       "distance_km                 0\n",
       "dtype: int64"
      ]
     },
     "execution_count": 309,
     "metadata": {},
     "output_type": "execute_result"
    }
   ],
   "execution_count": 309
  },
  {
   "metadata": {
    "ExecuteTime": {
     "end_time": "2025-09-19T00:37:52.360256Z",
     "start_time": "2025-09-19T00:37:52.275317Z"
    }
   },
   "cell_type": "code",
   "source": [
    "lr = LinearRegression()\n",
    "lr.fit(x_train1, y_train)"
   ],
   "id": "30f29664c706af0b",
   "outputs": [
    {
     "data": {
      "text/plain": [
       "LinearRegression()"
      ],
      "text/html": [
       "<style>#sk-container-id-7 {\n",
       "  /* Definition of color scheme common for light and dark mode */\n",
       "  --sklearn-color-text: #000;\n",
       "  --sklearn-color-text-muted: #666;\n",
       "  --sklearn-color-line: gray;\n",
       "  /* Definition of color scheme for unfitted estimators */\n",
       "  --sklearn-color-unfitted-level-0: #fff5e6;\n",
       "  --sklearn-color-unfitted-level-1: #f6e4d2;\n",
       "  --sklearn-color-unfitted-level-2: #ffe0b3;\n",
       "  --sklearn-color-unfitted-level-3: chocolate;\n",
       "  /* Definition of color scheme for fitted estimators */\n",
       "  --sklearn-color-fitted-level-0: #f0f8ff;\n",
       "  --sklearn-color-fitted-level-1: #d4ebff;\n",
       "  --sklearn-color-fitted-level-2: #b3dbfd;\n",
       "  --sklearn-color-fitted-level-3: cornflowerblue;\n",
       "\n",
       "  /* Specific color for light theme */\n",
       "  --sklearn-color-text-on-default-background: var(--sg-text-color, var(--theme-code-foreground, var(--jp-content-font-color1, black)));\n",
       "  --sklearn-color-background: var(--sg-background-color, var(--theme-background, var(--jp-layout-color0, white)));\n",
       "  --sklearn-color-border-box: var(--sg-text-color, var(--theme-code-foreground, var(--jp-content-font-color1, black)));\n",
       "  --sklearn-color-icon: #696969;\n",
       "\n",
       "  @media (prefers-color-scheme: dark) {\n",
       "    /* Redefinition of color scheme for dark theme */\n",
       "    --sklearn-color-text-on-default-background: var(--sg-text-color, var(--theme-code-foreground, var(--jp-content-font-color1, white)));\n",
       "    --sklearn-color-background: var(--sg-background-color, var(--theme-background, var(--jp-layout-color0, #111)));\n",
       "    --sklearn-color-border-box: var(--sg-text-color, var(--theme-code-foreground, var(--jp-content-font-color1, white)));\n",
       "    --sklearn-color-icon: #878787;\n",
       "  }\n",
       "}\n",
       "\n",
       "#sk-container-id-7 {\n",
       "  color: var(--sklearn-color-text);\n",
       "}\n",
       "\n",
       "#sk-container-id-7 pre {\n",
       "  padding: 0;\n",
       "}\n",
       "\n",
       "#sk-container-id-7 input.sk-hidden--visually {\n",
       "  border: 0;\n",
       "  clip: rect(1px 1px 1px 1px);\n",
       "  clip: rect(1px, 1px, 1px, 1px);\n",
       "  height: 1px;\n",
       "  margin: -1px;\n",
       "  overflow: hidden;\n",
       "  padding: 0;\n",
       "  position: absolute;\n",
       "  width: 1px;\n",
       "}\n",
       "\n",
       "#sk-container-id-7 div.sk-dashed-wrapped {\n",
       "  border: 1px dashed var(--sklearn-color-line);\n",
       "  margin: 0 0.4em 0.5em 0.4em;\n",
       "  box-sizing: border-box;\n",
       "  padding-bottom: 0.4em;\n",
       "  background-color: var(--sklearn-color-background);\n",
       "}\n",
       "\n",
       "#sk-container-id-7 div.sk-container {\n",
       "  /* jupyter's `normalize.less` sets `[hidden] { display: none; }`\n",
       "     but bootstrap.min.css set `[hidden] { display: none !important; }`\n",
       "     so we also need the `!important` here to be able to override the\n",
       "     default hidden behavior on the sphinx rendered scikit-learn.org.\n",
       "     See: https://github.com/scikit-learn/scikit-learn/issues/21755 */\n",
       "  display: inline-block !important;\n",
       "  position: relative;\n",
       "}\n",
       "\n",
       "#sk-container-id-7 div.sk-text-repr-fallback {\n",
       "  display: none;\n",
       "}\n",
       "\n",
       "div.sk-parallel-item,\n",
       "div.sk-serial,\n",
       "div.sk-item {\n",
       "  /* draw centered vertical line to link estimators */\n",
       "  background-image: linear-gradient(var(--sklearn-color-text-on-default-background), var(--sklearn-color-text-on-default-background));\n",
       "  background-size: 2px 100%;\n",
       "  background-repeat: no-repeat;\n",
       "  background-position: center center;\n",
       "}\n",
       "\n",
       "/* Parallel-specific style estimator block */\n",
       "\n",
       "#sk-container-id-7 div.sk-parallel-item::after {\n",
       "  content: \"\";\n",
       "  width: 100%;\n",
       "  border-bottom: 2px solid var(--sklearn-color-text-on-default-background);\n",
       "  flex-grow: 1;\n",
       "}\n",
       "\n",
       "#sk-container-id-7 div.sk-parallel {\n",
       "  display: flex;\n",
       "  align-items: stretch;\n",
       "  justify-content: center;\n",
       "  background-color: var(--sklearn-color-background);\n",
       "  position: relative;\n",
       "}\n",
       "\n",
       "#sk-container-id-7 div.sk-parallel-item {\n",
       "  display: flex;\n",
       "  flex-direction: column;\n",
       "}\n",
       "\n",
       "#sk-container-id-7 div.sk-parallel-item:first-child::after {\n",
       "  align-self: flex-end;\n",
       "  width: 50%;\n",
       "}\n",
       "\n",
       "#sk-container-id-7 div.sk-parallel-item:last-child::after {\n",
       "  align-self: flex-start;\n",
       "  width: 50%;\n",
       "}\n",
       "\n",
       "#sk-container-id-7 div.sk-parallel-item:only-child::after {\n",
       "  width: 0;\n",
       "}\n",
       "\n",
       "/* Serial-specific style estimator block */\n",
       "\n",
       "#sk-container-id-7 div.sk-serial {\n",
       "  display: flex;\n",
       "  flex-direction: column;\n",
       "  align-items: center;\n",
       "  background-color: var(--sklearn-color-background);\n",
       "  padding-right: 1em;\n",
       "  padding-left: 1em;\n",
       "}\n",
       "\n",
       "\n",
       "/* Toggleable style: style used for estimator/Pipeline/ColumnTransformer box that is\n",
       "clickable and can be expanded/collapsed.\n",
       "- Pipeline and ColumnTransformer use this feature and define the default style\n",
       "- Estimators will overwrite some part of the style using the `sk-estimator` class\n",
       "*/\n",
       "\n",
       "/* Pipeline and ColumnTransformer style (default) */\n",
       "\n",
       "#sk-container-id-7 div.sk-toggleable {\n",
       "  /* Default theme specific background. It is overwritten whether we have a\n",
       "  specific estimator or a Pipeline/ColumnTransformer */\n",
       "  background-color: var(--sklearn-color-background);\n",
       "}\n",
       "\n",
       "/* Toggleable label */\n",
       "#sk-container-id-7 label.sk-toggleable__label {\n",
       "  cursor: pointer;\n",
       "  display: flex;\n",
       "  width: 100%;\n",
       "  margin-bottom: 0;\n",
       "  padding: 0.5em;\n",
       "  box-sizing: border-box;\n",
       "  text-align: center;\n",
       "  align-items: start;\n",
       "  justify-content: space-between;\n",
       "  gap: 0.5em;\n",
       "}\n",
       "\n",
       "#sk-container-id-7 label.sk-toggleable__label .caption {\n",
       "  font-size: 0.6rem;\n",
       "  font-weight: lighter;\n",
       "  color: var(--sklearn-color-text-muted);\n",
       "}\n",
       "\n",
       "#sk-container-id-7 label.sk-toggleable__label-arrow:before {\n",
       "  /* Arrow on the left of the label */\n",
       "  content: \"▸\";\n",
       "  float: left;\n",
       "  margin-right: 0.25em;\n",
       "  color: var(--sklearn-color-icon);\n",
       "}\n",
       "\n",
       "#sk-container-id-7 label.sk-toggleable__label-arrow:hover:before {\n",
       "  color: var(--sklearn-color-text);\n",
       "}\n",
       "\n",
       "/* Toggleable content - dropdown */\n",
       "\n",
       "#sk-container-id-7 div.sk-toggleable__content {\n",
       "  display: none;\n",
       "  text-align: left;\n",
       "  /* unfitted */\n",
       "  background-color: var(--sklearn-color-unfitted-level-0);\n",
       "}\n",
       "\n",
       "#sk-container-id-7 div.sk-toggleable__content.fitted {\n",
       "  /* fitted */\n",
       "  background-color: var(--sklearn-color-fitted-level-0);\n",
       "}\n",
       "\n",
       "#sk-container-id-7 div.sk-toggleable__content pre {\n",
       "  margin: 0.2em;\n",
       "  border-radius: 0.25em;\n",
       "  color: var(--sklearn-color-text);\n",
       "  /* unfitted */\n",
       "  background-color: var(--sklearn-color-unfitted-level-0);\n",
       "}\n",
       "\n",
       "#sk-container-id-7 div.sk-toggleable__content.fitted pre {\n",
       "  /* unfitted */\n",
       "  background-color: var(--sklearn-color-fitted-level-0);\n",
       "}\n",
       "\n",
       "#sk-container-id-7 input.sk-toggleable__control:checked~div.sk-toggleable__content {\n",
       "  /* Expand drop-down */\n",
       "  display: block;\n",
       "  width: 100%;\n",
       "  overflow: visible;\n",
       "}\n",
       "\n",
       "#sk-container-id-7 input.sk-toggleable__control:checked~label.sk-toggleable__label-arrow:before {\n",
       "  content: \"▾\";\n",
       "}\n",
       "\n",
       "/* Pipeline/ColumnTransformer-specific style */\n",
       "\n",
       "#sk-container-id-7 div.sk-label input.sk-toggleable__control:checked~label.sk-toggleable__label {\n",
       "  color: var(--sklearn-color-text);\n",
       "  background-color: var(--sklearn-color-unfitted-level-2);\n",
       "}\n",
       "\n",
       "#sk-container-id-7 div.sk-label.fitted input.sk-toggleable__control:checked~label.sk-toggleable__label {\n",
       "  background-color: var(--sklearn-color-fitted-level-2);\n",
       "}\n",
       "\n",
       "/* Estimator-specific style */\n",
       "\n",
       "/* Colorize estimator box */\n",
       "#sk-container-id-7 div.sk-estimator input.sk-toggleable__control:checked~label.sk-toggleable__label {\n",
       "  /* unfitted */\n",
       "  background-color: var(--sklearn-color-unfitted-level-2);\n",
       "}\n",
       "\n",
       "#sk-container-id-7 div.sk-estimator.fitted input.sk-toggleable__control:checked~label.sk-toggleable__label {\n",
       "  /* fitted */\n",
       "  background-color: var(--sklearn-color-fitted-level-2);\n",
       "}\n",
       "\n",
       "#sk-container-id-7 div.sk-label label.sk-toggleable__label,\n",
       "#sk-container-id-7 div.sk-label label {\n",
       "  /* The background is the default theme color */\n",
       "  color: var(--sklearn-color-text-on-default-background);\n",
       "}\n",
       "\n",
       "/* On hover, darken the color of the background */\n",
       "#sk-container-id-7 div.sk-label:hover label.sk-toggleable__label {\n",
       "  color: var(--sklearn-color-text);\n",
       "  background-color: var(--sklearn-color-unfitted-level-2);\n",
       "}\n",
       "\n",
       "/* Label box, darken color on hover, fitted */\n",
       "#sk-container-id-7 div.sk-label.fitted:hover label.sk-toggleable__label.fitted {\n",
       "  color: var(--sklearn-color-text);\n",
       "  background-color: var(--sklearn-color-fitted-level-2);\n",
       "}\n",
       "\n",
       "/* Estimator label */\n",
       "\n",
       "#sk-container-id-7 div.sk-label label {\n",
       "  font-family: monospace;\n",
       "  font-weight: bold;\n",
       "  display: inline-block;\n",
       "  line-height: 1.2em;\n",
       "}\n",
       "\n",
       "#sk-container-id-7 div.sk-label-container {\n",
       "  text-align: center;\n",
       "}\n",
       "\n",
       "/* Estimator-specific */\n",
       "#sk-container-id-7 div.sk-estimator {\n",
       "  font-family: monospace;\n",
       "  border: 1px dotted var(--sklearn-color-border-box);\n",
       "  border-radius: 0.25em;\n",
       "  box-sizing: border-box;\n",
       "  margin-bottom: 0.5em;\n",
       "  /* unfitted */\n",
       "  background-color: var(--sklearn-color-unfitted-level-0);\n",
       "}\n",
       "\n",
       "#sk-container-id-7 div.sk-estimator.fitted {\n",
       "  /* fitted */\n",
       "  background-color: var(--sklearn-color-fitted-level-0);\n",
       "}\n",
       "\n",
       "/* on hover */\n",
       "#sk-container-id-7 div.sk-estimator:hover {\n",
       "  /* unfitted */\n",
       "  background-color: var(--sklearn-color-unfitted-level-2);\n",
       "}\n",
       "\n",
       "#sk-container-id-7 div.sk-estimator.fitted:hover {\n",
       "  /* fitted */\n",
       "  background-color: var(--sklearn-color-fitted-level-2);\n",
       "}\n",
       "\n",
       "/* Specification for estimator info (e.g. \"i\" and \"?\") */\n",
       "\n",
       "/* Common style for \"i\" and \"?\" */\n",
       "\n",
       ".sk-estimator-doc-link,\n",
       "a:link.sk-estimator-doc-link,\n",
       "a:visited.sk-estimator-doc-link {\n",
       "  float: right;\n",
       "  font-size: smaller;\n",
       "  line-height: 1em;\n",
       "  font-family: monospace;\n",
       "  background-color: var(--sklearn-color-background);\n",
       "  border-radius: 1em;\n",
       "  height: 1em;\n",
       "  width: 1em;\n",
       "  text-decoration: none !important;\n",
       "  margin-left: 0.5em;\n",
       "  text-align: center;\n",
       "  /* unfitted */\n",
       "  border: var(--sklearn-color-unfitted-level-1) 1pt solid;\n",
       "  color: var(--sklearn-color-unfitted-level-1);\n",
       "}\n",
       "\n",
       ".sk-estimator-doc-link.fitted,\n",
       "a:link.sk-estimator-doc-link.fitted,\n",
       "a:visited.sk-estimator-doc-link.fitted {\n",
       "  /* fitted */\n",
       "  border: var(--sklearn-color-fitted-level-1) 1pt solid;\n",
       "  color: var(--sklearn-color-fitted-level-1);\n",
       "}\n",
       "\n",
       "/* On hover */\n",
       "div.sk-estimator:hover .sk-estimator-doc-link:hover,\n",
       ".sk-estimator-doc-link:hover,\n",
       "div.sk-label-container:hover .sk-estimator-doc-link:hover,\n",
       ".sk-estimator-doc-link:hover {\n",
       "  /* unfitted */\n",
       "  background-color: var(--sklearn-color-unfitted-level-3);\n",
       "  color: var(--sklearn-color-background);\n",
       "  text-decoration: none;\n",
       "}\n",
       "\n",
       "div.sk-estimator.fitted:hover .sk-estimator-doc-link.fitted:hover,\n",
       ".sk-estimator-doc-link.fitted:hover,\n",
       "div.sk-label-container:hover .sk-estimator-doc-link.fitted:hover,\n",
       ".sk-estimator-doc-link.fitted:hover {\n",
       "  /* fitted */\n",
       "  background-color: var(--sklearn-color-fitted-level-3);\n",
       "  color: var(--sklearn-color-background);\n",
       "  text-decoration: none;\n",
       "}\n",
       "\n",
       "/* Span, style for the box shown on hovering the info icon */\n",
       ".sk-estimator-doc-link span {\n",
       "  display: none;\n",
       "  z-index: 9999;\n",
       "  position: relative;\n",
       "  font-weight: normal;\n",
       "  right: .2ex;\n",
       "  padding: .5ex;\n",
       "  margin: .5ex;\n",
       "  width: min-content;\n",
       "  min-width: 20ex;\n",
       "  max-width: 50ex;\n",
       "  color: var(--sklearn-color-text);\n",
       "  box-shadow: 2pt 2pt 4pt #999;\n",
       "  /* unfitted */\n",
       "  background: var(--sklearn-color-unfitted-level-0);\n",
       "  border: .5pt solid var(--sklearn-color-unfitted-level-3);\n",
       "}\n",
       "\n",
       ".sk-estimator-doc-link.fitted span {\n",
       "  /* fitted */\n",
       "  background: var(--sklearn-color-fitted-level-0);\n",
       "  border: var(--sklearn-color-fitted-level-3);\n",
       "}\n",
       "\n",
       ".sk-estimator-doc-link:hover span {\n",
       "  display: block;\n",
       "}\n",
       "\n",
       "/* \"?\"-specific style due to the `<a>` HTML tag */\n",
       "\n",
       "#sk-container-id-7 a.estimator_doc_link {\n",
       "  float: right;\n",
       "  font-size: 1rem;\n",
       "  line-height: 1em;\n",
       "  font-family: monospace;\n",
       "  background-color: var(--sklearn-color-background);\n",
       "  border-radius: 1rem;\n",
       "  height: 1rem;\n",
       "  width: 1rem;\n",
       "  text-decoration: none;\n",
       "  /* unfitted */\n",
       "  color: var(--sklearn-color-unfitted-level-1);\n",
       "  border: var(--sklearn-color-unfitted-level-1) 1pt solid;\n",
       "}\n",
       "\n",
       "#sk-container-id-7 a.estimator_doc_link.fitted {\n",
       "  /* fitted */\n",
       "  border: var(--sklearn-color-fitted-level-1) 1pt solid;\n",
       "  color: var(--sklearn-color-fitted-level-1);\n",
       "}\n",
       "\n",
       "/* On hover */\n",
       "#sk-container-id-7 a.estimator_doc_link:hover {\n",
       "  /* unfitted */\n",
       "  background-color: var(--sklearn-color-unfitted-level-3);\n",
       "  color: var(--sklearn-color-background);\n",
       "  text-decoration: none;\n",
       "}\n",
       "\n",
       "#sk-container-id-7 a.estimator_doc_link.fitted:hover {\n",
       "  /* fitted */\n",
       "  background-color: var(--sklearn-color-fitted-level-3);\n",
       "}\n",
       "\n",
       ".estimator-table summary {\n",
       "    padding: .5rem;\n",
       "    font-family: monospace;\n",
       "    cursor: pointer;\n",
       "}\n",
       "\n",
       ".estimator-table details[open] {\n",
       "    padding-left: 0.1rem;\n",
       "    padding-right: 0.1rem;\n",
       "    padding-bottom: 0.3rem;\n",
       "}\n",
       "\n",
       ".estimator-table .parameters-table {\n",
       "    margin-left: auto !important;\n",
       "    margin-right: auto !important;\n",
       "}\n",
       "\n",
       ".estimator-table .parameters-table tr:nth-child(odd) {\n",
       "    background-color: #fff;\n",
       "}\n",
       "\n",
       ".estimator-table .parameters-table tr:nth-child(even) {\n",
       "    background-color: #f6f6f6;\n",
       "}\n",
       "\n",
       ".estimator-table .parameters-table tr:hover {\n",
       "    background-color: #e0e0e0;\n",
       "}\n",
       "\n",
       ".estimator-table table td {\n",
       "    border: 1px solid rgba(106, 105, 104, 0.232);\n",
       "}\n",
       "\n",
       ".user-set td {\n",
       "    color:rgb(255, 94, 0);\n",
       "    text-align: left;\n",
       "}\n",
       "\n",
       ".user-set td.value pre {\n",
       "    color:rgb(255, 94, 0) !important;\n",
       "    background-color: transparent !important;\n",
       "}\n",
       "\n",
       ".default td {\n",
       "    color: black;\n",
       "    text-align: left;\n",
       "}\n",
       "\n",
       ".user-set td i,\n",
       ".default td i {\n",
       "    color: black;\n",
       "}\n",
       "\n",
       ".copy-paste-icon {\n",
       "    background-image: url(data:image/svg+xml;base64,PHN2ZyB4bWxucz0iaHR0cDovL3d3dy53My5vcmcvMjAwMC9zdmciIHZpZXdCb3g9IjAgMCA0NDggNTEyIj48IS0tIUZvbnQgQXdlc29tZSBGcmVlIDYuNy4yIGJ5IEBmb250YXdlc29tZSAtIGh0dHBzOi8vZm9udGF3ZXNvbWUuY29tIExpY2Vuc2UgLSBodHRwczovL2ZvbnRhd2Vzb21lLmNvbS9saWNlbnNlL2ZyZWUgQ29weXJpZ2h0IDIwMjUgRm9udGljb25zLCBJbmMuLS0+PHBhdGggZD0iTTIwOCAwTDMzMi4xIDBjMTIuNyAwIDI0LjkgNS4xIDMzLjkgMTQuMWw2Ny45IDY3LjljOSA5IDE0LjEgMjEuMiAxNC4xIDMzLjlMNDQ4IDMzNmMwIDI2LjUtMjEuNSA0OC00OCA0OGwtMTkyIDBjLTI2LjUgMC00OC0yMS41LTQ4LTQ4bDAtMjg4YzAtMjYuNSAyMS41LTQ4IDQ4LTQ4ek00OCAxMjhsODAgMCAwIDY0LTY0IDAgMCAyNTYgMTkyIDAgMC0zMiA2NCAwIDAgNDhjMCAyNi41LTIxLjUgNDgtNDggNDhMNDggNTEyYy0yNi41IDAtNDgtMjEuNS00OC00OEwwIDE3NmMwLTI2LjUgMjEuNS00OCA0OC00OHoiLz48L3N2Zz4=);\n",
       "    background-repeat: no-repeat;\n",
       "    background-size: 14px 14px;\n",
       "    background-position: 0;\n",
       "    display: inline-block;\n",
       "    width: 14px;\n",
       "    height: 14px;\n",
       "    cursor: pointer;\n",
       "}\n",
       "</style><body><div id=\"sk-container-id-7\" class=\"sk-top-container\"><div class=\"sk-text-repr-fallback\"><pre>LinearRegression()</pre><b>In a Jupyter environment, please rerun this cell to show the HTML representation or trust the notebook. <br />On GitHub, the HTML representation is unable to render, please try loading this page with nbviewer.org.</b></div><div class=\"sk-container\" hidden><div class=\"sk-item\"><div class=\"sk-estimator fitted sk-toggleable\"><input class=\"sk-toggleable__control sk-hidden--visually\" id=\"sk-estimator-id-7\" type=\"checkbox\" checked><label for=\"sk-estimator-id-7\" class=\"sk-toggleable__label fitted sk-toggleable__label-arrow\"><div><div>LinearRegression</div></div><div><a class=\"sk-estimator-doc-link fitted\" rel=\"noreferrer\" target=\"_blank\" href=\"https://scikit-learn.org/1.7/modules/generated/sklearn.linear_model.LinearRegression.html\">?<span>Documentation for LinearRegression</span></a><span class=\"sk-estimator-doc-link fitted\">i<span>Fitted</span></span></div></label><div class=\"sk-toggleable__content fitted\" data-param-prefix=\"\">\n",
       "        <div class=\"estimator-table\">\n",
       "            <details>\n",
       "                <summary>Parameters</summary>\n",
       "                <table class=\"parameters-table\">\n",
       "                  <tbody>\n",
       "                    \n",
       "        <tr class=\"default\">\n",
       "            <td><i class=\"copy-paste-icon\"\n",
       "                 onclick=\"copyToClipboard('fit_intercept',\n",
       "                          this.parentElement.nextElementSibling)\"\n",
       "            ></i></td>\n",
       "            <td class=\"param\">fit_intercept&nbsp;</td>\n",
       "            <td class=\"value\">True</td>\n",
       "        </tr>\n",
       "    \n",
       "\n",
       "        <tr class=\"default\">\n",
       "            <td><i class=\"copy-paste-icon\"\n",
       "                 onclick=\"copyToClipboard('copy_X',\n",
       "                          this.parentElement.nextElementSibling)\"\n",
       "            ></i></td>\n",
       "            <td class=\"param\">copy_X&nbsp;</td>\n",
       "            <td class=\"value\">True</td>\n",
       "        </tr>\n",
       "    \n",
       "\n",
       "        <tr class=\"default\">\n",
       "            <td><i class=\"copy-paste-icon\"\n",
       "                 onclick=\"copyToClipboard('tol',\n",
       "                          this.parentElement.nextElementSibling)\"\n",
       "            ></i></td>\n",
       "            <td class=\"param\">tol&nbsp;</td>\n",
       "            <td class=\"value\">1e-06</td>\n",
       "        </tr>\n",
       "    \n",
       "\n",
       "        <tr class=\"default\">\n",
       "            <td><i class=\"copy-paste-icon\"\n",
       "                 onclick=\"copyToClipboard('n_jobs',\n",
       "                          this.parentElement.nextElementSibling)\"\n",
       "            ></i></td>\n",
       "            <td class=\"param\">n_jobs&nbsp;</td>\n",
       "            <td class=\"value\">None</td>\n",
       "        </tr>\n",
       "    \n",
       "\n",
       "        <tr class=\"default\">\n",
       "            <td><i class=\"copy-paste-icon\"\n",
       "                 onclick=\"copyToClipboard('positive',\n",
       "                          this.parentElement.nextElementSibling)\"\n",
       "            ></i></td>\n",
       "            <td class=\"param\">positive&nbsp;</td>\n",
       "            <td class=\"value\">False</td>\n",
       "        </tr>\n",
       "    \n",
       "                  </tbody>\n",
       "                </table>\n",
       "            </details>\n",
       "        </div>\n",
       "    </div></div></div></div></div><script>function copyToClipboard(text, element) {\n",
       "    // Get the parameter prefix from the closest toggleable content\n",
       "    const toggleableContent = element.closest('.sk-toggleable__content');\n",
       "    const paramPrefix = toggleableContent ? toggleableContent.dataset.paramPrefix : '';\n",
       "    const fullParamName = paramPrefix ? `${paramPrefix}${text}` : text;\n",
       "\n",
       "    const originalStyle = element.style;\n",
       "    const computedStyle = window.getComputedStyle(element);\n",
       "    const originalWidth = computedStyle.width;\n",
       "    const originalHTML = element.innerHTML.replace('Copied!', '');\n",
       "\n",
       "    navigator.clipboard.writeText(fullParamName)\n",
       "        .then(() => {\n",
       "            element.style.width = originalWidth;\n",
       "            element.style.color = 'green';\n",
       "            element.innerHTML = \"Copied!\";\n",
       "\n",
       "            setTimeout(() => {\n",
       "                element.innerHTML = originalHTML;\n",
       "                element.style = originalStyle;\n",
       "            }, 2000);\n",
       "        })\n",
       "        .catch(err => {\n",
       "            console.error('Failed to copy:', err);\n",
       "            element.style.color = 'red';\n",
       "            element.innerHTML = \"Failed!\";\n",
       "            setTimeout(() => {\n",
       "                element.innerHTML = originalHTML;\n",
       "                element.style = originalStyle;\n",
       "            }, 2000);\n",
       "        });\n",
       "    return false;\n",
       "}\n",
       "\n",
       "document.querySelectorAll('.fa-regular.fa-copy').forEach(function(element) {\n",
       "    const toggleableContent = element.closest('.sk-toggleable__content');\n",
       "    const paramPrefix = toggleableContent ? toggleableContent.dataset.paramPrefix : '';\n",
       "    const paramName = element.parentElement.nextElementSibling.textContent.trim();\n",
       "    const fullParamName = paramPrefix ? `${paramPrefix}${paramName}` : paramName;\n",
       "\n",
       "    element.setAttribute('title', fullParamName);\n",
       "});\n",
       "</script></body>"
      ]
     },
     "execution_count": 310,
     "metadata": {},
     "output_type": "execute_result"
    }
   ],
   "execution_count": 310
  },
  {
   "metadata": {
    "ExecuteTime": {
     "end_time": "2025-09-19T00:31:18.133273Z",
     "start_time": "2025-09-19T00:31:18.126267Z"
    }
   },
   "cell_type": "code",
   "source": "y_pred = lr.predict(x_test1)",
   "id": "b2812fc0158378cd",
   "outputs": [],
   "execution_count": 303
  },
  {
   "metadata": {
    "ExecuteTime": {
     "end_time": "2025-09-19T00:38:12.638321Z",
     "start_time": "2025-09-19T00:38:12.634101Z"
    }
   },
   "cell_type": "code",
   "source": "lr.coef_, lr.intercept_",
   "id": "c59bd9532242140f",
   "outputs": [
    {
     "data": {
      "text/plain": [
       "(array([-0.61013242,  0.20171269, -0.25086577,  0.6592855 ,  0.2687161 ,\n",
       "        -0.2687161 , -0.15290337, -0.07623445,  0.17546641,  0.26019302,\n",
       "         0.20722463, -0.21610456, -0.19764166, -0.00956605, -0.03193416,\n",
       "         0.02236212,  0.01913809,  8.16401002]),\n",
       " np.float64(11.016115723593229))"
      ]
     },
     "execution_count": 311,
     "metadata": {},
     "output_type": "execute_result"
    }
   ],
   "execution_count": 311
  },
  {
   "metadata": {
    "ExecuteTime": {
     "end_time": "2025-09-19T00:38:16.298631Z",
     "start_time": "2025-09-19T00:38:16.272512Z"
    }
   },
   "cell_type": "code",
   "source": "lr.score(x_train1,y_train), lr.score(x_test1,y_test)",
   "id": "9402b3d72e4cd264",
   "outputs": [
    {
     "data": {
      "text/plain": [
       "(0.688137047518642, 0.6289131208686822)"
      ]
     },
     "execution_count": 312,
     "metadata": {},
     "output_type": "execute_result"
    }
   ],
   "execution_count": 312
  }
 ],
 "metadata": {
  "kernelspec": {
   "display_name": "Python 3",
   "language": "python",
   "name": "python3"
  },
  "language_info": {
   "codemirror_mode": {
    "name": "ipython",
    "version": 2
   },
   "file_extension": ".py",
   "mimetype": "text/x-python",
   "name": "python",
   "nbconvert_exporter": "python",
   "pygments_lexer": "ipython2",
   "version": "2.7.6"
  }
 },
 "nbformat": 4,
 "nbformat_minor": 5
}
