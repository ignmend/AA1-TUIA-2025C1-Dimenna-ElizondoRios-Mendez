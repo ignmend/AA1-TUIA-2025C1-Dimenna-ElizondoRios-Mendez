{
 "cells": [
  {
   "metadata": {},
   "cell_type": "markdown",
   "source": "Importamos las librerias necesarias.",
   "id": "92a168f5e53c267e"
  },
  {
   "metadata": {
    "ExecuteTime": {
     "end_time": "2025-09-18T20:14:15.438764Z",
     "start_time": "2025-09-18T20:14:15.434456Z"
    }
   },
   "cell_type": "code",
   "source": [
    "#Librerias para Analisis exploratorio\n",
    "import pandas as pd\n",
    "import numpy as np\n",
    "\n",
    "#Libreria para ver los dias feriados\n",
    "import holidays\n",
    "\n",
    "#Libreria para calcular distancia entre dos puntos.\n",
    "from geopy.distance import geodesic\n",
    "\n",
    "import seaborn as sns\n",
    "import matplotlib.pyplot as plt\n",
    "\n",
    "from datetime import datetime as dt\n",
    "\n",
    "\n",
    "import plotly.express as px\n",
    "import plotly.graph_objects as go\n",
    "import plotly.figure_factory as ff\n",
    "\n",
    "from sklearn.model_selection import train_test_split\n",
    "from sklearn.preprocessing import StandardScaler, OneHotEncoder   # u otros scalers\n",
    "from sklearn.linear_model import LinearRegression, Lasso, Ridge, ElasticNet, LassoCV, RidgeCV, ElasticNetCV\n",
    "from sklearn.metrics import mean_squared_error, r2_score"
   ],
   "id": "initial_id",
   "outputs": [],
   "execution_count": 152
  },
  {
   "metadata": {},
   "cell_type": "markdown",
   "source": "Se carga el Dataset de los viajes de uber.",
   "id": "d7aca9d8ec84aa01"
  },
  {
   "metadata": {
    "ExecuteTime": {
     "end_time": "2025-09-18T19:58:04.315323Z",
     "start_time": "2025-09-18T19:58:03.988765Z"
    }
   },
   "cell_type": "code",
   "source": [
    "file_path= 'uber_fares.csv'\n",
    "df = pd.read_csv(file_path)\n",
    "df.head()"
   ],
   "id": "818b32b495248938",
   "outputs": [
    {
     "data": {
      "text/plain": [
       "        key                           date  fare_amount  \\\n",
       "0  24238194    2015-05-07 19:52:06.0000003          7.5   \n",
       "1  27835199    2009-07-17 20:04:56.0000002          7.7   \n",
       "2  44984355   2009-08-24 21:45:00.00000061         12.9   \n",
       "3  25894730    2009-06-26 08:22:21.0000001          5.3   \n",
       "4  17610152  2014-08-28 17:47:00.000000188         16.0   \n",
       "\n",
       "           pickup_datetime  pickup_longitude  pickup_latitude  \\\n",
       "0  2015-05-07 19:52:06 UTC        -73.999817        40.738354   \n",
       "1  2009-07-17 20:04:56 UTC        -73.994355        40.728225   \n",
       "2  2009-08-24 21:45:00 UTC        -74.005043        40.740770   \n",
       "3  2009-06-26 08:22:21 UTC        -73.976124        40.790844   \n",
       "4  2014-08-28 17:47:00 UTC        -73.925023        40.744085   \n",
       "\n",
       "   dropoff_longitude  dropoff_latitude  passenger_count  \n",
       "0         -73.999512         40.723217                1  \n",
       "1         -73.994710         40.750325                1  \n",
       "2         -73.962565         40.772647                1  \n",
       "3         -73.965316         40.803349                3  \n",
       "4         -73.973082         40.761247                5  "
      ],
      "text/html": [
       "<div>\n",
       "<style scoped>\n",
       "    .dataframe tbody tr th:only-of-type {\n",
       "        vertical-align: middle;\n",
       "    }\n",
       "\n",
       "    .dataframe tbody tr th {\n",
       "        vertical-align: top;\n",
       "    }\n",
       "\n",
       "    .dataframe thead th {\n",
       "        text-align: right;\n",
       "    }\n",
       "</style>\n",
       "<table border=\"1\" class=\"dataframe\">\n",
       "  <thead>\n",
       "    <tr style=\"text-align: right;\">\n",
       "      <th></th>\n",
       "      <th>key</th>\n",
       "      <th>date</th>\n",
       "      <th>fare_amount</th>\n",
       "      <th>pickup_datetime</th>\n",
       "      <th>pickup_longitude</th>\n",
       "      <th>pickup_latitude</th>\n",
       "      <th>dropoff_longitude</th>\n",
       "      <th>dropoff_latitude</th>\n",
       "      <th>passenger_count</th>\n",
       "    </tr>\n",
       "  </thead>\n",
       "  <tbody>\n",
       "    <tr>\n",
       "      <th>0</th>\n",
       "      <td>24238194</td>\n",
       "      <td>2015-05-07 19:52:06.0000003</td>\n",
       "      <td>7.5</td>\n",
       "      <td>2015-05-07 19:52:06 UTC</td>\n",
       "      <td>-73.999817</td>\n",
       "      <td>40.738354</td>\n",
       "      <td>-73.999512</td>\n",
       "      <td>40.723217</td>\n",
       "      <td>1</td>\n",
       "    </tr>\n",
       "    <tr>\n",
       "      <th>1</th>\n",
       "      <td>27835199</td>\n",
       "      <td>2009-07-17 20:04:56.0000002</td>\n",
       "      <td>7.7</td>\n",
       "      <td>2009-07-17 20:04:56 UTC</td>\n",
       "      <td>-73.994355</td>\n",
       "      <td>40.728225</td>\n",
       "      <td>-73.994710</td>\n",
       "      <td>40.750325</td>\n",
       "      <td>1</td>\n",
       "    </tr>\n",
       "    <tr>\n",
       "      <th>2</th>\n",
       "      <td>44984355</td>\n",
       "      <td>2009-08-24 21:45:00.00000061</td>\n",
       "      <td>12.9</td>\n",
       "      <td>2009-08-24 21:45:00 UTC</td>\n",
       "      <td>-74.005043</td>\n",
       "      <td>40.740770</td>\n",
       "      <td>-73.962565</td>\n",
       "      <td>40.772647</td>\n",
       "      <td>1</td>\n",
       "    </tr>\n",
       "    <tr>\n",
       "      <th>3</th>\n",
       "      <td>25894730</td>\n",
       "      <td>2009-06-26 08:22:21.0000001</td>\n",
       "      <td>5.3</td>\n",
       "      <td>2009-06-26 08:22:21 UTC</td>\n",
       "      <td>-73.976124</td>\n",
       "      <td>40.790844</td>\n",
       "      <td>-73.965316</td>\n",
       "      <td>40.803349</td>\n",
       "      <td>3</td>\n",
       "    </tr>\n",
       "    <tr>\n",
       "      <th>4</th>\n",
       "      <td>17610152</td>\n",
       "      <td>2014-08-28 17:47:00.000000188</td>\n",
       "      <td>16.0</td>\n",
       "      <td>2014-08-28 17:47:00 UTC</td>\n",
       "      <td>-73.925023</td>\n",
       "      <td>40.744085</td>\n",
       "      <td>-73.973082</td>\n",
       "      <td>40.761247</td>\n",
       "      <td>5</td>\n",
       "    </tr>\n",
       "  </tbody>\n",
       "</table>\n",
       "</div>"
      ]
     },
     "execution_count": 115,
     "metadata": {},
     "output_type": "execute_result"
    }
   ],
   "execution_count": 115
  },
  {
   "metadata": {
    "ExecuteTime": {
     "end_time": "2025-09-18T19:58:04.361449Z",
     "start_time": "2025-09-18T19:58:04.333288Z"
    }
   },
   "cell_type": "code",
   "source": [
    "#Visualizamos el tipo de datos de cada columna y el tamano del df\n",
    "df.info()\n",
    "df.shape\n"
   ],
   "id": "570e8ffb8fa3bb66",
   "outputs": [
    {
     "name": "stdout",
     "output_type": "stream",
     "text": [
      "<class 'pandas.core.frame.DataFrame'>\n",
      "RangeIndex: 200000 entries, 0 to 199999\n",
      "Data columns (total 9 columns):\n",
      " #   Column             Non-Null Count   Dtype  \n",
      "---  ------             --------------   -----  \n",
      " 0   key                200000 non-null  int64  \n",
      " 1   date               200000 non-null  object \n",
      " 2   fare_amount        200000 non-null  float64\n",
      " 3   pickup_datetime    200000 non-null  object \n",
      " 4   pickup_longitude   200000 non-null  float64\n",
      " 5   pickup_latitude    200000 non-null  float64\n",
      " 6   dropoff_longitude  199999 non-null  float64\n",
      " 7   dropoff_latitude   199999 non-null  float64\n",
      " 8   passenger_count    200000 non-null  int64  \n",
      "dtypes: float64(5), int64(2), object(2)\n",
      "memory usage: 13.7+ MB\n"
     ]
    },
    {
     "data": {
      "text/plain": [
       "(200000, 9)"
      ]
     },
     "execution_count": 116,
     "metadata": {},
     "output_type": "execute_result"
    }
   ],
   "execution_count": 116
  },
  {
   "metadata": {
    "ExecuteTime": {
     "end_time": "2025-09-18T19:58:06.557006Z",
     "start_time": "2025-09-18T19:58:04.368041Z"
    }
   },
   "cell_type": "code",
   "source": [
    "#Convertimos las columnas object a un formato adecuado.\n",
    "df['date'] = pd.to_datetime(df['date'], errors='coerce')\n",
    "df['pickup_datetime'] = pd.to_datetime(df['pickup_datetime'], errors='coerce')"
   ],
   "id": "f4548b4546c4749b",
   "outputs": [],
   "execution_count": 117
  },
  {
   "metadata": {
    "ExecuteTime": {
     "end_time": "2025-09-18T19:58:06.574617Z",
     "start_time": "2025-09-18T19:58:06.564263Z"
    }
   },
   "cell_type": "code",
   "source": "df.info()",
   "id": "bd1790e984ba0f14",
   "outputs": [
    {
     "name": "stdout",
     "output_type": "stream",
     "text": [
      "<class 'pandas.core.frame.DataFrame'>\n",
      "RangeIndex: 200000 entries, 0 to 199999\n",
      "Data columns (total 9 columns):\n",
      " #   Column             Non-Null Count   Dtype              \n",
      "---  ------             --------------   -----              \n",
      " 0   key                200000 non-null  int64              \n",
      " 1   date               200000 non-null  datetime64[ns]     \n",
      " 2   fare_amount        200000 non-null  float64            \n",
      " 3   pickup_datetime    200000 non-null  datetime64[ns, UTC]\n",
      " 4   pickup_longitude   200000 non-null  float64            \n",
      " 5   pickup_latitude    200000 non-null  float64            \n",
      " 6   dropoff_longitude  199999 non-null  float64            \n",
      " 7   dropoff_latitude   199999 non-null  float64            \n",
      " 8   passenger_count    200000 non-null  int64              \n",
      "dtypes: datetime64[ns, UTC](1), datetime64[ns](1), float64(5), int64(2)\n",
      "memory usage: 13.7 MB\n"
     ]
    }
   ],
   "execution_count": 118
  },
  {
   "metadata": {
    "ExecuteTime": {
     "end_time": "2025-09-18T19:58:06.587086Z",
     "start_time": "2025-09-18T19:58:06.580738Z"
    }
   },
   "cell_type": "code",
   "source": [
    "#Contamos los nulos para cada columna\n",
    "nulos_por_columna = df.isnull().sum()\n",
    "\n",
    "print(nulos_por_columna)\n"
   ],
   "id": "f0eee0c1fe0f90de",
   "outputs": [
    {
     "name": "stdout",
     "output_type": "stream",
     "text": [
      "key                  0\n",
      "date                 0\n",
      "fare_amount          0\n",
      "pickup_datetime      0\n",
      "pickup_longitude     0\n",
      "pickup_latitude      0\n",
      "dropoff_longitude    1\n",
      "dropoff_latitude     1\n",
      "passenger_count      0\n",
      "dtype: int64\n"
     ]
    }
   ],
   "execution_count": 119
  },
  {
   "metadata": {
    "ExecuteTime": {
     "end_time": "2025-09-18T19:58:06.628754Z",
     "start_time": "2025-09-18T19:58:06.616040Z"
    }
   },
   "cell_type": "code",
   "source": [
    "#Eliminamos los nulos porque no son representativos\n",
    "df = df.dropna()"
   ],
   "id": "31fd4fc464af3d9f",
   "outputs": [],
   "execution_count": 120
  },
  {
   "metadata": {
    "ExecuteTime": {
     "end_time": "2025-09-18T19:58:06.644616Z",
     "start_time": "2025-09-18T19:58:06.637629Z"
    }
   },
   "cell_type": "code",
   "source": [
    "#Verificamos que no haya nulos.\n",
    "\n",
    "nulos_por_columna = df.isnull().sum()\n",
    "\n",
    "print(nulos_por_columna)"
   ],
   "id": "e8bfa7fe61f47e6f",
   "outputs": [
    {
     "name": "stdout",
     "output_type": "stream",
     "text": [
      "key                  0\n",
      "date                 0\n",
      "fare_amount          0\n",
      "pickup_datetime      0\n",
      "pickup_longitude     0\n",
      "pickup_latitude      0\n",
      "dropoff_longitude    0\n",
      "dropoff_latitude     0\n",
      "passenger_count      0\n",
      "dtype: int64\n"
     ]
    }
   ],
   "execution_count": 121
  },
  {
   "metadata": {
    "ExecuteTime": {
     "end_time": "2025-09-18T19:58:07.958467Z",
     "start_time": "2025-09-18T19:58:06.654334Z"
    }
   },
   "cell_type": "code",
   "source": [
    "#Ploteamos la latitud y longitud para ver que puntos estan fuera de rango.\n",
    "plt.figure(figsize=(8,8))\n",
    "plt.scatter(\n",
    "    df[\"pickup_longitude\"], df[\"pickup_latitude\"],\n",
    "    c=\"blue\", s=1, alpha=0.5, label=\"Pickups\"\n",
    ")\n",
    "plt.scatter(\n",
    "    df[\"dropoff_longitude\"], df[\"dropoff_latitude\"],\n",
    "    c=\"red\", s=1, alpha=0.5, label=\"Dropoffs\"\n",
    ")\n",
    "\n",
    "plt.xlabel(\"Longitud\")\n",
    "plt.ylabel(\"Latitud\")\n",
    "plt.legend()\n",
    "plt.title(\"Puntos geográficos de viajes en NYC\")\n",
    "#Se limitan los ejes para poder ver en escala.\n",
    "plt.xlim(-75, -70)\n",
    "plt.ylim(40.5, 41.0)\n",
    "plt.show()\n"
   ],
   "id": "ad8b0fff6fb88381",
   "outputs": [
    {
     "data": {
      "text/plain": [
       "<Figure size 800x800 with 1 Axes>"
      ],
      "image/png": "[encoded data removed]"
     },
     "metadata": {},
     "output_type": "display_data"
    }
   ],
   "execution_count": 122
  },
  {
   "metadata": {
    "ExecuteTime": {
     "end_time": "2025-09-18T19:58:11.406912Z",
     "start_time": "2025-09-18T19:58:07.966502Z"
    }
   },
   "cell_type": "code",
   "source": [
    "# Utilizamos una funcion auxiliar para validad que la latitud y la longitud sean coordenadas que pertenecientes a la ciudad de new york, si no es así, reemplazamos por nulos para luego rellenarlos con el metodo de knn\n",
    "\n",
    "def es_coord_ny(lat, lon):\n",
    "    \"\"\"\n",
    "    Valida si una coordenada (lat, lon) está dentro de los límites de NYC.\n",
    "    \"\"\"\n",
    "    return (40.5 <= lat <= 41.0) and (-74.3 <= lon <= -73.6)\n",
    "\n",
    "df[\"pickup_en_ny\"] = df.apply(lambda row: es_coord_ny(row[\"pickup_latitude\"], row[\"pickup_longitude\"]), axis=1)\n",
    "\n",
    "\n",
    "df[\"dropoff_en_ny\"] = df.apply(lambda row: es_coord_ny(row[\"dropoff_latitude\"], row[\"dropoff_longitude\"]), axis=1)\n",
    "\n",
    "\n",
    "df[\"viaje_en_ny\"] = df[\"pickup_en_ny\"] & df[\"dropoff_en_ny\"]\n",
    "df.describe()"
   ],
   "id": "fc529ed171a63b89",
   "outputs": [
    {
     "data": {
      "text/plain": [
       "                key                           date    fare_amount  \\\n",
       "count  1.999990e+05                         199999  199999.000000   \n",
       "mean   2.771248e+07  2012-03-22 14:58:56.889214720      11.359892   \n",
       "min    1.000000e+00  2009-01-01 01:15:22.000000600     -52.000000   \n",
       "25%    1.382534e+07            2010-08-25 08:19:54       6.000000   \n",
       "50%    2.774524e+07            2012-03-21 20:44:25       8.500000   \n",
       "75%    4.155535e+07  2013-10-19 02:21:09.000000512      12.500000   \n",
       "max    5.542357e+07  2015-06-30 23:40:39.000000100     499.000000   \n",
       "std    1.601386e+07                            NaN       9.901760   \n",
       "\n",
       "       pickup_longitude  pickup_latitude  dropoff_longitude  dropoff_latitude  \\\n",
       "count     199999.000000    199999.000000      199999.000000     199999.000000   \n",
       "mean         -72.527631        39.935881         -72.525292         39.923890   \n",
       "min        -1340.648410       -74.015515       -3356.666300       -881.985513   \n",
       "25%          -73.992065        40.734796         -73.991407         40.733823   \n",
       "50%          -73.981823        40.752592         -73.980093         40.753042   \n",
       "75%          -73.967154        40.767158         -73.963658         40.768001   \n",
       "max           57.418457      1644.421482        1153.572603        872.697628   \n",
       "std           11.437815         7.720558          13.117408          6.794829   \n",
       "\n",
       "       passenger_count  \n",
       "count    199999.000000  \n",
       "mean          1.684543  \n",
       "min           0.000000  \n",
       "25%           1.000000  \n",
       "50%           1.000000  \n",
       "75%           2.000000  \n",
       "max         208.000000  \n",
       "std           1.385995  "
      ],
      "text/html": [
       "<div>\n",
       "<style scoped>\n",
       "    .dataframe tbody tr th:only-of-type {\n",
       "        vertical-align: middle;\n",
       "    }\n",
       "\n",
       "    .dataframe tbody tr th {\n",
       "        vertical-align: top;\n",
       "    }\n",
       "\n",
       "    .dataframe thead th {\n",
       "        text-align: right;\n",
       "    }\n",
       "</style>\n",
       "<table border=\"1\" class=\"dataframe\">\n",
       "  <thead>\n",
       "    <tr style=\"text-align: right;\">\n",
       "      <th></th>\n",
       "      <th>key</th>\n",
       "      <th>date</th>\n",
       "      <th>fare_amount</th>\n",
       "      <th>pickup_longitude</th>\n",
       "      <th>pickup_latitude</th>\n",
       "      <th>dropoff_longitude</th>\n",
       "      <th>dropoff_latitude</th>\n",
       "      <th>passenger_count</th>\n",
       "    </tr>\n",
       "  </thead>\n",
       "  <tbody>\n",
       "    <tr>\n",
       "      <th>count</th>\n",
       "      <td>1.999990e+05</td>\n",
       "      <td>199999</td>\n",
       "      <td>199999.000000</td>\n",
       "      <td>199999.000000</td>\n",
       "      <td>199999.000000</td>\n",
       "      <td>199999.000000</td>\n",
       "      <td>199999.000000</td>\n",
       "      <td>199999.000000</td>\n",
       "    </tr>\n",
       "    <tr>\n",
       "      <th>mean</th>\n",
       "      <td>2.771248e+07</td>\n",
       "      <td>2012-03-22 14:58:56.889214720</td>\n",
       "      <td>11.359892</td>\n",
       "      <td>-72.527631</td>\n",
       "      <td>39.935881</td>\n",
       "      <td>-72.525292</td>\n",
       "      <td>39.923890</td>\n",
       "      <td>1.684543</td>\n",
       "    </tr>\n",
       "    <tr>\n",
       "      <th>min</th>\n",
       "      <td>1.000000e+00</td>\n",
       "      <td>2009-01-01 01:15:22.000000600</td>\n",
       "      <td>-52.000000</td>\n",
       "      <td>-1340.648410</td>\n",
       "      <td>-74.015515</td>\n",
       "      <td>-3356.666300</td>\n",
       "      <td>-881.985513</td>\n",
       "      <td>0.000000</td>\n",
       "    </tr>\n",
       "    <tr>\n",
       "      <th>25%</th>\n",
       "      <td>1.382534e+07</td>\n",
       "      <td>2010-08-25 08:19:54</td>\n",
       "      <td>6.000000</td>\n",
       "      <td>-73.992065</td>\n",
       "      <td>40.734796</td>\n",
       "      <td>-73.991407</td>\n",
       "      <td>40.733823</td>\n",
       "      <td>1.000000</td>\n",
       "    </tr>\n",
       "    <tr>\n",
       "      <th>50%</th>\n",
       "      <td>2.774524e+07</td>\n",
       "      <td>2012-03-21 20:44:25</td>\n",
       "      <td>8.500000</td>\n",
       "      <td>-73.981823</td>\n",
       "      <td>40.752592</td>\n",
       "      <td>-73.980093</td>\n",
       "      <td>40.753042</td>\n",
       "      <td>1.000000</td>\n",
       "    </tr>\n",
       "    <tr>\n",
       "      <th>75%</th>\n",
       "      <td>4.155535e+07</td>\n",
       "      <td>2013-10-19 02:21:09.000000512</td>\n",
       "      <td>12.500000</td>\n",
       "      <td>-73.967154</td>\n",
       "      <td>40.767158</td>\n",
       "      <td>-73.963658</td>\n",
       "      <td>40.768001</td>\n",
       "      <td>2.000000</td>\n",
       "    </tr>\n",
       "    <tr>\n",
       "      <th>max</th>\n",
       "      <td>5.542357e+07</td>\n",
       "      <td>2015-06-30 23:40:39.000000100</td>\n",
       "      <td>499.000000</td>\n",
       "      <td>57.418457</td>\n",
       "      <td>1644.421482</td>\n",
       "      <td>1153.572603</td>\n",
       "      <td>872.697628</td>\n",
       "      <td>208.000000</td>\n",
       "    </tr>\n",
       "    <tr>\n",
       "      <th>std</th>\n",
       "      <td>1.601386e+07</td>\n",
       "      <td>NaN</td>\n",
       "      <td>9.901760</td>\n",
       "      <td>11.437815</td>\n",
       "      <td>7.720558</td>\n",
       "      <td>13.117408</td>\n",
       "      <td>6.794829</td>\n",
       "      <td>1.385995</td>\n",
       "    </tr>\n",
       "  </tbody>\n",
       "</table>\n",
       "</div>"
      ]
     },
     "execution_count": 123,
     "metadata": {},
     "output_type": "execute_result"
    }
   ],
   "execution_count": 123
  },
  {
   "metadata": {
    "ExecuteTime": {
     "end_time": "2025-09-18T19:58:11.420476Z",
     "start_time": "2025-09-18T19:58:11.414041Z"
    }
   },
   "cell_type": "code",
   "source": [
    "#Vemos que 4121 coordenadas de pickup estan fuera de los limites de new york\n",
    "df[\"pickup_en_ny\"].value_counts()\n"
   ],
   "id": "d9984ffedb8b1f8d",
   "outputs": [
    {
     "data": {
      "text/plain": [
       "pickup_en_ny\n",
       "True     195878\n",
       "False      4121\n",
       "Name: count, dtype: int64"
      ]
     },
     "execution_count": 124,
     "metadata": {},
     "output_type": "execute_result"
    }
   ],
   "execution_count": 124
  },
  {
   "metadata": {
    "ExecuteTime": {
     "end_time": "2025-09-18T19:58:11.443830Z",
     "start_time": "2025-09-18T19:58:11.436766Z"
    }
   },
   "cell_type": "code",
   "source": [
    "#Vemos que 4121 coordenadas de dropoff estan fuera de los limites de new york\n",
    "df[\"dropoff_en_ny\"].value_counts()\n"
   ],
   "id": "891c7c2df0b6d9ff",
   "outputs": [
    {
     "data": {
      "text/plain": [
       "dropoff_en_ny\n",
       "True     195879\n",
       "False      4120\n",
       "Name: count, dtype: int64"
      ]
     },
     "execution_count": 125,
     "metadata": {},
     "output_type": "execute_result"
    }
   ],
   "execution_count": 125
  },
  {
   "metadata": {
    "ExecuteTime": {
     "end_time": "2025-09-18T19:58:11.465981Z",
     "start_time": "2025-09-18T19:58:11.455525Z"
    }
   },
   "cell_type": "code",
   "source": [
    "#Reemplamos las coordenadas fuera de zona por valores nulos con el objetivo de luego utilizar el metodo de knn para rellenarlos.\n",
    "# Si pickup_en_ny es False → NaN en pickup_latitude y pickup_longitude\n",
    "df.loc[~df[\"pickup_en_ny\"], [\"pickup_latitude\", \"pickup_longitude\"]] = np.nan\n",
    "\n",
    "# Si dropoff_en_ny es False → NaN en dropoff_latitude y dropoff_longitude\n",
    "df.loc[~df[\"dropoff_en_ny\"], [\"dropoff_latitude\", \"dropoff_longitude\"]] = np.nan\n"
   ],
   "id": "cf9aabf227ac8ef0",
   "outputs": [],
   "execution_count": 126
  },
  {
   "metadata": {
    "ExecuteTime": {
     "end_time": "2025-09-18T19:58:11.481299Z",
     "start_time": "2025-09-18T19:58:11.473556Z"
    }
   },
   "cell_type": "code",
   "source": [
    "#Contamos los nulos nuevamente y verificamos que las coordenadas fuera de zona se encuentran nulas.\n",
    "nulos_por_columna = df.isnull().sum()\n",
    "\n",
    "print(nulos_por_columna)"
   ],
   "id": "607732f7cc3fc624",
   "outputs": [
    {
     "name": "stdout",
     "output_type": "stream",
     "text": [
      "key                     0\n",
      "date                    0\n",
      "fare_amount             0\n",
      "pickup_datetime         0\n",
      "pickup_longitude     4121\n",
      "pickup_latitude      4121\n",
      "dropoff_longitude    4120\n",
      "dropoff_latitude     4120\n",
      "passenger_count         0\n",
      "pickup_en_ny            0\n",
      "dropoff_en_ny           0\n",
      "viaje_en_ny             0\n",
      "dtype: int64\n"
     ]
    }
   ],
   "execution_count": 127
  },
  {
   "metadata": {
    "ExecuteTime": {
     "end_time": "2025-09-18T19:58:39.788219Z",
     "start_time": "2025-09-18T19:58:11.488298Z"
    }
   },
   "cell_type": "code",
   "source": [
    "#Ahora calculamos la distancia utilizando GEOPY\n",
    "\n",
    "\n",
    "def calculate_distance(row):\n",
    "    # Si falta alguna coordenada → devuelve NaN\n",
    "    if (pd.isnull(row['pickup_latitude']) or\n",
    "        pd.isnull(row['pickup_longitude']) or\n",
    "        pd.isnull(row['dropoff_latitude']) or\n",
    "        pd.isnull(row['dropoff_longitude'])):\n",
    "        return np.nan\n",
    "\n",
    "    start = (row['pickup_latitude'], row['pickup_longitude'])\n",
    "    end = (row['dropoff_latitude'], row['dropoff_longitude'])\n",
    "\n",
    "    return geodesic(start, end).kilometers\n",
    "\n",
    "# Aplica la función\n",
    "df['distance_km'] = df.apply(calculate_distance, axis=1)\n"
   ],
   "id": "36cd5ef72f31f0bc",
   "outputs": [],
   "execution_count": 128
  },
  {
   "metadata": {
    "ExecuteTime": {
     "end_time": "2025-09-18T19:58:39.895282Z",
     "start_time": "2025-09-18T19:58:39.795153Z"
    }
   },
   "cell_type": "code",
   "source": "df.describe()",
   "id": "18934e0dfa18d333",
   "outputs": [
    {
     "data": {
      "text/plain": [
       "                key                           date    fare_amount  \\\n",
       "count  1.999990e+05                         199999  199999.000000   \n",
       "mean   2.771248e+07  2012-03-22 14:58:56.889214720      11.359892   \n",
       "min    1.000000e+00  2009-01-01 01:15:22.000000600     -52.000000   \n",
       "25%    1.382534e+07            2010-08-25 08:19:54       6.000000   \n",
       "50%    2.774524e+07            2012-03-21 20:44:25       8.500000   \n",
       "75%    4.155535e+07  2013-10-19 02:21:09.000000512      12.500000   \n",
       "max    5.542357e+07  2015-06-30 23:40:39.000000100     499.000000   \n",
       "std    1.601386e+07                            NaN       9.901760   \n",
       "\n",
       "       pickup_longitude  pickup_latitude  dropoff_longitude  dropoff_latitude  \\\n",
       "count     195878.000000    195878.000000      195879.000000     195879.000000   \n",
       "mean         -73.975454        40.750782         -73.974514         40.751084   \n",
       "min          -74.299012        40.508697         -74.299833         40.510800   \n",
       "25%          -73.992277        40.736457         -73.991597         40.735335   \n",
       "50%          -73.982114        40.753298         -73.980545         40.753738   \n",
       "75%          -73.968385        40.767521         -73.965426         40.768316   \n",
       "max          -73.622390        40.991651         -73.600327         40.996788   \n",
       "std            0.034758         0.027063           0.034521          0.030858   \n",
       "\n",
       "       passenger_count    distance_km  \n",
       "count    199999.000000  195624.000000  \n",
       "mean          1.684543       3.313336  \n",
       "min           0.000000       0.000000  \n",
       "25%           1.000000       1.257087  \n",
       "50%           1.000000       2.157224  \n",
       "75%           2.000000       3.905297  \n",
       "max         208.000000      36.639731  \n",
       "std           1.385995       3.574993  "
      ],
      "text/html": [
       "<div>\n",
       "<style scoped>\n",
       "    .dataframe tbody tr th:only-of-type {\n",
       "        vertical-align: middle;\n",
       "    }\n",
       "\n",
       "    .dataframe tbody tr th {\n",
       "        vertical-align: top;\n",
       "    }\n",
       "\n",
       "    .dataframe thead th {\n",
       "        text-align: right;\n",
       "    }\n",
       "</style>\n",
       "<table border=\"1\" class=\"dataframe\">\n",
       "  <thead>\n",
       "    <tr style=\"text-align: right;\">\n",
       "      <th></th>\n",
       "      <th>key</th>\n",
       "      <th>date</th>\n",
       "      <th>fare_amount</th>\n",
       "      <th>pickup_longitude</th>\n",
       "      <th>pickup_latitude</th>\n",
       "      <th>dropoff_longitude</th>\n",
       "      <th>dropoff_latitude</th>\n",
       "      <th>passenger_count</th>\n",
       "      <th>distance_km</th>\n",
       "    </tr>\n",
       "  </thead>\n",
       "  <tbody>\n",
       "    <tr>\n",
       "      <th>count</th>\n",
       "      <td>1.999990e+05</td>\n",
       "      <td>199999</td>\n",
       "      <td>199999.000000</td>\n",
       "      <td>195878.000000</td>\n",
       "      <td>195878.000000</td>\n",
       "      <td>195879.000000</td>\n",
       "      <td>195879.000000</td>\n",
       "      <td>199999.000000</td>\n",
       "      <td>195624.000000</td>\n",
       "    </tr>\n",
       "    <tr>\n",
       "      <th>mean</th>\n",
       "      <td>2.771248e+07</td>\n",
       "      <td>2012-03-22 14:58:56.889214720</td>\n",
       "      <td>11.359892</td>\n",
       "      <td>-73.975454</td>\n",
       "      <td>40.750782</td>\n",
       "      <td>-73.974514</td>\n",
       "      <td>40.751084</td>\n",
       "      <td>1.684543</td>\n",
       "      <td>3.313336</td>\n",
       "    </tr>\n",
       "    <tr>\n",
       "      <th>min</th>\n",
       "      <td>1.000000e+00</td>\n",
       "      <td>2009-01-01 01:15:22.000000600</td>\n",
       "      <td>-52.000000</td>\n",
       "      <td>-74.299012</td>\n",
       "      <td>40.508697</td>\n",
       "      <td>-74.299833</td>\n",
       "      <td>40.510800</td>\n",
       "      <td>0.000000</td>\n",
       "      <td>0.000000</td>\n",
       "    </tr>\n",
       "    <tr>\n",
       "      <th>25%</th>\n",
       "      <td>1.382534e+07</td>\n",
       "      <td>2010-08-25 08:19:54</td>\n",
       "      <td>6.000000</td>\n",
       "      <td>-73.992277</td>\n",
       "      <td>40.736457</td>\n",
       "      <td>-73.991597</td>\n",
       "      <td>40.735335</td>\n",
       "      <td>1.000000</td>\n",
       "      <td>1.257087</td>\n",
       "    </tr>\n",
       "    <tr>\n",
       "      <th>50%</th>\n",
       "      <td>2.774524e+07</td>\n",
       "      <td>2012-03-21 20:44:25</td>\n",
       "      <td>8.500000</td>\n",
       "      <td>-73.982114</td>\n",
       "      <td>40.753298</td>\n",
       "      <td>-73.980545</td>\n",
       "      <td>40.753738</td>\n",
       "      <td>1.000000</td>\n",
       "      <td>2.157224</td>\n",
       "    </tr>\n",
       "    <tr>\n",
       "      <th>75%</th>\n",
       "      <td>4.155535e+07</td>\n",
       "      <td>2013-10-19 02:21:09.000000512</td>\n",
       "      <td>12.500000</td>\n",
       "      <td>-73.968385</td>\n",
       "      <td>40.767521</td>\n",
       "      <td>-73.965426</td>\n",
       "      <td>40.768316</td>\n",
       "      <td>2.000000</td>\n",
       "      <td>3.905297</td>\n",
       "    </tr>\n",
       "    <tr>\n",
       "      <th>max</th>\n",
       "      <td>5.542357e+07</td>\n",
       "      <td>2015-06-30 23:40:39.000000100</td>\n",
       "      <td>499.000000</td>\n",
       "      <td>-73.622390</td>\n",
       "      <td>40.991651</td>\n",
       "      <td>-73.600327</td>\n",
       "      <td>40.996788</td>\n",
       "      <td>208.000000</td>\n",
       "      <td>36.639731</td>\n",
       "    </tr>\n",
       "    <tr>\n",
       "      <th>std</th>\n",
       "      <td>1.601386e+07</td>\n",
       "      <td>NaN</td>\n",
       "      <td>9.901760</td>\n",
       "      <td>0.034758</td>\n",
       "      <td>0.027063</td>\n",
       "      <td>0.034521</td>\n",
       "      <td>0.030858</td>\n",
       "      <td>1.385995</td>\n",
       "      <td>3.574993</td>\n",
       "    </tr>\n",
       "  </tbody>\n",
       "</table>\n",
       "</div>"
      ]
     },
     "execution_count": 129,
     "metadata": {},
     "output_type": "execute_result"
    }
   ],
   "execution_count": 129
  },
  {
   "metadata": {
    "ExecuteTime": {
     "end_time": "2025-09-18T19:58:39.914982Z",
     "start_time": "2025-09-18T19:58:39.910924Z"
    }
   },
   "cell_type": "code",
   "source": [
    "#Verificamos nuevamente el tamanio\n",
    "df.shape"
   ],
   "id": "ab8bbde3ccda0cbe",
   "outputs": [
    {
     "data": {
      "text/plain": [
       "(199999, 13)"
      ]
     },
     "execution_count": 130,
     "metadata": {},
     "output_type": "execute_result"
    }
   ],
   "execution_count": 130
  },
  {
   "metadata": {
    "ExecuteTime": {
     "end_time": "2025-09-18T19:58:39.946772Z",
     "start_time": "2025-09-18T19:58:39.927588Z"
    }
   },
   "cell_type": "code",
   "source": [
    "#Se crea df1 copia del df con las coordenadas validadas.\n",
    "df1 = df.copy()\n",
    "df1.info()"
   ],
   "id": "bd332a2f798b30c6",
   "outputs": [
    {
     "name": "stdout",
     "output_type": "stream",
     "text": [
      "<class 'pandas.core.frame.DataFrame'>\n",
      "Index: 199999 entries, 0 to 199999\n",
      "Data columns (total 13 columns):\n",
      " #   Column             Non-Null Count   Dtype              \n",
      "---  ------             --------------   -----              \n",
      " 0   key                199999 non-null  int64              \n",
      " 1   date               199999 non-null  datetime64[ns]     \n",
      " 2   fare_amount        199999 non-null  float64            \n",
      " 3   pickup_datetime    199999 non-null  datetime64[ns, UTC]\n",
      " 4   pickup_longitude   195878 non-null  float64            \n",
      " 5   pickup_latitude    195878 non-null  float64            \n",
      " 6   dropoff_longitude  195879 non-null  float64            \n",
      " 7   dropoff_latitude   195879 non-null  float64            \n",
      " 8   passenger_count    199999 non-null  int64              \n",
      " 9   pickup_en_ny       199999 non-null  bool               \n",
      " 10  dropoff_en_ny      199999 non-null  bool               \n",
      " 11  viaje_en_ny        199999 non-null  bool               \n",
      " 12  distance_km        195624 non-null  float64            \n",
      "dtypes: bool(3), datetime64[ns, UTC](1), datetime64[ns](1), float64(6), int64(2)\n",
      "memory usage: 17.4 MB\n"
     ]
    }
   ],
   "execution_count": 131
  },
  {
   "metadata": {
    "ExecuteTime": {
     "end_time": "2025-09-18T19:58:39.959867Z",
     "start_time": "2025-09-18T19:58:39.953868Z"
    }
   },
   "cell_type": "code",
   "source": [
    "#Contamos los valores de los pasajeros\n",
    "df1[\"passenger_count\"].value_counts()\n"
   ],
   "id": "701c23ab1d36d35e",
   "outputs": [
    {
     "data": {
      "text/plain": [
       "passenger_count\n",
       "1      138425\n",
       "2       29428\n",
       "5       14009\n",
       "3        8881\n",
       "4        4276\n",
       "6        4271\n",
       "0         708\n",
       "208         1\n",
       "Name: count, dtype: int64"
      ]
     },
     "execution_count": 132,
     "metadata": {},
     "output_type": "execute_result"
    }
   ],
   "execution_count": 132
  },
  {
   "metadata": {
    "ExecuteTime": {
     "end_time": "2025-09-18T19:58:39.985366Z",
     "start_time": "2025-09-18T19:58:39.976749Z"
    }
   },
   "cell_type": "code",
   "source": [
    "#Investigando en internet averiguamos que existe UberFlash (para envio de paqueteria) y UberXL para viajes de grupos de hasta 6 personas.\n",
    "#Por lo que el valor atipico en cantidad de pasajeros seria el de 208, que lo vamos a eliminar ya que solo aparece una vez\n",
    "\n",
    "\n",
    "df1.loc[(df1['passenger_count'] > 6) , 'passenger_count'] = 6\n",
    "df1[\"passenger_count\"].value_counts()\n"
   ],
   "id": "c7f2697ce954e0e5",
   "outputs": [
    {
     "data": {
      "text/plain": [
       "passenger_count\n",
       "1    138425\n",
       "2     29428\n",
       "5     14009\n",
       "3      8881\n",
       "4      4276\n",
       "6      4272\n",
       "0       708\n",
       "Name: count, dtype: int64"
      ]
     },
     "execution_count": 133,
     "metadata": {},
     "output_type": "execute_result"
    }
   ],
   "execution_count": 133
  },
  {
   "metadata": {
    "ExecuteTime": {
     "end_time": "2025-09-18T19:58:40.036878Z",
     "start_time": "2025-09-18T19:58:39.999600Z"
    }
   },
   "cell_type": "code",
   "source": [
    "#Se agrega una columna para extraer el dia de la semana en el que se hizo el viaje.Lunes= 0 y Domingo = 6\n",
    "df1['date'] = pd.to_datetime(df1['date'])\n",
    "\n",
    "df1['dia_de_la_semana'] = df1['date'].dt.weekday\n",
    "df1['dia_de_la_semana'].value_counts()"
   ],
   "id": "25ae9c56c43327f1",
   "outputs": [
    {
     "data": {
      "text/plain": [
       "dia_de_la_semana\n",
       "4    30880\n",
       "5    30251\n",
       "3    30021\n",
       "2    29037\n",
       "1    28126\n",
       "6    26441\n",
       "0    25243\n",
       "Name: count, dtype: int64"
      ]
     },
     "execution_count": 134,
     "metadata": {},
     "output_type": "execute_result"
    }
   ],
   "execution_count": 134
  },
  {
   "metadata": {
    "ExecuteTime": {
     "end_time": "2025-09-18T19:58:40.051219Z",
     "start_time": "2025-09-18T19:58:40.048207Z"
    }
   },
   "cell_type": "code",
   "source": "print(df1.columns)\n",
   "id": "7b8f84f1789c68db",
   "outputs": [
    {
     "name": "stdout",
     "output_type": "stream",
     "text": [
      "Index(['key', 'date', 'fare_amount', 'pickup_datetime', 'pickup_longitude',\n",
      "       'pickup_latitude', 'dropoff_longitude', 'dropoff_latitude',\n",
      "       'passenger_count', 'pickup_en_ny', 'dropoff_en_ny', 'viaje_en_ny',\n",
      "       'distance_km', 'dia_de_la_semana'],\n",
      "      dtype='object')\n"
     ]
    }
   ],
   "execution_count": 135
  },
  {
   "metadata": {
    "ExecuteTime": {
     "end_time": "2025-09-18T19:58:40.165545Z",
     "start_time": "2025-09-18T19:58:40.070140Z"
    }
   },
   "cell_type": "code",
   "source": [
    "#Se crea una columna para indicar la franja horaria donde ocurrio el viaje.\n",
    "\n",
    "df1['pickup_datetime'] = df1['date'].dt.hour\n",
    "df1\n",
    "def franja(hora):\n",
    "  if(0 <= hora <6):\n",
    "    return 'Madrugada'\n",
    "  elif(6<= hora <12):\n",
    "    return 'Mañana'\n",
    "  elif(12<= hora <18):\n",
    "    return 'Tarde'\n",
    "  elif(18<= hora <= 23):\n",
    "    return 'Noche'\n",
    "\n",
    "df1['franja_horaria'] = df1['pickup_datetime'].apply(franja)\n",
    "df1['franja_horaria'].value_counts()"
   ],
   "id": "508070d0921daf77",
   "outputs": [
    {
     "data": {
      "text/plain": [
       "franja_horaria\n",
       "Noche        68706\n",
       "Tarde        57382\n",
       "Mañana       48150\n",
       "Madrugada    25761\n",
       "Name: count, dtype: int64"
      ]
     },
     "execution_count": 136,
     "metadata": {},
     "output_type": "execute_result"
    }
   ],
   "execution_count": 136
  },
  {
   "metadata": {
    "ExecuteTime": {
     "end_time": "2025-09-18T19:58:40.294473Z",
     "start_time": "2025-09-18T19:58:40.182230Z"
    }
   },
   "cell_type": "code",
   "source": [
    "#Se utiliza la libreria Holidays para crear una columna que indique si el dia es feriado.\n",
    "\n",
    "us_holidays = holidays.US(years=df1[\"date\"].dt.year.unique())\n",
    "\n",
    "df1[\"Feriado\"] = df1[\"date\"].dt.date.isin(us_holidays)\n",
    "df1[\"Feriado\"].value_counts()\n"
   ],
   "id": "dc42c9e81af3e023",
   "outputs": [
    {
     "data": {
      "text/plain": [
       "Feriado\n",
       "False    195475\n",
       "True       4524\n",
       "Name: count, dtype: int64"
      ]
     },
     "execution_count": 137,
     "metadata": {},
     "output_type": "execute_result"
    }
   ],
   "execution_count": 137
  },
  {
   "metadata": {
    "ExecuteTime": {
     "end_time": "2025-09-18T19:58:40.572884Z",
     "start_time": "2025-09-18T19:58:40.309882Z"
    }
   },
   "cell_type": "code",
   "source": [
    "#Creamos una columna que determina en que semana del mes se produjo ese cambio.\n",
    "def semana_del_mes(dt):\n",
    "    dia = dt.day\n",
    "    if 1 <= dia <= 7:\n",
    "        return 1\n",
    "    elif 8 <= dia <= 15:\n",
    "        return 2\n",
    "    elif 16 <= dia <= 23:\n",
    "        return 3\n",
    "    else:\n",
    "        return 4\n",
    "\n",
    "df1[\"week_of_month\"] = df1[\"date\"].apply(semana_del_mes)\n",
    "df1[\"week_of_month\"] .value_counts()\n"
   ],
   "id": "66e1622759c2ede0",
   "outputs": [
    {
     "data": {
      "text/plain": [
       "week_of_month\n",
       "3    54171\n",
       "2    53903\n",
       "4    47156\n",
       "1    44769\n",
       "Name: count, dtype: int64"
      ]
     },
     "execution_count": 138,
     "metadata": {},
     "output_type": "execute_result"
    }
   ],
   "execution_count": 138
  },
  {
   "metadata": {
    "ExecuteTime": {
     "end_time": "2025-09-18T19:58:40.591626Z",
     "start_time": "2025-09-18T19:58:40.580677Z"
    }
   },
   "cell_type": "code",
   "source": [
    "\n",
    "#Borro las columnas que no necesito para entrenar mi modelo\n",
    "\n",
    "df1 = df1.drop(\n",
    "    [\n",
    "        'key', 'date', 'pickup_datetime',\n",
    "        'passenger_count', 'pickup_en_ny', 'dropoff_en_ny', 'viaje_en_ny'\n",
    "    ],\n",
    "    axis=1\n",
    ")\n",
    "\n",
    "df1.columns\n"
   ],
   "id": "81849989aac2db74",
   "outputs": [
    {
     "data": {
      "text/plain": [
       "Index(['fare_amount', 'pickup_longitude', 'pickup_latitude',\n",
       "       'dropoff_longitude', 'dropoff_latitude', 'distance_km',\n",
       "       'dia_de_la_semana', 'franja_horaria', 'Feriado', 'week_of_month'],\n",
       "      dtype='object')"
      ]
     },
     "execution_count": 139,
     "metadata": {},
     "output_type": "execute_result"
    }
   ],
   "execution_count": 139
  },
  {
   "metadata": {
    "ExecuteTime": {
     "end_time": "2025-09-18T20:11:39.820932Z",
     "start_time": "2025-09-18T20:11:39.787444Z"
    }
   },
   "cell_type": "code",
   "source": [
    "#Convertimos las columnas numéricas a categóricas\n",
    "df1['franja_horaria'] = df1['franja_horaria'].astype('category')\n",
    "df1['Feriado'] = df1['Feriado'].astype('category')\n",
    "df1['dia_de_la_semana'] = df1['dia_de_la_semana'].astype('category')\n",
    "df1['week_of_month'] = df1['week_of_month'].astype('category')\n",
    "\n",
    "df1.info()\n"
   ],
   "id": "abc10a4107efbab0",
   "outputs": [
    {
     "name": "stdout",
     "output_type": "stream",
     "text": [
      "<class 'pandas.core.frame.DataFrame'>\n",
      "Index: 199999 entries, 0 to 199999\n",
      "Data columns (total 10 columns):\n",
      " #   Column             Non-Null Count   Dtype   \n",
      "---  ------             --------------   -----   \n",
      " 0   fare_amount        199999 non-null  float64 \n",
      " 1   pickup_longitude   195878 non-null  float64 \n",
      " 2   pickup_latitude    195878 non-null  float64 \n",
      " 3   dropoff_longitude  195879 non-null  float64 \n",
      " 4   dropoff_latitude   195879 non-null  float64 \n",
      " 5   distance_km        195624 non-null  float64 \n",
      " 6   dia_de_la_semana   199999 non-null  category\n",
      " 7   franja_horaria     199999 non-null  category\n",
      " 8   Feriado            199999 non-null  category\n",
      " 9   week_of_month      199999 non-null  category\n",
      "dtypes: category(4), float64(6)\n",
      "memory usage: 11.4 MB\n"
     ]
    }
   ],
   "execution_count": 150
  },
  {
   "metadata": {
    "ExecuteTime": {
     "end_time": "2025-09-18T20:15:32.158287Z",
     "start_time": "2025-09-18T20:15:32.022748Z"
    }
   },
   "cell_type": "code",
   "source": [
    "#One Hot Encoding\n",
    "\n",
    "categorical_cols = ['franja_horaria', 'Feriado', 'dia_de_la_semana', 'week_of_month']\n",
    "\n",
    "encoder = OneHotEncoder(sparse_output=False, drop=None)\n",
    "\n",
    "\n",
    "encoded_array = encoder.fit_transform(df1[categorical_cols])\n",
    "\n",
    "\n",
    "encoded_df = pd.DataFrame(encoded_array, columns=encoder.get_feature_names_out(categorical_cols))\n",
    "\n",
    "df_encoded = pd.concat([df1.drop(columns=categorical_cols), encoded_df], axis=1)\n",
    "\n",
    "print(df_encoded.head())"
   ],
   "id": "8bd20ec8dbb86a66",
   "outputs": [
    {
     "name": "stdout",
     "output_type": "stream",
     "text": [
      "   fare_amount  pickup_longitude  pickup_latitude  dropoff_longitude  \\\n",
      "0          7.5        -73.999817        40.738354         -73.999512   \n",
      "1          7.7        -73.994355        40.728225         -73.994710   \n",
      "2         12.9        -74.005043        40.740770         -73.962565   \n",
      "3          5.3        -73.976124        40.790844         -73.965316   \n",
      "4         16.0        -73.925023        40.744085         -73.973082   \n",
      "\n",
      "   dropoff_latitude  distance_km  franja_horaria_Madrugada  \\\n",
      "0         40.723217     1.681111                       0.0   \n",
      "1         40.750325     2.454363                       0.0   \n",
      "2         40.772647     5.039603                       0.0   \n",
      "3         40.803349     1.661442                       0.0   \n",
      "4         40.761247     4.483730                       0.0   \n",
      "\n",
      "   franja_horaria_Mañana  franja_horaria_Noche  franja_horaria_Tarde  ...  \\\n",
      "0                    0.0                   1.0                   0.0  ...   \n",
      "1                    0.0                   1.0                   0.0  ...   \n",
      "2                    0.0                   1.0                   0.0  ...   \n",
      "3                    1.0                   0.0                   0.0  ...   \n",
      "4                    0.0                   0.0                   1.0  ...   \n",
      "\n",
      "   dia_de_la_semana_1  dia_de_la_semana_2  dia_de_la_semana_3  \\\n",
      "0                 0.0                 0.0                 1.0   \n",
      "1                 0.0                 0.0                 0.0   \n",
      "2                 0.0                 0.0                 0.0   \n",
      "3                 0.0                 0.0                 0.0   \n",
      "4                 0.0                 0.0                 1.0   \n",
      "\n",
      "   dia_de_la_semana_4  dia_de_la_semana_5  dia_de_la_semana_6  \\\n",
      "0                 0.0                 0.0                 0.0   \n",
      "1                 1.0                 0.0                 0.0   \n",
      "2                 0.0                 0.0                 0.0   \n",
      "3                 1.0                 0.0                 0.0   \n",
      "4                 0.0                 0.0                 0.0   \n",
      "\n",
      "   week_of_month_1  week_of_month_2  week_of_month_3  week_of_month_4  \n",
      "0              1.0              0.0              0.0              0.0  \n",
      "1              0.0              0.0              1.0              0.0  \n",
      "2              0.0              0.0              0.0              1.0  \n",
      "3              0.0              0.0              0.0              1.0  \n",
      "4              0.0              0.0              0.0              1.0  \n",
      "\n",
      "[5 rows x 23 columns]\n"
     ]
    }
   ],
   "execution_count": 157
  },
  {
   "metadata": {},
   "cell_type": "code",
   "outputs": [],
   "execution_count": null,
   "source": "",
   "id": "983972fb6f9ac701"
  }
 ],
 "metadata": {
  "kernelspec": {
   "display_name": "Python 3",
   "language": "python",
   "name": "python3"
  },
  "language_info": {
   "codemirror_mode": {
    "name": "ipython",
    "version": 2
   },
   "file_extension": ".py",
   "mimetype": "text/x-python",
   "name": "python",
   "nbconvert_exporter": "python",
   "pygments_lexer": "ipython2",
   "version": "2.7.6"
  }
 },
 "nbformat": 4,
 "nbformat_minor": 5
}
